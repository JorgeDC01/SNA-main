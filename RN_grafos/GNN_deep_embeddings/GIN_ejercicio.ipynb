{
 "cells": [
  {
   "cell_type": "markdown",
   "metadata": {},
   "source": [
    "# Ejercicio Graph Isomorphism Network (GIN)"
   ]
  },
  {
   "cell_type": "markdown",
   "metadata": {},
   "source": [
    "# Caso real: Citations\n",
    "\n",
    "Probaremos la red en un dataset real con una tarea real, prediccion de la categoria de un paper segun la red de citas.\n",
    "\n",
    "* Los nodos son articulos\n",
    "* Las aristas son citas entre articulos\n",
    "* Los atributos de los nodos representan el texto del articulo.\n",
    "* Predecir una categoria de entre 7 posibles\n",
    "\n",
    "Mensaje: identidad, z\n",
    "Agregacion: suma\n",
    "update: MLP (un parametro), (i+...) (segundo parametro) y lo que resulta de la agregacion (es agg_out)\n",
    "\n",
    "todo lo que dependa de zv, tiene que ser la agregacion: lo que afecta al mensaje (la suma)\n",
    "v son vecinos de u, vienen de la capa anterior.\n",
    "\n",
    "u es el nodo actual\n",
    "\n",
    "\n",
    "---\n",
    "\n",
    "En el contexto de las **Redes Neuronales de Grafos (GNNs)**, la ecuación:\n",
    "\n",
    "$$\n",
    "z_u^l = \\text{MLP}_{\\theta}^l \\left( \\left( 1 + \\epsilon^l \\right) \\odot z_u^{l-1} + \\sum_{v \\in \\mathcal{N}(u)} z_v^{l-1} \\right)\n",
    "$$\n",
    "\n",
    "representa cómo un nodo \\( u \\) actualiza su representación en la capa \\( l \\). Esta ecuación describe tres componentes clave: **mensaje**, **agregación** y **actualización**. Vamos a desglosarlos:\n",
    "\n",
    "---\n",
    "\n",
    "#### 1. Mensaje\n",
    "\n",
    "El **mensaje** es la información que un nodo \\( u \\) recibe de sus vecinos. En este caso, el mensaje que recibe el nodo \\( u \\) está dado por las representaciones de los vecinos \\( v \\), es decir:\n",
    "\n",
    "$$\n",
    "\\text{Mensaje} = z_v^{l-1}, \\quad \\forall v \\in \\mathcal{N}(u)\n",
    "$$\n",
    "\n",
    "Este mensaje se usa para influir en la nueva representación del nodo \\( u \\).\n",
    "\n",
    "---\n",
    "\n",
    "#### 2. Agregación\n",
    "\n",
    "La **agregación** es el proceso de combinar los mensajes recibidos de todos los vecinos de un nodo. En este caso, se realiza una **suma** de las representaciones \\( z_v\\) de los vecinos \\( v \\) de \\( u \\), es decir:\n",
    "\n",
    "$$\n",
    "\\text{Agregación} = \\sum_{v \\in \\mathcal{N}(u)} z_v^{l-1}\n",
    "$$\n",
    "\n",
    "Este paso permite que el nodo \\( u \\) capture la información global de su vecindad, lo cual es fundamental para actualizar su representación.\n",
    "\n",
    "---\n",
    "\n",
    "#### 3. Actualización\n",
    "\n",
    "La **actualización** de la representación de \\( u \\) se realiza después de combinar su propia representación ajustada con la agregación de los mensajes de sus vecinos. La ecuación completa de actualización es:\n",
    "\n",
    "$$\n",
    "z_u^l = \\text{MLP}_{\\theta}^l \\left( \\left( 1 + \\epsilon^l \\right) \\odot z_u^{l-1} + \\sum_{v \\in \\mathcal{N}(u)} z_v^{l-1} \\right)\n",
    "$$\n",
    "\n",
    "- El nodo \\( u \\) ajusta su propia representación en la capa anterior, multiplicándola por (1 + \\epsilon), lo cual puede ser un parámetro de regularización o influencia.\n",
    "- La información combinada de su propio estado ajustado y la agregación de los mensajes de los vecinos se pasa a través de una **MLP** (Perceptrón Multicapa) para obtener la nueva representación \\( z_u^l \\).\n",
    "\n"
   ]
  },
  {
   "cell_type": "code",
   "execution_count": 1,
   "metadata": {},
   "outputs": [],
   "source": [
    "!pip install torch-geometric --quiet"
   ]
  },
  {
   "cell_type": "code",
   "execution_count": 2,
   "metadata": {},
   "outputs": [],
   "source": [
    "!pip install torch torchvision torchaudio --quiet"
   ]
  },
  {
   "cell_type": "markdown",
   "metadata": {},
   "source": [
    "## Cargar dataset"
   ]
  },
  {
   "cell_type": "code",
   "execution_count": 3,
   "metadata": {},
   "outputs": [
    {
     "name": "stdout",
     "output_type": "stream",
     "text": [
      "Number of graphs: 1\n",
      "Attributes: ['x', 'edge_index', 'y']\n",
      "Number of nodes: 2995\n",
      "Number of edges: 16316\n",
      "Number of node features: 2879\n",
      "Number of edge features: 0\n",
      "Number of classes: 7\n",
      "Contains isolated nodes: False\n",
      "Contains self-loops: False\n",
      "Is undirected: True\n"
     ]
    }
   ],
   "source": [
    "from torch_geometric.datasets import CitationFull\n",
    "\n",
    "dataset = CitationFull(root='CitationFull', name='Cora_ML')\n",
    "print(f\"Number of graphs: {len(dataset)}\")\n",
    "\n",
    "data = dataset[0]\n",
    "print(f\"Attributes: {data.keys()}\")\n",
    "print(f\"Number of nodes: {data.num_nodes}\")\n",
    "print(f\"Number of edges: {data.num_edges}\")\n",
    "print(f\"Number of node features: {data.num_node_features}\")\n",
    "print(f\"Number of edge features: {data.num_edge_features}\")\n",
    "print(f\"Number of classes: {dataset.num_classes}\")\n",
    "print(f\"Contains isolated nodes: {data.has_isolated_nodes()}\")\n",
    "print(f\"Contains self-loops: {data.has_self_loops()}\")\n",
    "print(f\"Is undirected: {data.is_undirected()}\")"
   ]
  },
  {
   "cell_type": "markdown",
   "metadata": {},
   "source": [
    "## Definir una capa nueva de paso de mensajes\n",
    "\n",
    "$$\n",
    "z_u^l = \\text{MLP}_{\\theta}^l \\left( \\left( 1 + \\epsilon^l \\right) \\odot z_u^{l-1} + \\sum_{v \\in \\mathcal{N}(u)} z_v^{l-1} \\right)\n",
    "$$"
   ]
  },
  {
   "cell_type": "code",
   "execution_count": 34,
   "metadata": {},
   "outputs": [],
   "source": [
    "import torch\n",
    "from torch.nn import Linear, Parameter\n",
    "from torch_geometric.nn import MessagePassing\n",
    "from torch_geometric.utils import add_self_loops\n",
    "from torch_geometric.nn import  MLP\n",
    "\n",
    "class GIN(MessagePassing):\n",
    "    def __init__(self, in_channels, out_channels):\n",
    "        super(GIN, self).__init__(aggr='sum')  # Agregación por suma\n",
    "        # MLP para aprender la transformación de características\n",
    "        self.mlp = MLP(\n",
    "            in_channels=in_channels,\n",
    "            out_channels=out_channels,\n",
    "            hidden_channels=32,  # Número de neuronas en la capa oculta\n",
    "            num_layers=2,  # Número de capas en el MLP\n",
    "            act=torch.nn.ReLU()\n",
    "        )\n",
    "        # Parámetro epsilon que se aprende\n",
    "        self.epsilon = Parameter(torch.tensor(0.0, dtype=torch.float32))\n",
    "        self.reset_parameters()\n",
    "\n",
    "    def reset_parameters(self):\n",
    "        #self.mlp.reset_parameters()\n",
    "        self.epsilon.data.fill_(0.5)  # Inicialización de epsilon a 0.5\n",
    "\n",
    "    def forward(self, x, edge_index):\n",
    "        # Pasamos x como nodo central para usarlo en `update`\n",
    "        return self.propagate(edge_index, x=x, central_node=x)\n",
    "\n",
    "    def message(self, x_j):\n",
    "        return x_j  # Mensaje es simplemente la información de los vecinos\n",
    "\n",
    "    def update(self, aggr_out, central_node):\n",
    "        # Aplicar la fórmula descrita\n",
    "        out = (1 + self.epsilon) * central_node + aggr_out\n",
    "        return self.mlp(out)  # Aplicar MLP después de sumar"
   ]
  },
  {
   "cell_type": "code",
   "execution_count": 35,
   "metadata": {},
   "outputs": [],
   "source": [
    "import torch\n",
    "import torch.nn.functional as F\n",
    "from torch_geometric.nn import  MLP\n",
    "\n",
    "class GCN(torch.nn.Module):\n",
    "    def __init__(self, node_features, hidden_channels, num_classes):\n",
    "        super(GCN, self).__init__()\n",
    "        self.conv1 = GIN(node_features, hidden_channels)\n",
    "        self.conv2 = GIN(hidden_channels, hidden_channels)\n",
    "        self.cls = MLP(\n",
    "            in_channels=hidden_channels,  # Cambiar a `hidden_channels`\n",
    "            out_channels=num_classes, \n",
    "            num_layers=2, \n",
    "            hidden_channels=hidden_channels, \n",
    "            act='relu',\n",
    "            dropout=0.5\n",
    "        )\n",
    "\n",
    "    def forward(self, x, edge_index):\n",
    "        # Entrada\n",
    "        x = self.conv1(x, edge_index)\n",
    "        x = F.relu(x)\n",
    "        x = F.dropout(x, p=0.5, training=self.training)\n",
    "        # Segunda capa GIN\n",
    "        x = self.conv2(x, edge_index)\n",
    "        x = F.relu(x)\n",
    "        x = F.dropout(x, p=0.5, training=self.training)\n",
    "        # Clasificación final\n",
    "        x = self.cls(x)\n",
    "        return x"
   ]
  },
  {
   "cell_type": "markdown",
   "metadata": {},
   "source": [
    "## Cargar dataset"
   ]
  },
  {
   "cell_type": "code",
   "execution_count": 36,
   "metadata": {},
   "outputs": [
    {
     "name": "stdout",
     "output_type": "stream",
     "text": [
      "Number of graphs: 1\n",
      "Attributes: ['x', 'edge_index', 'y']\n",
      "Number of nodes: 2995\n",
      "Number of edges: 16316\n",
      "Number of node features: 2879\n",
      "Number of edge features: 0\n",
      "Number of classes: 7\n",
      "Contains isolated nodes: False\n",
      "Contains self-loops: False\n",
      "Is undirected: True\n"
     ]
    }
   ],
   "source": [
    "from torch_geometric.datasets import CitationFull\n",
    "\n",
    "dataset = CitationFull(root='CitationFull', name='Cora_ML')\n",
    "print(f\"Number of graphs: {len(dataset)}\")\n",
    "\n",
    "data = dataset[0]\n",
    "print(f\"Attributes: {data.keys()}\")\n",
    "print(f\"Number of nodes: {data.num_nodes}\")\n",
    "print(f\"Number of edges: {data.num_edges}\")\n",
    "print(f\"Number of node features: {data.num_node_features}\")\n",
    "print(f\"Number of edge features: {data.num_edge_features}\")\n",
    "print(f\"Number of classes: {dataset.num_classes}\")\n",
    "print(f\"Contains isolated nodes: {data.has_isolated_nodes()}\")\n",
    "print(f\"Contains self-loops: {data.has_self_loops()}\")\n",
    "print(f\"Is undirected: {data.is_undirected()}\")"
   ]
  },
  {
   "cell_type": "markdown",
   "metadata": {},
   "source": [
    "## Dividir dataset"
   ]
  },
  {
   "cell_type": "code",
   "execution_count": 37,
   "metadata": {},
   "outputs": [],
   "source": [
    "import numpy as np\n",
    "from sklearn.model_selection import train_test_split\n",
    "\n",
    "train_idx, test_idx = train_test_split(np.arange(data.num_nodes), test_size=0.2, stratify=data.y)\n",
    "\n",
    "train_mask = np.zeros(data.num_nodes, dtype=bool)\n",
    "train_mask[train_idx] = True\n",
    "\n",
    "test_mask = np.zeros(data.num_nodes, dtype=bool)\n",
    "test_mask[test_idx] = True\n",
    "\n",
    "data.train_mask = torch.tensor(train_mask)\n",
    "data.test_mask = torch.tensor(test_mask)"
   ]
  },
  {
   "cell_type": "markdown",
   "metadata": {},
   "source": [
    "## Train"
   ]
  },
  {
   "cell_type": "code",
   "execution_count": 8,
   "metadata": {},
   "outputs": [],
   "source": [
    "!pip install torchmetrics --quiet"
   ]
  },
  {
   "cell_type": "code",
   "execution_count": 38,
   "metadata": {},
   "outputs": [
    {
     "name": "stdout",
     "output_type": "stream",
     "text": [
      "Epoch 0: Loss 2.0862016677856445, F1 Score 0.1143273115158081\n",
      "Epoch 10: Loss 1.6358572244644165, F1 Score 0.3023878037929535\n",
      "Epoch 20: Loss 1.376190185546875, F1 Score 0.3788899779319763\n",
      "Epoch 30: Loss 1.183387279510498, F1 Score 0.445170521736145\n",
      "Epoch 40: Loss 1.0359878540039062, F1 Score 0.4524482190608978\n",
      "Epoch 50: Loss 0.9492319226264954, F1 Score 0.5514733195304871\n",
      "Epoch 60: Loss 0.8385825157165527, F1 Score 0.5256386995315552\n",
      "Epoch 70: Loss 0.8142930865287781, F1 Score 0.5784188508987427\n",
      "Epoch 80: Loss 0.7741685509681702, F1 Score 0.5620482563972473\n",
      "Epoch 90: Loss 0.7533338665962219, F1 Score 0.5773921608924866\n",
      "Epoch 100: Loss 0.7382384538650513, F1 Score 0.5742613673210144\n",
      "Epoch 110: Loss 0.6986967921257019, F1 Score 0.5605551600456238\n",
      "Epoch 120: Loss 0.6517176032066345, F1 Score 0.6001763343811035\n",
      "Epoch 130: Loss 0.6610400080680847, F1 Score 0.6024633646011353\n",
      "Epoch 140: Loss 0.6493600606918335, F1 Score 0.5849583745002747\n",
      "Epoch 150: Loss 0.6368087530136108, F1 Score 0.602877676486969\n",
      "Epoch 160: Loss 0.6661727428436279, F1 Score 0.6008959412574768\n",
      "Epoch 170: Loss 0.6431760787963867, F1 Score 0.5801953673362732\n",
      "Epoch 180: Loss 0.6783979535102844, F1 Score 0.5839455723762512\n",
      "Epoch 190: Loss 0.6737191081047058, F1 Score 0.5982716083526611\n",
      "Epoch 200: Loss 0.5941740870475769, F1 Score 0.5812041163444519\n",
      "Epoch 210: Loss 0.6459012627601624, F1 Score 0.597443163394928\n",
      "Epoch 220: Loss 0.5935162305831909, F1 Score 0.5970596075057983\n",
      "Epoch 230: Loss 0.6046155691146851, F1 Score 0.581473171710968\n",
      "Epoch 240: Loss 0.5882001519203186, F1 Score 0.6166802048683167\n",
      "Epoch 250: Loss 0.5444814562797546, F1 Score 0.629073977470398\n",
      "Epoch 260: Loss 0.5808441042900085, F1 Score 0.6101945042610168\n",
      "Epoch 270: Loss 0.5766772627830505, F1 Score 0.6001952886581421\n",
      "Epoch 280: Loss 0.5566572546958923, F1 Score 0.6637510061264038\n",
      "Epoch 290: Loss 0.5656363368034363, F1 Score 0.6082983016967773\n"
     ]
    }
   ],
   "source": [
    "from torch.nn import CrossEntropyLoss\n",
    "from torch.optim import Adam\n",
    "from torchmetrics.classification import MulticlassF1Score\n",
    "\n",
    "# Definir el modelo\n",
    "model = GCN(node_features=dataset.num_node_features, hidden_channels=16, num_classes=dataset.num_classes)\n",
    "\n",
    "# Definir optimizador, función de pérdida y métrica\n",
    "optimizer = Adam(model.parameters(), lr=0.01, weight_decay=5e-4)\n",
    "criterion = CrossEntropyLoss()\n",
    "metric = MulticlassF1Score(num_classes=dataset.num_classes)\n",
    "\n",
    "# Entrenamiento\n",
    "model.train()\n",
    "for epoch in range(300):\n",
    "    optimizer.zero_grad()\n",
    "    out = model(data.x, data.edge_index)  # Predicciones\n",
    "    loss = criterion(out[data.train_mask], data.y[data.train_mask])  # Pérdida\n",
    "    loss.backward()\n",
    "    optimizer.step()\n",
    "\n",
    "    if epoch % 10 == 0:\n",
    "        model.eval()\n",
    "        pred = out.argmax(dim=1)\n",
    "        f1 = metric(pred[data.test_mask], data.y[data.test_mask])\n",
    "        print(f\"Epoch {epoch}: Loss {loss.item()}, F1 Score {f1}\")\n",
    "        model.train()"
   ]
  },
  {
   "cell_type": "markdown",
   "metadata": {},
   "source": [
    "## Test model"
   ]
  },
  {
   "cell_type": "code",
   "execution_count": 39,
   "metadata": {},
   "outputs": [
    {
     "name": "stdout",
     "output_type": "stream",
     "text": [
      "F1 score: 0.7095158597662772\n"
     ]
    },
    {
     "data": {
      "text/plain": [
       "<Axes: >"
      ]
     },
     "execution_count": 39,
     "metadata": {},
     "output_type": "execute_result"
    },
    {
     "data": {
      "image/png": "[encoded data removed]",
      "text/plain": [
       "<Figure size 640x480 with 2 Axes>"
      ]
     },
     "metadata": {},
     "output_type": "display_data"
    }
   ],
   "source": [
    "import seaborn as sns\n",
    "from sklearn.metrics import confusion_matrix, f1_score\n",
    "\n",
    "model.eval()\n",
    "y_pred = out.argmax(dim=1)[data.test_mask].detach().cpu()\n",
    "y = data.y[data.test_mask].detach().cpu()\n",
    "\n",
    "print(f\"F1 score: {f1_score(y, y_pred, average='micro')}\")\n",
    "sns.heatmap(confusion_matrix(y, y_pred), annot=True, fmt='g', cmap='Blues')"
   ]
  },
  {
   "cell_type": "markdown",
   "metadata": {},
   "source": [
    "*Número de \"saltos\" en el grafo:\n",
    "\n",
    "Cada capa del modelo (como conv1 y conv2) equivale a un salto o hop en el grafo.\n",
    "Por ejemplo:\n",
    "Después de la primera capa (conv1), cada nodo incorpora información de sus vecinos inmediatos.\n",
    "Después de la segunda capa (conv2), cada nodo tiene información de vecinos a 2 pasos de distancia (vecinos de vecinos).*"
   ]
  }
 ],
 "metadata": {
  "kernelspec": {
   "display_name": "Python 3 (ipykernel)",
   "language": "python",
   "name": "python3"
  },
  "language_info": {
   "codemirror_mode": {
    "name": "ipython",
    "version": 3
   },
   "file_extension": ".py",
   "mimetype": "text/x-python",
   "name": "python",
   "nbconvert_exporter": "python",
   "pygments_lexer": "ipython3",
   "version": "3.12.3"
  }
 },
 "nbformat": 4,
 "nbformat_minor": 4
}
