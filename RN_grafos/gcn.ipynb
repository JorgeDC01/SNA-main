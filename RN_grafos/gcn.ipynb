{
 "cells": [
  {
   "cell_type": "markdown",
   "metadata": {},
   "source": [
    "# Grafo del ejemplo\n",
    "Creamos el grafo del ejemplo de clase"
   ]
  },
  {
   "cell_type": "code",
   "execution_count": 1,
   "metadata": {},
   "outputs": [
    {
     "data": {
      "image/png": "[encoded data removed]",
      "text/plain": [
       "<Figure size 300x300 with 1 Axes>"
      ]
     },
     "metadata": {},
     "output_type": "display_data"
    }
   ],
   "source": [
    "import matplotlib.pyplot as plt\n",
    "import networkx as nx\n",
    "\n",
    "G = nx.from_edgelist([\n",
    "    (0, 1), \n",
    "    (0, 2), \n",
    "    (0, 3), \n",
    "    (1, 2), \n",
    "    (2, 4), \n",
    "    (2, 5), \n",
    "    (4, 5)\n",
    "])\n",
    "\n",
    "nx.set_node_attributes(G, {n: [float(n),float(n)] for n in G.nodes()}, 'x')\n",
    "nx.set_node_attributes(G, {n: float(G.degree(n)) for n in G.nodes()}, 'y')\n",
    "\n",
    "plt.figure(figsize=(3, 3))\n",
    "colors = {\n",
    "    0: \"yellow\",\n",
    "    1: \"red\",\n",
    "    2: \"green\",\n",
    "    3: \"blue\",\n",
    "    4: \"magenta\",\n",
    "    5: \"purple\"\n",
    "}\n",
    "nx.draw(G, with_labels=True, node_color=[colors[i] for i in range(6)], labels={0:'A', 1:'B', 2:'C', 3:'D', 4:'E', 5:'F'})"
   ]
  },
  {
   "cell_type": "markdown",
   "metadata": {},
   "source": [
    "# Implementacion manual\n",
    "Implementamos el paso de mensajes usando las ecuaciones vistas en clase\n",
    "\n",
    "$M^l = B^l + Z^{l-1}W^l$\n",
    "\n",
    "$Z^l = D^{-\\frac{1}{2}} A D^{-\\frac{1}{2}}$\n",
    "\n",
    "$Z^0 = X$"
   ]
  },
  {
   "cell_type": "code",
   "execution_count": 2,
   "metadata": {},
   "outputs": [
    {
     "name": "stdout",
     "output_type": "stream",
     "text": [
      "612.827392578125\n",
      "0.38435813784599304\n",
      "0.0847417414188385\n",
      "0.0658038929104805\n",
      "0.05634307861328125\n",
      "0.05140600726008415\n",
      "0.04480773210525513\n",
      "0.03583778813481331\n",
      "0.02512233518064022\n",
      "0.014622196555137634\n",
      "Predicted: ['3.00', '1.87', '3.98', '1.15', '2.06', '2.01']\n",
      "Actual: ['3.00', '2.00', '4.00', '1.00', '2.00', '2.00']\n"
     ]
    }
   ],
   "source": [
    "import torch\n",
    "\n",
    "# Graph input\n",
    "A = torch.tensor(nx.adjacency_matrix(G).todense(),dtype=torch.float32)\n",
    "D = torch.diag(torch.sum(A, dim=1)**-0.5)\n",
    "A = D @ A @ D\n",
    "X = torch.tensor([G.nodes[i]['x'] for i in G.nodes()], dtype=torch.float32)\n",
    "Y = torch.tensor([G.nodes[i]['y'] for i in G.nodes()], dtype=torch.float32).reshape(-1, 1)\n",
    "\n",
    "# Model definition\n",
    "nfeatures = 2\n",
    "nclasses = 1\n",
    "\n",
    "W_1 = torch.randn(nfeatures, 32, requires_grad=True)\n",
    "B_1 = torch.randn(32, requires_grad=True)\n",
    "\n",
    "W_2 = torch.randn(32, 32, requires_grad=True)\n",
    "B_2 = torch.randn(32, requires_grad=True)\n",
    "\n",
    "CLS = torch.randn(32, nclasses, requires_grad=True)\n",
    "B_CLS = torch.randn(nclasses, requires_grad=True)\n",
    "\n",
    "# Message passing\n",
    "def forward():\n",
    "    ML = B_1 + X @ W_1\n",
    "    H = torch.relu(A @ ML)\n",
    "    \n",
    "    ML = B_2 + H @ W_2\n",
    "    H = torch.relu(A @ ML)\n",
    "\n",
    "    H = torch.relu(H @ CLS + B_CLS)\n",
    "    return H\n",
    "\n",
    "# Loss\n",
    "loss = torch.nn.MSELoss()\n",
    "\n",
    "# Optimization\n",
    "optimizer = torch.optim.Adam([W_1, B_1, W_2, B_2, CLS, B_CLS], lr=0.001)\n",
    "for i in range(10000):\n",
    "    optimizer.zero_grad()\n",
    "    Y_pred = forward()\n",
    "    l = loss(Y_pred, Y)\n",
    "    l.backward()\n",
    "    optimizer.step()\n",
    "    if i % 1000 == 0:\n",
    "        print(l.item())\n",
    "\n",
    "y_pred = forward().detach().numpy()\n",
    "print(f\"Predicted: {[format(i, '.2f') for i in y_pred.flatten()]}\")\n",
    "print(f\"Actual: {[format(i, '.2f') for i in Y.flatten().numpy()]}\")"
   ]
  },
  {
   "cell_type": "markdown",
   "metadata": {},
   "source": [
    "# Implementacion con Pytorch Geometric\n",
    "\n",
    "Implementamos el mismo ejemplo usando pytroch geometric"
   ]
  },
  {
   "cell_type": "markdown",
   "metadata": {},
   "source": [
    "## Cargar Grafo a pythorch geometric"
   ]
  },
  {
   "cell_type": "code",
   "execution_count": 2,
   "metadata": {},
   "outputs": [
    {
     "name": "stdout",
     "output_type": "stream",
     "text": [
      "Data(x=[6, 2], edge_index=[2, 14], y=[6])\n",
      "Attributes: ['y', 'x', 'edge_index']\n",
      "Number of nodes: 6\n",
      "Number of edges: 14\n",
      "Number of node features: 2\n",
      "Number of edge features: 0\n",
      "Contains isolated nodes: False\n",
      "Contains self-loops: False\n",
      "Is undirected: True\n"
     ]
    }
   ],
   "source": [
    "from torch_geometric.utils.convert import from_networkx\n",
    "\n",
    "data = from_networkx(G)\n",
    "print(data)\n",
    "\n",
    "print(f\"Attributes: {data.keys()}\")\n",
    "print(f\"Number of nodes: {data.num_nodes}\")\n",
    "print(f\"Number of edges: {data.num_edges}\")\n",
    "print(f\"Number of node features: {data.num_node_features}\")\n",
    "print(f\"Number of edge features: {data.num_edge_features}\")\n",
    "print(f\"Contains isolated nodes: {data.has_isolated_nodes()}\")\n",
    "print(f\"Contains self-loops: {data.has_self_loops()}\")\n",
    "print(f\"Is undirected: {data.is_undirected()}\")"
   ]
  },
  {
   "cell_type": "markdown",
   "metadata": {},
   "source": [
    "## Definir Red\n",
    "\n",
    "Implementación de GCN de [pytorch_geometric]()\n",
    "\n",
    "$ \\mathbf{z}_i^{l} = W^l \\sum_{j \\in \\mathcal{N}(i) \\cup \\{i\\}} \\frac{\\mathbf{x}_j^{l-1}}{\\sqrt{d_j d_i}} + b^l$"
   ]
  },
  {
   "cell_type": "code",
   "execution_count": 65,
   "metadata": {},
   "outputs": [],
   "source": [
    "import torch\n",
    "from torch_geometric.nn import GCNConv, MLP\n",
    "import torch.nn.functional as F\n",
    "\n",
    "class GCN(torch.nn.Module):\n",
    "    def __init__(self, node_features, hidden_channels, num_classes):\n",
    "        super(GCN, self).__init__()\n",
    "        self.conv1 = GCNConv(node_features, hidden_channels)\n",
    "        self.conv2 = GCNConv(hidden_channels, hidden_channels)\n",
    "        self.cls = MLP(in_channels=hidden_channels, out_channels=num_classes, num_layers=1)\n",
    "\n",
    "    def forward(self, x, edge_index):\n",
    "        x = self.conv1(x, edge_index)\n",
    "        x = F.relu(x)\n",
    "        x = self.conv2(x, edge_index)\n",
    "        x = F.relu(x)\n",
    "        x = self.cls(x)\n",
    "        return x"
   ]
  },
  {
   "cell_type": "markdown",
   "metadata": {},
   "source": [
    "## Optimizar"
   ]
  },
  {
   "cell_type": "code",
   "execution_count": 67,
   "metadata": {},
   "outputs": [
    {
     "name": "stdout",
     "output_type": "stream",
     "text": [
      "7.596360683441162\n",
      "1.2639518976211548\n",
      "0.8472058773040771\n",
      "0.7289588451385498\n",
      "0.7016707062721252\n",
      "0.6856345534324646\n",
      "0.6505118012428284\n",
      "0.5882881283760071\n",
      "0.5034441947937012\n",
      "0.4440000057220459\n",
      "0.41278085112571716\n",
      "0.36798763275146484\n",
      "0.31914129853248596\n",
      "0.28400784730911255\n",
      "0.2499871402978897\n",
      "0.21222759783267975\n",
      "0.19176210463047028\n",
      "0.16453123092651367\n",
      "0.13799874484539032\n",
      "0.10919567197561264\n",
      "0.08032403141260147\n",
      "0.04847432300448418\n",
      "0.022421857342123985\n",
      "0.024399861693382263\n",
      "0.010339937172830105\n",
      "0.0031603306997567415\n",
      "0.0021455860696733\n",
      "0.0011079993564635515\n",
      "0.0007424320210702717\n",
      "0.00045849065645597875\n",
      "Predicted: ['2.97', '2.03', '4.00', '1.02', '2.00', '2.00']\n",
      "Actual: ['3.00', '2.00', '4.00', '1.00', '2.00', '2.00']\n"
     ]
    }
   ],
   "source": [
    "model = GCN(node_features=data.num_node_features, hidden_channels=32, num_classes=1)\n",
    "\n",
    "# Loss\n",
    "loss = torch.nn.MSELoss()\n",
    "\n",
    "# Optimization\n",
    "optimizer = torch.optim.Adam(model.parameters(), lr=0.01, weight_decay=5e-4)\n",
    "\n",
    "for i in range(300):\n",
    "    optimizer.zero_grad()\n",
    "    Y_pred = model(data.x, data.edge_index)\n",
    "    l = loss(Y_pred, data.y.reshape(-1, 1))\n",
    "    l.backward()\n",
    "    optimizer.step()\n",
    "    if i % 10 == 0:\n",
    "        print(l.item())\n",
    "\n",
    "y_pred = model(data.x, data.edge_index).detach().numpy()\n",
    "print(f\"Predicted: {[format(i, '.2f') for i in y_pred.flatten()]}\")\n",
    "print(f\"Actual: {[format(i, '.2f') for i in data.y.flatten().numpy()]}\")"
   ]
  },
  {
   "cell_type": "markdown",
   "metadata": {},
   "source": [
    "# Caso real: Citations\n",
    "\n",
    "Probaremos la red en un dataset real con una tarea real, prediccion de la categoria de un paper segun la red de citas.\n",
    "\n",
    "* Los nodos son articulos\n",
    "* Las aristas son citas entre articulos\n",
    "* Los atributos de los nodos representan el texto del articulo.\n",
    "* Predecir una categoria de entre 7 posibles"
   ]
  },
  {
   "cell_type": "markdown",
   "metadata": {},
   "source": [
    "## Cargar dataset"
   ]
  },
  {
   "cell_type": "code",
   "execution_count": 16,
   "metadata": {},
   "outputs": [
    {
     "name": "stderr",
     "output_type": "stream",
     "text": [
      "Downloading https://github.com/abojchevski/graph2gauss/raw/master/data/cora_ml.npz\n",
      "Processing...\n"
     ]
    },
    {
     "name": "stdout",
     "output_type": "stream",
     "text": [
      "Number of graphs: 1\n",
      "Attributes: ['y', 'x', 'edge_index']\n",
      "Number of nodes: 2995\n",
      "Number of edges: 16316\n",
      "Number of node features: 2879\n",
      "Number of edge features: 0\n",
      "Number of classes: 7\n",
      "Contains isolated nodes: False\n",
      "Contains self-loops: False\n",
      "Is undirected: True\n"
     ]
    },
    {
     "name": "stderr",
     "output_type": "stream",
     "text": [
      "Done!\n"
     ]
    }
   ],
   "source": [
    "from torch_geometric.datasets import CitationFull\n",
    "\n",
    "dataset = CitationFull(root='CitationFull', name='Cora_ML')\n",
    "print(f\"Number of graphs: {len(dataset)}\")\n",
    "\n",
    "data = dataset[0]\n",
    "print(f\"Attributes: {data.keys()}\")\n",
    "print(f\"Number of nodes: {data.num_nodes}\")\n",
    "print(f\"Number of edges: {data.num_edges}\")\n",
    "print(f\"Number of node features: {data.num_node_features}\")\n",
    "print(f\"Number of edge features: {data.num_edge_features}\")\n",
    "print(f\"Number of classes: {dataset.num_classes}\")\n",
    "print(f\"Contains isolated nodes: {data.has_isolated_nodes()}\")\n",
    "print(f\"Contains self-loops: {data.has_self_loops()}\")\n",
    "print(f\"Is undirected: {data.is_undirected()}\")"
   ]
  },
  {
   "cell_type": "markdown",
   "metadata": {},
   "source": [
    "## Definir una capa nueva de paso de mensajes\n",
    "\n",
    "$ \\mathbf{z}_i^{l} = W^l \\sum_{j \\in \\mathcal{N}(i) \\cup \\{i\\}} \\mathbf{x}_j^{l-1} $\n",
    "\n",
    "* **MSG**: $m_u^l = b^l + W^lz^{l-1}_u $\n",
    "* **AGG**: $a_u^l = \\sum_{v \\in N(u) \\cup \\{u\\}} m_v^l$ \n",
    "* **UPDATE**: $z_u^l = a_u^l$"
   ]
  },
  {
   "cell_type": "code",
   "execution_count": 27,
   "metadata": {},
   "outputs": [],
   "source": [
    "import torch\n",
    "from torch.nn import Linear, Parameter\n",
    "from torch_geometric.nn import MessagePassing\n",
    "from torch_geometric.utils import add_self_loops\n",
    "\n",
    "class CustomGCNConv(MessagePassing):\n",
    "    def __init__(self, in_channels, out_channels):\n",
    "        super(CustomGCNConv, self).__init__(aggr='sum')\n",
    "        \n",
    "        self.W_m = Linear(in_channels, out_channels)\n",
    "        self.b_m = Parameter(torch.Tensor(out_channels))\n",
    "\n",
    "        self.reset_parameters()\n",
    "\n",
    "    def reset_parameters(self):\n",
    "        self.W_m.reset_parameters()\n",
    "        self.b_m.data.zero_()\n",
    "\n",
    "    def forward(self, x, edge_index):\n",
    "        edge_index, _ = add_self_loops(edge_index, num_nodes=x.size(0))\n",
    "        return self.propagate(edge_index, x=x)\n",
    "    \n",
    "    def message(self, x_j):\n",
    "        return self.W_m(x_j) + self.b_m\n",
    "    \n",
    "    def update(self, aggr_out):\n",
    "        return aggr_out"
   ]
  },
  {
   "cell_type": "markdown",
   "metadata": {},
   "source": [
    "## Definir una red"
   ]
  },
  {
   "cell_type": "code",
   "execution_count": 28,
   "metadata": {},
   "outputs": [],
   "source": [
    "import torch\n",
    "import torch.nn.functional as F\n",
    "from torch_geometric.nn import  MLP\n",
    "\n",
    "class GCN(torch.nn.Module):\n",
    "    def __init__(self, node_features, hidden_channels, num_classes):\n",
    "        super(GCN, self).__init__()\n",
    "        self.conv1 = CustomGCNConv(node_features, hidden_channels)\n",
    "        self.conv2 = CustomGCNConv(hidden_channels, hidden_channels)\n",
    "        self.cls = MLP(in_channels=hidden_channels, out_channels=num_classes, num_layers=2, hidden_channels=hidden_channels)\n",
    "\n",
    "    def forward(self, x, edge_index):\n",
    "        x = self.conv1(x, edge_index)\n",
    "        x = F.relu(x)\n",
    "        x = F.dropout(x, p=0.5, training=self.training)\n",
    "        x = self.conv2(x, edge_index)\n",
    "        x = F.relu(x)\n",
    "        x = F.dropout(x, p=0.5, training=self.training)\n",
    "        x = self.cls(x)\n",
    "        return x"
   ]
  },
  {
   "cell_type": "markdown",
   "metadata": {},
   "source": [
    "## Dividir dataset"
   ]
  },
  {
   "cell_type": "code",
   "execution_count": 29,
   "metadata": {},
   "outputs": [],
   "source": [
    "import numpy as np\n",
    "from sklearn.model_selection import train_test_split\n",
    "\n",
    "train_idx, test_idx = train_test_split(np.arange(data.num_nodes), test_size=0.2, stratify=data.y)\n",
    "\n",
    "train_mask = np.zeros(data.num_nodes, dtype=bool)\n",
    "train_mask[train_idx] = True\n",
    "\n",
    "test_mask = np.zeros(data.num_nodes, dtype=bool)\n",
    "test_mask[test_idx] = True\n",
    "\n",
    "data.train_mask = torch.tensor(train_mask)\n",
    "data.test_mask = torch.tensor(test_mask)"
   ]
  },
  {
   "cell_type": "markdown",
   "metadata": {},
   "source": [
    "## Train"
   ]
  },
  {
   "cell_type": "code",
   "execution_count": 32,
   "metadata": {},
   "outputs": [
    {
     "name": "stdout",
     "output_type": "stream",
     "text": [
      "Epoch 0: Loss 1.9902137517929077\n",
      "Epoch 10: Loss 1.6970956325531006\n",
      "Epoch 20: Loss 1.4844785928726196\n",
      "Epoch 30: Loss 1.2917561531066895\n",
      "Epoch 40: Loss 1.1757278442382812\n",
      "Epoch 50: Loss 1.0376250743865967\n",
      "Epoch 60: Loss 0.9295595288276672\n",
      "Epoch 70: Loss 0.9273625612258911\n",
      "Epoch 80: Loss 0.8349145650863647\n",
      "Epoch 90: Loss 0.8305865526199341\n",
      "Epoch 100: Loss 0.8356637954711914\n",
      "Epoch 110: Loss 0.7314668297767639\n",
      "Epoch 120: Loss 0.664432942867279\n",
      "Epoch 130: Loss 0.767339289188385\n",
      "Epoch 140: Loss 0.640615701675415\n",
      "Epoch 150: Loss 0.6425914168357849\n",
      "Epoch 160: Loss 0.5915405750274658\n",
      "Epoch 170: Loss 0.5684178471565247\n",
      "Epoch 180: Loss 0.5905574560165405\n",
      "Epoch 190: Loss 0.5661591291427612\n",
      "Epoch 200: Loss 0.58221435546875\n",
      "Epoch 210: Loss 0.633258581161499\n",
      "Epoch 220: Loss 0.594312846660614\n",
      "Epoch 230: Loss 0.5572912096977234\n",
      "Epoch 240: Loss 0.6170610189437866\n",
      "Epoch 250: Loss 0.5644599795341492\n",
      "Epoch 260: Loss 0.5924892425537109\n",
      "Epoch 270: Loss 0.6029545068740845\n",
      "Epoch 280: Loss 0.5391306281089783\n",
      "Epoch 290: Loss 0.5439932346343994\n",
      "Epoch 300: Loss 0.547349750995636\n",
      "Epoch 310: Loss 0.5141993165016174\n",
      "Epoch 320: Loss 0.5230076313018799\n",
      "Epoch 330: Loss 0.55258709192276\n",
      "Epoch 340: Loss 0.5734408497810364\n",
      "Epoch 350: Loss 0.5615832209587097\n",
      "Epoch 360: Loss 0.563055694103241\n",
      "Epoch 370: Loss 0.5703341960906982\n",
      "Epoch 380: Loss 0.554731011390686\n",
      "Epoch 390: Loss 0.529550313949585\n",
      "Epoch 400: Loss 0.5216469168663025\n",
      "Epoch 410: Loss 0.5060848593711853\n",
      "Epoch 420: Loss 0.4952072501182556\n",
      "Epoch 430: Loss 0.4739798605442047\n",
      "Epoch 440: Loss 0.4899002015590668\n",
      "Epoch 450: Loss 0.4677160084247589\n",
      "Epoch 460: Loss 0.4915113151073456\n",
      "Epoch 470: Loss 0.5539090633392334\n",
      "Epoch 480: Loss 0.5146011114120483\n",
      "Epoch 490: Loss 0.4948408901691437\n",
      "Epoch 500: Loss 0.49474358558654785\n",
      "Epoch 510: Loss 0.5026631951332092\n",
      "Epoch 520: Loss 0.4876430332660675\n",
      "Epoch 530: Loss 0.49928510189056396\n",
      "Epoch 540: Loss 0.47607097029685974\n",
      "Epoch 550: Loss 0.5517981648445129\n",
      "Epoch 560: Loss 0.48578977584838867\n",
      "Epoch 570: Loss 0.5479885339736938\n",
      "Epoch 580: Loss 0.5038105249404907\n",
      "Epoch 590: Loss 0.5465717315673828\n",
      "Epoch 600: Loss 0.5299098491668701\n",
      "Epoch 610: Loss 0.5183899998664856\n",
      "Epoch 620: Loss 0.5294474959373474\n",
      "Epoch 630: Loss 0.5079265832901001\n",
      "Epoch 640: Loss 0.4829446077346802\n",
      "Epoch 650: Loss 0.5012256503105164\n",
      "Epoch 660: Loss 0.5382208824157715\n",
      "Epoch 670: Loss 0.5190858244895935\n",
      "Epoch 680: Loss 0.4893074333667755\n",
      "Epoch 690: Loss 0.5193598866462708\n",
      "Epoch 700: Loss 0.47279003262519836\n",
      "Epoch 710: Loss 0.507295548915863\n",
      "Epoch 720: Loss 0.5434519648551941\n",
      "Epoch 730: Loss 0.5013377070426941\n",
      "Epoch 740: Loss 0.49279776215553284\n",
      "Epoch 750: Loss 0.47473588585853577\n",
      "Epoch 760: Loss 0.5153161883354187\n",
      "Epoch 770: Loss 0.5150184035301208\n",
      "Epoch 780: Loss 0.47951868176460266\n",
      "Epoch 790: Loss 0.44480323791503906\n",
      "Epoch 800: Loss 0.49270710349082947\n",
      "Epoch 810: Loss 0.45988452434539795\n",
      "Epoch 820: Loss 0.449206680059433\n",
      "Epoch 830: Loss 0.44080156087875366\n",
      "Epoch 840: Loss 0.46236592531204224\n",
      "Epoch 850: Loss 0.4669291377067566\n",
      "Epoch 860: Loss 0.4423901438713074\n",
      "Epoch 870: Loss 0.6926478743553162\n",
      "Epoch 880: Loss 0.6084703803062439\n",
      "Epoch 890: Loss 0.5612135529518127\n",
      "Epoch 900: Loss 0.5302842855453491\n",
      "Epoch 910: Loss 0.5145479440689087\n",
      "Epoch 920: Loss 0.4551219940185547\n",
      "Epoch 930: Loss 0.47220444679260254\n",
      "Epoch 940: Loss 0.4538026452064514\n",
      "Epoch 950: Loss 0.45037204027175903\n",
      "Epoch 960: Loss 0.46027079224586487\n",
      "Epoch 970: Loss 0.4905717372894287\n",
      "Epoch 980: Loss 0.4651845395565033\n",
      "Epoch 990: Loss 0.5587198734283447\n"
     ]
    }
   ],
   "source": [
    "from torch.nn import CrossEntropyLoss\n",
    "from torchmetrics.classification import MulticlassF1Score\n",
    "from torch.optim import Adam\n",
    "\n",
    "model = GCN(dataset.num_node_features, 16, dataset.num_classes)\n",
    "\n",
    "optimizer = Adam(model.parameters(), lr=0.01, weight_decay=5e-4)\n",
    "optm_func = CrossEntropyLoss()\n",
    "metric = MulticlassF1Score(num_classes=dataset.num_classes)\n",
    "\n",
    "model.train()\n",
    "for epoch in range(300):\n",
    "    optimizer.zero_grad()\n",
    "    out = model(data.x, data.edge_index)\n",
    "    loss = optm_func(out[data.train_mask], data.y[data.train_mask])\n",
    "    loss.backward()\n",
    "    optimizer.step()\n",
    "    \n",
    "    if epoch % 10 == 0:\n",
    "        print(f\"Epoch {epoch}: Loss {loss.item()}\")"
   ]
  },
  {
   "cell_type": "markdown",
   "metadata": {},
   "source": [
    "## Test model"
   ]
  },
  {
   "cell_type": "code",
   "execution_count": 33,
   "metadata": {},
   "outputs": [
    {
     "name": "stdout",
     "output_type": "stream",
     "text": [
      "F1 score: 0.7479131886477463\n"
     ]
    },
    {
     "data": {
      "text/plain": [
       "<Axes: >"
      ]
     },
     "execution_count": 33,
     "metadata": {},
     "output_type": "execute_result"
    },
    {
     "data": {
      "image/png": "[encoded data removed]",
      "text/plain": [
       "<Figure size 640x480 with 2 Axes>"
      ]
     },
     "metadata": {},
     "output_type": "display_data"
    }
   ],
   "source": [
    "import seaborn as sns\n",
    "from sklearn.metrics import confusion_matrix, f1_score\n",
    "\n",
    "model.eval()\n",
    "y_pred = out.argmax(dim=1)[data.test_mask].detach().cpu()\n",
    "y = data.y[data.test_mask].detach().cpu()\n",
    "\n",
    "print(f\"F1 score: {f1_score(y, y_pred, average='micro')}\")\n",
    "sns.heatmap(confusion_matrix(y, y_pred), annot=True, fmt='g', cmap='Blues')"
   ]
  },
  {
   "cell_type": "markdown",
   "metadata": {},
   "source": [
    "# Agregador universal\n",
    "$\\text{MLP}_{\\theta} \\left( \\sum_{v \\in N(u)} \\text{MLP}_{\\phi} \\left( z_v^{l-1} \\right) \\right)$\n",
    "\n",
    "* **MSG**: $m_u^l = \\text{MLP}_{\\phi} \\left( z_v^{l-1} \\right) $\n",
    "* **AGG**: $a_u^l = \\sum_{v \\in N(u)} m_v^l$ \n",
    "* **UPDATE**: $z_u^l = \\text{MLP}_{\\theta} \\left( a_v^{l} \\right)$"
   ]
  },
  {
   "cell_type": "markdown",
   "metadata": {},
   "source": [
    "## Definir la capa del agregador universal"
   ]
  },
  {
   "cell_type": "code",
   "execution_count": null,
   "metadata": {},
   "outputs": [],
   "source": [
    "from torch_geometric.nn import MessagePassing, MLP\n",
    "\n",
    "class UniversalAggregatorConv(MessagePassing):\n",
    "    def __init__(self, in_channels, out_channels, hidden_channels, num_layers):\n",
    "        super(UniversalAggregatorConv, self).__init__(aggr='sum')\n",
    "        \n",
    "        self.MLP_phi = MLP(\n",
    "            in_channels=in_channels, \n",
    "            out_channels=out_channels,\n",
    "            hidden_channels=hidden_channels, \n",
    "            num_layers=num_layers\n",
    "        )\n",
    "        self.MLP_theta = MLP(\n",
    "            in_channels=out_channels, \n",
    "            out_channels=out_channels,\n",
    "            hidden_channels=hidden_channels, \n",
    "            num_layers=num_layers\n",
    "        )\n",
    "\n",
    "        self.reset_parameters()\n",
    "\n",
    "    def reset_parameters(self):\n",
    "        self.MLP_phi.reset_parameters()\n",
    "        self.MLP_theta.reset_parameters()\n",
    "\n",
    "    def forward(self, x, edge_index):\n",
    "        return self.propagate(edge_index, x=x)\n",
    "    \n",
    "    def message(self, x_j):\n",
    "        return self.MLP_phi(x_j)\n",
    "    \n",
    "    def update(self, aggr_out):\n",
    "        return self.MLP_theta(aggr_out)"
   ]
  },
  {
   "cell_type": "markdown",
   "metadata": {},
   "source": [
    "## Definir la red"
   ]
  },
  {
   "cell_type": "code",
   "execution_count": 30,
   "metadata": {},
   "outputs": [],
   "source": [
    "import torch\n",
    "import torch.nn.functional as F\n",
    "\n",
    "class GCN(torch.nn.Module):\n",
    "    def __init__(self, node_features, hidden_channels, num_classes):\n",
    "        super(GCN, self).__init__()\n",
    "        self.conv1 = UniversalAggregatorConv(node_features, hidden_channels, 32, 2)\n",
    "        self.conv2 = UniversalAggregatorConv(hidden_channels, hidden_channels, 32, 2)\n",
    "        self.cls = Linear(hidden_channels, num_classes)\n",
    "\n",
    "    def forward(self, x, edge_index):\n",
    "        x = self.conv1(x, edge_index)\n",
    "        x = F.relu(x)\n",
    "        x = F.dropout(x, p=0.5, training=self.training)\n",
    "        x = self.conv2(x, edge_index)\n",
    "        x = F.relu(x)\n",
    "        x = F.dropout(x, p=0.5, training=self.training)\n",
    "        x = self.cls(x)\n",
    "        return x"
   ]
  },
  {
   "cell_type": "markdown",
   "metadata": {},
   "source": [
    "## Cargar dataset"
   ]
  },
  {
   "cell_type": "code",
   "execution_count": 25,
   "metadata": {},
   "outputs": [
    {
     "name": "stdout",
     "output_type": "stream",
     "text": [
      "Number of graphs: 1\n",
      "Attributes: ['y', 'x', 'edge_index']\n",
      "Number of nodes: 2995\n",
      "Number of edges: 16316\n",
      "Number of node features: 2879\n",
      "Number of edge features: 0\n",
      "Number of classes: 7\n",
      "Contains isolated nodes: False\n",
      "Contains self-loops: False\n",
      "Is undirected: True\n"
     ]
    }
   ],
   "source": [
    "from torch_geometric.datasets import CitationFull\n",
    "\n",
    "dataset = CitationFull(root='CitationFull', name='Cora_ML')\n",
    "print(f\"Number of graphs: {len(dataset)}\")\n",
    "\n",
    "data = dataset[0]\n",
    "print(f\"Attributes: {data.keys()}\")\n",
    "print(f\"Number of nodes: {data.num_nodes}\")\n",
    "print(f\"Number of edges: {data.num_edges}\")\n",
    "print(f\"Number of node features: {data.num_node_features}\")\n",
    "print(f\"Number of edge features: {data.num_edge_features}\")\n",
    "print(f\"Number of classes: {dataset.num_classes}\")\n",
    "print(f\"Contains isolated nodes: {data.has_isolated_nodes()}\")\n",
    "print(f\"Contains self-loops: {data.has_self_loops()}\")\n",
    "print(f\"Is undirected: {data.is_undirected()}\")"
   ]
  },
  {
   "cell_type": "markdown",
   "metadata": {},
   "source": [
    "## Dividir dataset"
   ]
  },
  {
   "cell_type": "code",
   "execution_count": null,
   "metadata": {},
   "outputs": [],
   "source": [
    "import numpy as np\n",
    "from sklearn.model_selection import train_test_split\n",
    "\n",
    "train_idx, test_idx = train_test_split(np.arange(data.num_nodes), test_size=0.2, stratify=data.y)\n",
    "\n",
    "train_mask = np.zeros(data.num_nodes, dtype=bool)\n",
    "train_mask[train_idx] = True\n",
    "\n",
    "test_mask = np.zeros(data.num_nodes, dtype=bool)\n",
    "test_mask[test_idx] = True\n",
    "\n",
    "data.train_mask = torch.tensor(train_mask)\n",
    "data.test_mask = torch.tensor(test_mask)"
   ]
  },
  {
   "cell_type": "markdown",
   "metadata": {},
   "source": [
    "## Train"
   ]
  },
  {
   "cell_type": "code",
   "execution_count": 33,
   "metadata": {},
   "outputs": [
    {
     "name": "stdout",
     "output_type": "stream",
     "text": [
      "Epoch 0: Loss 1.9344292879104614\n",
      "Epoch 10: Loss 1.5932414531707764\n",
      "Epoch 20: Loss 1.2875667810440063\n",
      "Epoch 30: Loss 1.0677714347839355\n",
      "Epoch 40: Loss 0.9261806607246399\n",
      "Epoch 50: Loss 0.781301736831665\n",
      "Epoch 60: Loss 0.7002854943275452\n",
      "Epoch 70: Loss 0.6591644287109375\n",
      "Epoch 80: Loss 0.5958453416824341\n",
      "Epoch 90: Loss 0.5575027465820312\n",
      "Epoch 100: Loss 0.5233505964279175\n",
      "Epoch 110: Loss 0.5165451169013977\n",
      "Epoch 120: Loss 0.49992525577545166\n",
      "Epoch 130: Loss 0.522131085395813\n",
      "Epoch 140: Loss 0.4998737573623657\n",
      "Epoch 150: Loss 0.4156692922115326\n",
      "Epoch 160: Loss 0.4522807002067566\n",
      "Epoch 170: Loss 0.4287891983985901\n",
      "Epoch 180: Loss 0.6342796683311462\n",
      "Epoch 190: Loss 0.5512855052947998\n",
      "Epoch 200: Loss 0.5063701868057251\n",
      "Epoch 210: Loss 0.43262040615081787\n",
      "Epoch 220: Loss 0.452006459236145\n",
      "Epoch 230: Loss 0.4148917496204376\n",
      "Epoch 240: Loss 0.40528640151023865\n",
      "Epoch 250: Loss 0.4320220649242401\n",
      "Epoch 260: Loss 0.3983735740184784\n",
      "Epoch 270: Loss 0.4068012237548828\n",
      "Epoch 280: Loss 0.4098232388496399\n",
      "Epoch 290: Loss 0.3841545581817627\n",
      "Epoch 300: Loss 0.41015657782554626\n",
      "Epoch 310: Loss 0.4221058785915375\n",
      "Epoch 320: Loss 0.39574456214904785\n",
      "Epoch 330: Loss 0.40769389271736145\n",
      "Epoch 340: Loss 0.46416017413139343\n",
      "Epoch 350: Loss 0.41953039169311523\n",
      "Epoch 360: Loss 0.41630542278289795\n",
      "Epoch 370: Loss 0.40900930762290955\n",
      "Epoch 380: Loss 0.39372140169143677\n",
      "Epoch 390: Loss 0.38615426421165466\n",
      "Epoch 400: Loss 0.36671167612075806\n",
      "Epoch 410: Loss 0.36688047647476196\n",
      "Epoch 420: Loss 0.3275313675403595\n",
      "Epoch 430: Loss 0.3815341889858246\n",
      "Epoch 440: Loss 0.3774712383747101\n",
      "Epoch 450: Loss 0.3649289309978485\n",
      "Epoch 460: Loss 0.4371291399002075\n",
      "Epoch 470: Loss 0.3542795479297638\n",
      "Epoch 480: Loss 0.34917789697647095\n",
      "Epoch 490: Loss 0.341777503490448\n",
      "Epoch 500: Loss 0.34033697843551636\n",
      "Epoch 510: Loss 0.3200814127922058\n",
      "Epoch 520: Loss 0.34149712324142456\n",
      "Epoch 530: Loss 0.3546234667301178\n",
      "Epoch 540: Loss 0.37590348720550537\n",
      "Epoch 550: Loss 0.34987977147102356\n",
      "Epoch 560: Loss 0.3609212040901184\n",
      "Epoch 570: Loss 0.3496682047843933\n",
      "Epoch 580: Loss 0.37730783224105835\n",
      "Epoch 590: Loss 0.32329899072647095\n",
      "Epoch 600: Loss 0.3605400025844574\n",
      "Epoch 610: Loss 0.3465738296508789\n",
      "Epoch 620: Loss 0.3369089365005493\n",
      "Epoch 630: Loss 0.34485989809036255\n",
      "Epoch 640: Loss 0.39261701703071594\n",
      "Epoch 650: Loss 0.3186466097831726\n",
      "Epoch 660: Loss 0.352378249168396\n",
      "Epoch 670: Loss 0.3311999440193176\n",
      "Epoch 680: Loss 0.3194257915019989\n",
      "Epoch 690: Loss 0.33491092920303345\n",
      "Epoch 700: Loss 0.35049232840538025\n",
      "Epoch 710: Loss 0.32920652627944946\n",
      "Epoch 720: Loss 0.35158613324165344\n",
      "Epoch 730: Loss 0.3222014307975769\n",
      "Epoch 740: Loss 0.3109724819660187\n",
      "Epoch 750: Loss 0.31414490938186646\n",
      "Epoch 760: Loss 0.3303421139717102\n",
      "Epoch 770: Loss 0.32621362805366516\n",
      "Epoch 780: Loss 0.3036949336528778\n",
      "Epoch 790: Loss 0.3506124019622803\n",
      "Epoch 800: Loss 0.32012805342674255\n",
      "Epoch 810: Loss 0.29329541325569153\n",
      "Epoch 820: Loss 0.3118928074836731\n",
      "Epoch 830: Loss 0.3030455708503723\n",
      "Epoch 840: Loss 0.315396785736084\n",
      "Epoch 850: Loss 0.32126495242118835\n",
      "Epoch 860: Loss 0.303007572889328\n",
      "Epoch 870: Loss 0.2682190537452698\n",
      "Epoch 880: Loss 0.28886091709136963\n",
      "Epoch 890: Loss 0.337647944688797\n",
      "Epoch 900: Loss 0.32810425758361816\n",
      "Epoch 910: Loss 0.29900166392326355\n",
      "Epoch 920: Loss 0.3127404749393463\n",
      "Epoch 930: Loss 0.3163742423057556\n",
      "Epoch 940: Loss 0.2928486764431\n",
      "Epoch 950: Loss 0.316234290599823\n",
      "Epoch 960: Loss 0.2884562313556671\n",
      "Epoch 970: Loss 0.30763596296310425\n",
      "Epoch 980: Loss 0.29684630036354065\n",
      "Epoch 990: Loss 0.5346031785011292\n"
     ]
    }
   ],
   "source": [
    "from torch.nn import CrossEntropyLoss\n",
    "from torchmetrics.classification import MulticlassF1Score\n",
    "from torch.optim import Adam\n",
    "\n",
    "model = GCN(dataset.num_node_features, 16, dataset.num_classes)\n",
    "\n",
    "optimizer = Adam(model.parameters(), lr=0.01, weight_decay=5e-4)\n",
    "optm_func = CrossEntropyLoss()\n",
    "metric = MulticlassF1Score(num_classes=dataset.num_classes)\n",
    "\n",
    "model.train()\n",
    "for epoch in range(1000):\n",
    "    optimizer.zero_grad()\n",
    "    out = model(data.x, data.edge_index)\n",
    "    loss = optm_func(out[data.train_mask], data.y[data.train_mask])\n",
    "    loss.backward()\n",
    "    optimizer.step()\n",
    "    \n",
    "    if epoch % 10 == 0:\n",
    "        print(f\"Epoch {epoch}: Loss {loss.item()}\")"
   ]
  },
  {
   "cell_type": "markdown",
   "metadata": {},
   "source": [
    "## Test model"
   ]
  },
  {
   "cell_type": "code",
   "execution_count": 34,
   "metadata": {},
   "outputs": [
    {
     "name": "stdout",
     "output_type": "stream",
     "text": [
      "F1 score: 0.7946577629382304\n"
     ]
    },
    {
     "data": {
      "text/plain": [
       "<Axes: >"
      ]
     },
     "execution_count": 34,
     "metadata": {},
     "output_type": "execute_result"
    },
    {
     "data": {
      "image/png": "[encoded data removed]",
      "text/plain": [
       "<Figure size 640x480 with 2 Axes>"
      ]
     },
     "metadata": {},
     "output_type": "display_data"
    }
   ],
   "source": [
    "import seaborn as sns\n",
    "from sklearn.metrics import confusion_matrix, f1_score\n",
    "\n",
    "model.eval()\n",
    "y_pred = out.argmax(dim=1)[data.test_mask].detach().cpu()\n",
    "y = data.y[data.test_mask].detach().cpu()\n",
    "\n",
    "print(f\"F1 score: {f1_score(y, y_pred, average='micro')}\")\n",
    "sns.heatmap(confusion_matrix(y, y_pred), annot=True, fmt='g', cmap='Blues')"
   ]
  },
  {
   "cell_type": "markdown",
   "metadata": {},
   "source": [
    "# Janossy Pooling \n",
    "\n",
    "$MLP_\\theta \\left( \\frac{1}{|\\Pi|} \\sum_{\\pi \\in \\Pi} \\mathbb{P}_\\phi \\left( z^{l-1}_1, \\ldots, z^{l-1}_{|N(u)|} \\right)_\\pi \\right)$\n",
    "\n",
    "* **MSG**: $m_u^l = z_v^{l-1} $\n",
    "* **AGG**: $a_u^l = \\frac{1}{|\\Pi|} \\sum_{\\pi \\in \\Pi} \\mathbb{P}_\\phi \\left( z^{l-1}_1, \\ldots, z^{l-1}_{|N(u)|} \\right)_\\pi $ \n",
    "* **UPDATE**: $z_u^l = \\text{MLP}_{\\theta} \\left( a_v^{l} \\right)$"
   ]
  },
  {
   "cell_type": "markdown",
   "metadata": {},
   "source": [
    "## Capa con LSTM Aggregation + Janossy \n",
    "\n",
    "Implementaremos el método `aggregate` de la capa de paso de mensajes para hacer la agregación de janossy con la media de distintas permutaciones."
   ]
  },
  {
   "cell_type": "code",
   "execution_count": null,
   "metadata": {},
   "outputs": [],
   "source": [
    "import torch\n",
    "from torch_geometric.nn import MessagePassing, LSTMAggregation, MLP\n",
    "\n",
    "class JanossyConv(MessagePassing):\n",
    "    def __init__(self, in_channels, out_channels, perm_steps=15):\n",
    "        super(JanossyConv, self).__init__()\n",
    "        self.aggr = LSTMAggregation(in_channels, out_channels)\n",
    "        #self.aggr = SumAggregation()\n",
    "        self.mlp_theta = MLP(\n",
    "            in_channels=out_channels, \n",
    "            out_channels=out_channels,\n",
    "            hidden_channels=out_channels, \n",
    "            num_layers=1\n",
    "        )\n",
    "        self.perm_steps = perm_steps\n",
    "\n",
    "    def reset_parameters(self):\n",
    "        self.aggr.reset_parameters()\n",
    "        self.mlp_theta.reset_parameters()\n",
    "\n",
    "    def forward(self, x, edge_index):\n",
    "        return self.propagate(edge_index, x=x)\n",
    "\n",
    "    def _do_aggegation_with_permutation(self, inputs, index):\n",
    "        device = inputs.device\n",
    "\n",
    "        range_index = torch.arange(inputs.shape[0], device=device)\n",
    "        ei = torch.stack([range_index, index], axis=0)\n",
    "        perm = torch.randperm(index.size(0), device=device)\n",
    "        ei = ei[:, perm]\n",
    "        order = torch.argsort(ei[1,:])\n",
    "        ei = ei[:,order]\n",
    "        \n",
    "        agg = self.aggr(inputs[ei[0,:]], ei[1,:], max_num_elements=50)\n",
    "\n",
    "        return agg\n",
    "    \n",
    "    def aggregate(self, inputs, index, ptr=None, dim_size=None):\n",
    "        vector = self._do_aggegation_with_permutation(inputs, index) # genera un vector para cada una de las permutaciones\n",
    "        for _ in range(self.perm_steps - 1): \n",
    "            vector = vector + self._do_aggegation_with_permutation(inputs, index) \n",
    "\n",
    "        return vector/float(self.perm_steps) # devuelve la media de las x vectores resultantes de la permutacion\n",
    "        #return self.aggr(inputs, index)\n",
    "    \n",
    "    def update(self, aggr_out):\n",
    "        return self.mlp_theta(aggr_out)"
   ]
  },
  {
   "cell_type": "markdown",
   "metadata": {},
   "source": [
    "### Cómo funciona \n",
    "El método aggregaye recive los parámetros `index` e `inputs` que son los siguientes vectores"
   ]
  },
  {
   "cell_type": "markdown",
   "metadata": {},
   "source": [
    "#### Cargar grafo de ejemplo"
   ]
  },
  {
   "cell_type": "code",
   "execution_count": 3,
   "metadata": {},
   "outputs": [
    {
     "data": {
      "image/png": "[encoded data removed]",
      "text/plain": [
       "<Figure size 300x300 with 1 Axes>"
      ]
     },
     "metadata": {},
     "output_type": "display_data"
    }
   ],
   "source": [
    "import matplotlib.pyplot as plt\n",
    "import networkx as nx\n",
    "\n",
    "G = nx.from_edgelist([\n",
    "    (0, 1), \n",
    "    (0, 2), \n",
    "    (0, 3), \n",
    "    (1, 2), \n",
    "    (2, 4), \n",
    "    (2, 5), \n",
    "    (4, 5)\n",
    "])\n",
    "\n",
    "nx.set_node_attributes(G, {n: [float(n),float(n)] for n in G.nodes()}, 'x')\n",
    "nx.set_node_attributes(G, {n: float(G.degree(n)) for n in G.nodes()}, 'y')\n",
    "\n",
    "plt.figure(figsize=(3, 3))\n",
    "colors = {\n",
    "    0: \"yellow\",\n",
    "    1: \"crimson\",\n",
    "    2: \"forestgreen\",\n",
    "    3: \"royalblue\",\n",
    "    4: \"magenta\",\n",
    "    5: \"purple\"\n",
    "}\n",
    "nx.draw(G, with_labels=True, node_color=[colors[i] for i in range(6)])"
   ]
  },
  {
   "cell_type": "code",
   "execution_count": 4,
   "metadata": {},
   "outputs": [
    {
     "name": "stdout",
     "output_type": "stream",
     "text": [
      "Data(x=[6, 2], edge_index=[2, 14], y=[6])\n",
      "Attributes: ['edge_index', 'x', 'y']\n",
      "Number of nodes: 6\n",
      "Number of edges: 14\n",
      "Number of node features: 2\n",
      "Number of edge features: 0\n",
      "Contains isolated nodes: False\n",
      "Contains self-loops: False\n",
      "Is undirected: True\n"
     ]
    }
   ],
   "source": [
    "from torch_geometric.utils.convert import from_networkx\n",
    "\n",
    "data = from_networkx(G)\n",
    "data = data.sort(sort_by_row=False)\n",
    "print(data)\n",
    "\n",
    "print(f\"Attributes: {data.keys()}\")\n",
    "print(f\"Number of nodes: {data.num_nodes}\")\n",
    "print(f\"Number of edges: {data.num_edges}\")\n",
    "print(f\"Number of node features: {data.num_node_features}\")\n",
    "print(f\"Number of edge features: {data.num_edge_features}\")\n",
    "print(f\"Contains isolated nodes: {data.has_isolated_nodes()}\")\n",
    "print(f\"Contains self-loops: {data.has_self_loops()}\")\n",
    "print(f\"Is undirected: {data.is_undirected()}\")"
   ]
  },
  {
   "cell_type": "markdown",
   "metadata": {},
   "source": [
    "#### Clase Aggregator\n",
    "\n",
    "![image.png](https://raw.githubusercontent.com/rusty1s/pytorch_scatter/master/docs/source/_figures/add.svg?sanitize=true)\n",
    "\n",
    "Los aggregadores realizan la operación de agregación sobre los vecinos de un nodo. Hay varios implementados en pytorch geometric, ver la [documentación](https://pytorch-geometric.readthedocs.io/en/latest/modules/nn.html#aggregation-operators)  "
   ]
  },
  {
   "cell_type": "code",
   "execution_count": null,
   "metadata": {},
   "outputs": [
    {
     "data": {
      "text/plain": [
       "array([[ 6.,  6.],\n",
       "       [ 2.,  2.],\n",
       "       [10., 10.],\n",
       "       [ 0.,  0.],\n",
       "       [ 7.,  7.],\n",
       "       [ 6.,  6.]])"
      ]
     },
     "metadata": {},
     "output_type": "display_data"
    }
   ],
   "source": [
    "# implementacion manual \n",
    "\n",
    "import numpy as np\n",
    "\n",
    "A = nx.adjacency_matrix(G).todense()\n",
    "X = np.array([G.nodes[i]['x'] for i in G.nodes()])\n",
    "\n",
    "A@X"
   ]
  },
  {
   "cell_type": "code",
   "execution_count": null,
   "metadata": {},
   "outputs": [],
   "source": [
    "# Agregador de pytroch geometric\n",
    "\n",
    "from torch_geometric.nn import SumAggregation\n",
    "\n",
    "x = data.x[data.edge_index[0,:]] # atributos de la primera fila de las aristas\n",
    "index = data.edge_index[1,:]\n",
    "\n",
    "print(\"Input:\")\n",
    "display(x)\n",
    "print(\"Index:\")\n",
    "display(index)\n",
    "\n",
    "print(\"Output:\")\n",
    "aggr = SumAggregation()\n",
    "aggr(x, index)"
   ]
  },
  {
   "cell_type": "markdown",
   "metadata": {},
   "source": [
    "#### Hacer permutaciones"
   ]
  },
  {
   "cell_type": "code",
   "execution_count": 70,
   "metadata": {},
   "outputs": [
    {
     "name": "stdout",
     "output_type": "stream",
     "text": [
      "Edge index:\n"
     ]
    },
    {
     "data": {
      "text/plain": [
       "tensor([[1, 2, 3, 0, 2, 0, 1, 4, 5, 0, 2, 5, 2, 4],\n",
       "        [0, 0, 0, 1, 1, 2, 2, 2, 2, 3, 4, 4, 5, 5]])"
      ]
     },
     "metadata": {},
     "output_type": "display_data"
    },
    {
     "name": "stdout",
     "output_type": "stream",
     "text": [
      "Inputs:\n"
     ]
    },
    {
     "data": {
      "text/plain": [
       "tensor([[1., 1.],\n",
       "        [2., 2.],\n",
       "        [3., 3.],\n",
       "        [0., 0.],\n",
       "        [2., 2.],\n",
       "        [0., 0.],\n",
       "        [1., 1.],\n",
       "        [4., 4.],\n",
       "        [5., 5.],\n",
       "        [0., 0.],\n",
       "        [2., 2.],\n",
       "        [5., 5.],\n",
       "        [2., 2.],\n",
       "        [4., 4.]])"
      ]
     },
     "metadata": {},
     "output_type": "display_data"
    },
    {
     "name": "stdout",
     "output_type": "stream",
     "text": [
      "Index:\n"
     ]
    },
    {
     "data": {
      "text/plain": [
       "tensor([0, 0, 0, 1, 1, 2, 2, 2, 2, 3, 4, 4, 5, 5])"
      ]
     },
     "metadata": {},
     "output_type": "display_data"
    }
   ],
   "source": [
    "# Aggregate receives two arguments: inputs and index\n",
    "\n",
    "print(\"Edge index:\")\n",
    "display(data.edge_index)\n",
    "\n",
    "index = data.edge_index[1,:]\n",
    "inputs = data.x[data.edge_index[0,:]]\n",
    "\n",
    "print(\"Inputs:\")\n",
    "display(inputs)\n",
    "\n",
    "print(\"Index:\")\n",
    "display(index)"
   ]
  },
  {
   "cell_type": "markdown",
   "metadata": {},
   "source": [
    "Hacer una permutación"
   ]
  },
  {
   "cell_type": "code",
   "execution_count": 80,
   "metadata": {},
   "outputs": [
    {
     "name": "stdout",
     "output_type": "stream",
     "text": [
      "Permutation:\n"
     ]
    },
    {
     "data": {
      "text/plain": [
       "tensor([[0, 2, 2, 4, 5, 2, 0, 1, 3, 5, 0, 4, 1, 2],\n",
       "        [1, 5, 0, 2, 4, 1, 3, 0, 0, 2, 2, 5, 2, 4]])"
      ]
     },
     "metadata": {},
     "output_type": "display_data"
    },
    {
     "name": "stdout",
     "output_type": "stream",
     "text": [
      "Output:\n"
     ]
    },
    {
     "data": {
      "text/plain": [
       "tensor([[ 6.,  6.],\n",
       "        [ 2.,  2.],\n",
       "        [10., 10.],\n",
       "        [ 0.,  0.],\n",
       "        [ 7.,  7.],\n",
       "        [ 6.,  6.]])"
      ]
     },
     "execution_count": 80,
     "metadata": {},
     "output_type": "execute_result"
    }
   ],
   "source": [
    "# permutacion de aristas usando randperm\n",
    "import torch\n",
    "\n",
    "ei = data.edge_index[:, torch.randperm(data.edge_index.size(1))]\n",
    "print(\"Permutation:\")\n",
    "display(ei)\n",
    "\n",
    "x = data.x[ei[0],:]\n",
    "index = ei[1,:]\n",
    "\n",
    "print(\"Output:\")\n",
    "aggr = SumAggregation()\n",
    "aggr(x, index)"
   ]
  },
  {
   "cell_type": "markdown",
   "metadata": {},
   "source": [
    "El método de `aggregate` no recibe las aristas directamente si los parámetros `inputs` e `index`. Veremos como podemos hacer la permutacion con estas dos variables."
   ]
  },
  {
   "cell_type": "code",
   "execution_count": 117,
   "metadata": {},
   "outputs": [
    {
     "name": "stdout",
     "output_type": "stream",
     "text": [
      "Inputs Original:\n"
     ]
    },
    {
     "data": {
      "text/plain": [
       "tensor([[1., 1.],\n",
       "        [2., 2.],\n",
       "        [3., 3.],\n",
       "        [0., 0.],\n",
       "        [2., 2.],\n",
       "        [0., 0.],\n",
       "        [1., 1.],\n",
       "        [4., 4.],\n",
       "        [5., 5.],\n",
       "        [0., 0.],\n",
       "        [2., 2.],\n",
       "        [5., 5.],\n",
       "        [2., 2.],\n",
       "        [4., 4.]])"
      ]
     },
     "metadata": {},
     "output_type": "display_data"
    },
    {
     "name": "stdout",
     "output_type": "stream",
     "text": [
      "Nuevas aristas:\n"
     ]
    },
    {
     "data": {
      "text/plain": [
       "tensor([[ 0,  1,  2,  3,  4,  5,  6,  7,  8,  9, 10, 11, 12, 13],\n",
       "        [ 0,  0,  0,  1,  1,  2,  2,  2,  2,  3,  4,  4,  5,  5]])"
      ]
     },
     "metadata": {},
     "output_type": "display_data"
    },
    {
     "name": "stdout",
     "output_type": "stream",
     "text": [
      "Permutacion:\n"
     ]
    },
    {
     "data": {
      "text/plain": [
       "tensor([[ 8,  9, 10,  0,  1,  4,  3,  6, 13,  5,  7,  2, 11, 12],\n",
       "        [ 2,  3,  4,  0,  0,  1,  1,  2,  5,  2,  2,  0,  4,  5]])"
      ]
     },
     "metadata": {},
     "output_type": "display_data"
    },
    {
     "name": "stdout",
     "output_type": "stream",
     "text": [
      "Nuevos inputs:\n"
     ]
    },
    {
     "data": {
      "text/plain": [
       "tensor([[5., 5.],\n",
       "        [0., 0.],\n",
       "        [2., 2.],\n",
       "        [1., 1.],\n",
       "        [2., 2.],\n",
       "        [2., 2.],\n",
       "        [0., 0.],\n",
       "        [1., 1.],\n",
       "        [4., 4.],\n",
       "        [0., 0.],\n",
       "        [4., 4.],\n",
       "        [3., 3.],\n",
       "        [5., 5.],\n",
       "        [2., 2.]])"
      ]
     },
     "metadata": {},
     "output_type": "display_data"
    },
    {
     "name": "stdout",
     "output_type": "stream",
     "text": [
      "Nuevo index:\n"
     ]
    },
    {
     "data": {
      "text/plain": [
       "tensor([2, 3, 4, 0, 0, 1, 1, 2, 5, 2, 2, 0, 4, 5])"
      ]
     },
     "metadata": {},
     "output_type": "display_data"
    },
    {
     "name": "stdout",
     "output_type": "stream",
     "text": [
      "Output:\n"
     ]
    },
    {
     "data": {
      "text/plain": [
       "tensor([[ 6.,  6.],\n",
       "        [ 2.,  2.],\n",
       "        [10., 10.],\n",
       "        [ 0.,  0.],\n",
       "        [ 7.,  7.],\n",
       "        [ 6.,  6.]])"
      ]
     },
     "execution_count": 117,
     "metadata": {},
     "output_type": "execute_result"
    }
   ],
   "source": [
    "\n",
    "# simulamos las variables de entrada\n",
    "inputs = data.x[data.edge_index[0,:]]\n",
    "index = data.edge_index[1,:]\n",
    "\n",
    "print(\"Inputs Original:\")\n",
    "display(inputs)\n",
    "\n",
    "# creamos un tensor con los indices de los inputs e index\n",
    "ei = torch.stack([torch.tensor(range(inputs.shape[0])),index], axis=0)\n",
    "print(\"Nuevas aristas:\")\n",
    "display(ei)\n",
    "\n",
    "# permutamos las columns\n",
    "print(\"Permutacion:\")\n",
    "ei = ei[:, torch.randperm(index.size(0))]\n",
    "display(ei)\n",
    "\n",
    "# creamos los nuevos inputs y index\n",
    "print(\"Nuevos inputs:\")\n",
    "inputs = inputs[ei[0,:]]\n",
    "display(inputs)\n",
    "print(\"Nuevo index:\")\n",
    "index = ei[1,:]\n",
    "display(index)\n",
    "\n",
    "# calculamos el aggregador de suma, siempre debe ser igual\n",
    "print(\"Output:\")\n",
    "aggr = SumAggregation()\n",
    "aggr(inputs, index)"
   ]
  },
  {
   "cell_type": "markdown",
   "metadata": {},
   "source": [
    "La implementación de `LSTMAggregator` necesita que las aristas estén ordenadas. Por lo que es necesario volvelas a ordenar antes de calcular el aggregador."
   ]
  },
  {
   "cell_type": "code",
   "execution_count": null,
   "metadata": {},
   "outputs": [
    {
     "name": "stdout",
     "output_type": "stream",
     "text": [
      "Inputs Original:\n"
     ]
    },
    {
     "data": {
      "text/plain": [
       "tensor([[1., 1.],\n",
       "        [2., 2.],\n",
       "        [3., 3.],\n",
       "        [0., 0.],\n",
       "        [2., 2.],\n",
       "        [0., 0.],\n",
       "        [1., 1.],\n",
       "        [4., 4.],\n",
       "        [5., 5.],\n",
       "        [0., 0.],\n",
       "        [2., 2.],\n",
       "        [5., 5.],\n",
       "        [2., 2.],\n",
       "        [4., 4.]])"
      ]
     },
     "metadata": {},
     "output_type": "display_data"
    },
    {
     "name": "stdout",
     "output_type": "stream",
     "text": [
      "Nuevas aristas:\n"
     ]
    },
    {
     "data": {
      "text/plain": [
       "tensor([[ 0,  1,  2,  3,  4,  5,  6,  7,  8,  9, 10, 11, 12, 13],\n",
       "        [ 0,  0,  0,  1,  1,  2,  2,  2,  2,  3,  4,  4,  5,  5]])"
      ]
     },
     "metadata": {},
     "output_type": "display_data"
    },
    {
     "name": "stdout",
     "output_type": "stream",
     "text": [
      "Permutacion:\n"
     ]
    },
    {
     "data": {
      "text/plain": [
       "tensor([[ 6,  7,  0,  9, 11, 10,  8,  4,  3, 13,  1,  5,  2, 12],\n",
       "        [ 2,  2,  0,  3,  4,  4,  2,  1,  1,  5,  0,  2,  0,  5]])"
      ]
     },
     "metadata": {},
     "output_type": "display_data"
    },
    {
     "name": "stdout",
     "output_type": "stream",
     "text": [
      "Ordenamiento:\n"
     ]
    },
    {
     "data": {
      "text/plain": [
       "tensor([[ 0,  1,  2,  4,  3,  6,  7,  8,  5,  9, 11, 10, 13, 12],\n",
       "        [ 0,  0,  0,  1,  1,  2,  2,  2,  2,  3,  4,  4,  5,  5]])"
      ]
     },
     "metadata": {},
     "output_type": "display_data"
    },
    {
     "name": "stdout",
     "output_type": "stream",
     "text": [
      "Nuevos inputs:\n"
     ]
    },
    {
     "data": {
      "text/plain": [
       "tensor([[1., 1.],\n",
       "        [2., 2.],\n",
       "        [3., 3.],\n",
       "        [2., 2.],\n",
       "        [0., 0.],\n",
       "        [1., 1.],\n",
       "        [4., 4.],\n",
       "        [5., 5.],\n",
       "        [0., 0.],\n",
       "        [0., 0.],\n",
       "        [5., 5.],\n",
       "        [2., 2.],\n",
       "        [4., 4.],\n",
       "        [2., 2.]])"
      ]
     },
     "metadata": {},
     "output_type": "display_data"
    },
    {
     "name": "stdout",
     "output_type": "stream",
     "text": [
      "Nuevo index:\n"
     ]
    },
    {
     "data": {
      "text/plain": [
       "tensor([0, 0, 0, 1, 1, 2, 2, 2, 2, 3, 4, 4, 5, 5])"
      ]
     },
     "metadata": {},
     "output_type": "display_data"
    },
    {
     "name": "stdout",
     "output_type": "stream",
     "text": [
      "Output:\n"
     ]
    },
    {
     "data": {
      "text/plain": [
       "tensor([[ 6.,  6.],\n",
       "        [ 2.,  2.],\n",
       "        [10., 10.],\n",
       "        [ 0.,  0.],\n",
       "        [ 7.,  7.],\n",
       "        [ 6.,  6.]])"
      ]
     },
     "execution_count": 126,
     "metadata": {},
     "output_type": "execute_result"
    }
   ],
   "source": [
    "# simulamos las variables de entrada\n",
    "inputs = data.x[data.edge_index[0,:]]\n",
    "index = data.edge_index[1,:]\n",
    "\n",
    "print(\"Inputs Original:\")\n",
    "display(inputs)\n",
    "\n",
    "# creamos un tensor con los indices de los inputs e index\n",
    "ei = torch.stack([torch.tensor(range(inputs.shape[0])),index], axis=0)\n",
    "print(\"Nuevas aristas:\")\n",
    "display(ei)\n",
    "\n",
    "# permutamos las columns\n",
    "print(\"Permutacion:\")\n",
    "ei = ei[:, torch.randperm(index.size(0))]\n",
    "display(ei)\n",
    "\n",
    "# ordenamos las aristas por el indice de destino. #### el resultado del ordenamiento tiene las permutaciones, permuta aristas con el mismo index\n",
    "print(\"Ordenamiento:\")\n",
    "order = torch.argsort(ei[1,:])\n",
    "ei = ei[:,order]\n",
    "display(ei)\n",
    "\n",
    "# creamos los nuevos inputs y index\n",
    "print(\"Nuevos inputs:\")\n",
    "inputs = inputs[ei[0,:]]\n",
    "display(inputs)\n",
    "print(\"Nuevo index:\")\n",
    "index = ei[1,:]\n",
    "display(index)\n",
    "\n",
    "# calculamos el aggregador de suma, siempre debe ser igual\n",
    "print(\"Output:\")\n",
    "aggr = SumAggregation()\n",
    "aggr(inputs, index)"
   ]
  },
  {
   "cell_type": "markdown",
   "metadata": {},
   "source": [
    "## Implementar red"
   ]
  },
  {
   "cell_type": "code",
   "execution_count": 2,
   "metadata": {},
   "outputs": [],
   "source": [
    "import torch\n",
    "import torch.nn.functional as F\n",
    "from torch_geometric.nn import MLP, SAGEConv, LSTMAggregation, SumAggregation\n",
    "\n",
    "class GCN(torch.nn.Module):\n",
    "    def __init__(self, node_features, hidden_channels, num_classes):\n",
    "        super(GCN, self).__init__()\n",
    "        self.conv1 = JanossyConv(node_features, hidden_channels)\n",
    "        self.conv2 = JanossyConv(hidden_channels, hidden_channels)\n",
    "        #self.conv1 = SAGEConv(node_features, hidden_channels, LSTMAggregation(node_features, node_features), project=False)\n",
    "        #self.conv1 = SAGEConv(node_features, hidden_channels, SumAggregation(), project=False)\n",
    "        self.cls = MLP(in_channels=hidden_channels, out_channels=num_classes, num_layers=2, hidden_channels=hidden_channels)\n",
    "\n",
    "    def forward(self, x, edge_index):\n",
    "        x = self.conv1(x, edge_index)\n",
    "        x = F.relu(x)\n",
    "        x = self.conv2(x, edge_index)\n",
    "        x = F.relu(x)\n",
    "        x = self.cls(x)\n",
    "        return x"
   ]
  },
  {
   "cell_type": "markdown",
   "metadata": {},
   "source": [
    "## Cargar dataset"
   ]
  },
  {
   "cell_type": "code",
   "execution_count": 3,
   "metadata": {},
   "outputs": [
    {
     "name": "stdout",
     "output_type": "stream",
     "text": [
      "Number of graphs: 1\n",
      "Attributes: ['edge_index', 'y', 'x']\n",
      "Number of nodes: 2995\n",
      "Number of edges: 16316\n",
      "Number of node features: 2879\n",
      "Number of edge features: 0\n",
      "Number of classes: 7\n",
      "Contains isolated nodes: False\n",
      "Contains self-loops: False\n",
      "Is undirected: True\n"
     ]
    }
   ],
   "source": [
    "from torch_geometric.datasets import CitationFull\n",
    "\n",
    "dataset = CitationFull(root='CitationFull', name='Cora_ML')\n",
    "print(f\"Number of graphs: {len(dataset)}\")\n",
    "\n",
    "data = dataset[0]\n",
    "data = data.sort(sort_by_row=False)\n",
    "print(f\"Attributes: {data.keys()}\")\n",
    "print(f\"Number of nodes: {data.num_nodes}\")\n",
    "print(f\"Number of edges: {data.num_edges}\")\n",
    "print(f\"Number of node features: {data.num_node_features}\")\n",
    "print(f\"Number of edge features: {data.num_edge_features}\")\n",
    "print(f\"Number of classes: {dataset.num_classes}\")\n",
    "print(f\"Contains isolated nodes: {data.has_isolated_nodes()}\")\n",
    "print(f\"Contains self-loops: {data.has_self_loops()}\")\n",
    "print(f\"Is undirected: {data.is_undirected()}\")"
   ]
  },
  {
   "cell_type": "markdown",
   "metadata": {},
   "source": [
    "## Dividir Dataset"
   ]
  },
  {
   "cell_type": "code",
   "execution_count": 4,
   "metadata": {},
   "outputs": [],
   "source": [
    "import numpy as np\n",
    "from sklearn.model_selection import train_test_split\n",
    "\n",
    "train_idx, test_idx = train_test_split(np.arange(data.num_nodes), test_size=0.2, stratify=data.y)\n",
    "\n",
    "train_mask = np.zeros(data.num_nodes, dtype=bool)\n",
    "train_mask[train_idx] = True\n",
    "\n",
    "test_mask = np.zeros(data.num_nodes, dtype=bool)\n",
    "test_mask[test_idx] = True\n",
    "\n",
    "data.train_mask = torch.tensor(train_mask)\n",
    "data.test_mask = torch.tensor(test_mask)"
   ]
  },
  {
   "cell_type": "markdown",
   "metadata": {},
   "source": [
    "## Train model"
   ]
  },
  {
   "cell_type": "code",
   "execution_count": 5,
   "metadata": {},
   "outputs": [
    {
     "name": "stdout",
     "output_type": "stream",
     "text": [
      "Epoch 0: Loss 1.9856843948364258\n",
      "Epoch 10: Loss 1.9329583644866943\n",
      "Epoch 20: Loss 1.8696211576461792\n",
      "Epoch 30: Loss 1.8507462739944458\n",
      "Epoch 40: Loss 1.8469430208206177\n",
      "Epoch 50: Loss 1.8237072229385376\n",
      "Epoch 60: Loss 1.7417598962783813\n",
      "Epoch 70: Loss 1.6946585178375244\n",
      "Epoch 80: Loss 1.6910403966903687\n",
      "Epoch 90: Loss 1.612230658531189\n",
      "Epoch 100: Loss 1.5386989116668701\n",
      "Epoch 110: Loss 1.5197609663009644\n",
      "Epoch 120: Loss 1.5283888578414917\n",
      "Epoch 130: Loss 1.5042182207107544\n",
      "Epoch 140: Loss 1.4721964597702026\n",
      "Epoch 150: Loss 1.4379067420959473\n",
      "Epoch 160: Loss 1.3794019222259521\n",
      "Epoch 170: Loss 1.4189579486846924\n",
      "Epoch 180: Loss 1.6339106559753418\n",
      "Epoch 190: Loss 1.8089008331298828\n",
      "Epoch 200: Loss 1.5527323484420776\n",
      "Epoch 210: Loss 1.4806925058364868\n",
      "Epoch 220: Loss 1.4484329223632812\n",
      "Epoch 230: Loss 1.430855631828308\n",
      "Epoch 240: Loss 1.3917955160140991\n",
      "Epoch 250: Loss 1.352692723274231\n",
      "Epoch 260: Loss 1.3443108797073364\n",
      "Epoch 270: Loss 1.3356071710586548\n",
      "Epoch 280: Loss 1.30701744556427\n",
      "Epoch 290: Loss 1.4522881507873535\n",
      "Epoch 300: Loss 1.3985333442687988\n",
      "Epoch 310: Loss 1.3814014196395874\n",
      "Epoch 320: Loss 1.3869404792785645\n",
      "Epoch 330: Loss 1.3702641725540161\n",
      "Epoch 340: Loss 1.3574126958847046\n",
      "Epoch 350: Loss 1.3360085487365723\n",
      "Epoch 360: Loss 1.3845124244689941\n",
      "Epoch 370: Loss 1.381636381149292\n",
      "Epoch 380: Loss 1.3127235174179077\n",
      "Epoch 390: Loss 1.2805873155593872\n",
      "Epoch 400: Loss 1.2016375064849854\n",
      "Epoch 410: Loss 1.1007139682769775\n",
      "Epoch 420: Loss 0.9717048406600952\n",
      "Epoch 430: Loss 0.9055935144424438\n",
      "Epoch 440: Loss 0.8415132164955139\n",
      "Epoch 450: Loss 0.8742407560348511\n",
      "Epoch 460: Loss 0.7989710569381714\n",
      "Epoch 470: Loss 0.7512940168380737\n",
      "Epoch 480: Loss 0.6932063102722168\n",
      "Epoch 490: Loss 0.6561518311500549\n",
      "Epoch 500: Loss 0.6799623966217041\n",
      "Epoch 510: Loss 1.130129337310791\n",
      "Epoch 520: Loss 0.8753456473350525\n",
      "Epoch 530: Loss 0.7652115225791931\n",
      "Epoch 540: Loss 0.6644036173820496\n",
      "Epoch 550: Loss 0.5792298316955566\n",
      "Epoch 560: Loss 0.5476700067520142\n",
      "Epoch 570: Loss 0.46917295455932617\n",
      "Epoch 580: Loss 0.4304423928260803\n",
      "Epoch 590: Loss 0.45054227113723755\n",
      "Epoch 600: Loss 0.5150105357170105\n",
      "Epoch 610: Loss 0.4396734833717346\n",
      "Epoch 620: Loss 0.38404029607772827\n",
      "Epoch 630: Loss 0.3473648130893707\n",
      "Epoch 640: Loss 0.32791680097579956\n",
      "Epoch 650: Loss 0.30098390579223633\n",
      "Epoch 660: Loss 0.2987883985042572\n",
      "Epoch 670: Loss 0.266886830329895\n",
      "Epoch 680: Loss 0.2990632653236389\n",
      "Epoch 690: Loss 0.2417311817407608\n",
      "Epoch 700: Loss 0.2254355102777481\n",
      "Epoch 710: Loss 0.24891385436058044\n",
      "Epoch 720: Loss 0.35385850071907043\n",
      "Epoch 730: Loss 0.23116052150726318\n",
      "Epoch 740: Loss 0.21154636144638062\n",
      "Epoch 750: Loss 0.1952666938304901\n",
      "Epoch 760: Loss 0.1900002658367157\n",
      "Epoch 770: Loss 0.2017860859632492\n",
      "Epoch 780: Loss 0.2607293426990509\n",
      "Epoch 790: Loss 0.23552857339382172\n",
      "Epoch 800: Loss 0.20474986732006073\n",
      "Epoch 810: Loss 0.1874738484621048\n",
      "Epoch 820: Loss 0.17333434522151947\n",
      "Epoch 830: Loss 0.17140640318393707\n",
      "Epoch 840: Loss 0.16827191412448883\n",
      "Epoch 850: Loss 0.16333994269371033\n",
      "Epoch 860: Loss 0.15909166634082794\n",
      "Epoch 870: Loss 0.1724994033575058\n",
      "Epoch 880: Loss 0.15534548461437225\n",
      "Epoch 890: Loss 0.15329910814762115\n",
      "Epoch 900: Loss 0.1686880886554718\n",
      "Epoch 910: Loss 1.9328564405441284\n",
      "Epoch 920: Loss 0.5557531714439392\n",
      "Epoch 930: Loss 0.42221277952194214\n",
      "Epoch 940: Loss 0.3450620174407959\n",
      "Epoch 950: Loss 0.2999913692474365\n",
      "Epoch 960: Loss 0.2612306773662567\n",
      "Epoch 970: Loss 0.23696307837963104\n",
      "Epoch 980: Loss 0.23240087926387787\n",
      "Epoch 990: Loss 0.2117687165737152\n"
     ]
    }
   ],
   "source": [
    "import torch\n",
    "from torch.nn import CrossEntropyLoss\n",
    "from torch.optim import Adam\n",
    "\n",
    "device = torch.device('cuda' if torch.cuda.is_available() else 'cpu')\n",
    "torch.cuda.set_device(0)\n",
    "\n",
    "data = data.to(device)\n",
    "\n",
    "model = GCN(dataset.num_node_features, 16, dataset.num_classes).to(device)\n",
    "\n",
    "optimizer = Adam(model.parameters(), lr=0.01, weight_decay=5e-4)\n",
    "optm_func = CrossEntropyLoss()\n",
    "model.train()\n",
    "\n",
    "for epoch in range(1000):\n",
    "    optimizer.zero_grad()\n",
    "    out = model(data.x, data.edge_index)\n",
    "    loss = optm_func(out[data.train_mask], data.y[data.train_mask])\n",
    "    loss.backward()\n",
    "    optimizer.step()\n",
    "    \n",
    "    if epoch % 10 == 0:\n",
    "        print(f\"Epoch {epoch}: Loss {loss.item()}\")\n",
    "\n"
   ]
  },
  {
   "cell_type": "markdown",
   "metadata": {},
   "source": [
    "## Test model"
   ]
  },
  {
   "cell_type": "code",
   "execution_count": 6,
   "metadata": {},
   "outputs": [
    {
     "name": "stdout",
     "output_type": "stream",
     "text": [
      "F1 score: 0.7712854757929883\n"
     ]
    },
    {
     "data": {
      "text/plain": [
       "<Axes: >"
      ]
     },
     "execution_count": 6,
     "metadata": {},
     "output_type": "execute_result"
    },
    {
     "data": {
      "image/png": "[encoded data removed]",
      "text/plain": [
       "<Figure size 640x480 with 2 Axes>"
      ]
     },
     "metadata": {},
     "output_type": "display_data"
    }
   ],
   "source": [
    "import seaborn as sns\n",
    "from sklearn.metrics import confusion_matrix, f1_score\n",
    "\n",
    "model.eval()\n",
    "y_pred = out.argmax(dim=1)[data.test_mask].detach().cpu()\n",
    "y = data.y[data.test_mask].detach().cpu()\n",
    "\n",
    "print(f\"F1 score: {f1_score(y, y_pred, average='micro')}\")\n",
    "sns.heatmap(confusion_matrix(y, y_pred), annot=True, fmt='g', cmap='Blues')"
   ]
  },
  {
   "cell_type": "markdown",
   "metadata": {},
   "source": [
    "# Graph Attention\n",
    "\n",
    "Implementación disponible en [pytroch_geometric](https://pytorch-geometric.readthedocs.io/en/stable/generated/torch_geometric.nn.conv.GATConv.html#torch_geometric.nn.conv.GATConv)\n",
    "\n",
    "$ \\sum_{v \\in \\mathcal{N}(u)}{\\frac{\\exp(\\text{MLP}_{\\phi}( W^l x_u^{l-1} \\oplus  W^l x_v^{l-1})}{\\sum_{j' \\in \\mathcal{N}(i)} \\exp(\\text{MLP}_{\\phi}( W^l x_u^{l-1} \\oplus  W^l x_{v'}^{l-1}))}} $\n",
    "\n",
    "* **MSG**: $ m_u^l = W^l x_u^{l-1} $\n",
    "* **AGG**: $ a_u^l = \\sum_{v \\in \\mathcal{N}(u)}{\\frac{\\exp(\\text{MLP}_{\\phi}(\\mathbf{m}_u^{l-1} \\oplus \\mathbf{m}_v^{l-1}))}{\\sum_{j' \\in \\mathcal{N}(i)} \\exp(\\text{MLP}_{\\phi}(\\mathbf{m}_u^{l-1} \\oplus \\mathbf{z}_{v'}^{l-1}))}} $\n",
    "* **UPDATE**: $ z_u^l = a_u^l $\n",
    "\n",
    "\n",
    "update no tiene nada, porque antes del sumatorio no hay na"
   ]
  },
  {
   "cell_type": "markdown",
   "metadata": {},
   "source": [
    "## Implementación de la capa"
   ]
  },
  {
   "cell_type": "code",
   "execution_count": null,
   "metadata": {},
   "outputs": [],
   "source": [
    "import torch\n",
    "from torch_geometric.nn import MessagePassing, MLP\n",
    "from torch_geometric.utils import add_self_loops, softmax\n",
    "\n",
    "class CustomGATConv(MessagePassing):\n",
    "    def __init__(self, in_channels, out_channels):\n",
    "        super(CustomGATConv, self).__init__(aggr='sum')\n",
    "        self.lin = torch.nn.Linear(in_channels, out_channels) # transformacion de paso de mensaje\n",
    "        self.mlp_phi = MLP( # va a aprender el valor alpha\n",
    "            in_channels=2*out_channels,\n",
    "            out_channels=1, # salida 1, valor de agregacion\n",
    "            hidden_channels=16,\n",
    "            num_layers=1\n",
    "        )\n",
    "\n",
    "        self.reset_parameters()\n",
    "\n",
    "    def reset_parameters(self):\n",
    "        self.lin.reset_parameters()\n",
    "        self.mlp_phi.reset_parameters()\n",
    "\n",
    "    def forward(self, x, edge_index):\n",
    "        # Add self-loops to the adjacency matrix.\n",
    "        edge_index, _ = add_self_loops(edge_index, num_nodes=x.size(0))\n",
    "\n",
    "        # Linearly transform node feature matrix.\n",
    "        z = self.lin(x)\n",
    "\n",
    "        # Start propagating messages.\n",
    "        return self.propagate(edge_index, size=(z.size(0), z.size(0)), x=z)\n",
    "\n",
    "    def message(self, edge_index_i, x_i, x_j, size_i):\n",
    "        # Compute attention coefficients. x_i es el nodo sobre el que se hace la agregacion, x_j es el vecino\n",
    "        x_ij = torch.cat([x_i, x_j], dim=1)\n",
    "        alpha = self.mlp_phi(x_ij)\n",
    "        alpha = softmax(alpha, edge_index_i, num_nodes=size_i) # edge_index_i aristas del nodo sobre el que se quiere calcular softmax de sus vecinos\n",
    "\n",
    "        return alpha * x_j\n",
    "\n",
    "    def update(self, aggr_out):\n",
    "        # aggr_out has shape [N, out_channels]\n",
    "\n",
    "        # Return new node embeddings.\n",
    "        return aggr_out"
   ]
  },
  {
   "cell_type": "markdown",
   "metadata": {},
   "source": [
    "## Implementación de la red"
   ]
  },
  {
   "cell_type": "code",
   "execution_count": 14,
   "metadata": {},
   "outputs": [],
   "source": [
    "import torch\n",
    "import torch.nn.functional as F\n",
    "# tambien disponible en GATConv\n",
    "from torch_geometric.nn import GATConv, MLP\n",
    "\n",
    "class GCN(torch.nn.Module):\n",
    "    def __init__(self, node_features, hidden_channels, num_classes):\n",
    "        super(GCN, self).__init__()\n",
    "        self.conv1 = CustomGATConv(node_features, hidden_channels)\n",
    "        self.conv2 = CustomGATConv(hidden_channels, hidden_channels)\n",
    "        self.cls = MLP(in_channels=hidden_channels, out_channels=num_classes, num_layers=2, hidden_channels=hidden_channels)\n",
    "\n",
    "    def forward(self, x, edge_index):\n",
    "        x = self.conv1(x, edge_index)\n",
    "        x = F.relu(x)\n",
    "        x = F.dropout(x, p=0.5, training=self.training)\n",
    "        x = self.conv2(x, edge_index)\n",
    "        x = F.relu(x)\n",
    "        x = F.dropout(x, p=0.5, training=self.training)\n",
    "        x = self.cls(x)\n",
    "        return x"
   ]
  },
  {
   "cell_type": "markdown",
   "metadata": {},
   "source": [
    "## Cargar dataset"
   ]
  },
  {
   "cell_type": "code",
   "execution_count": 15,
   "metadata": {},
   "outputs": [
    {
     "name": "stdout",
     "output_type": "stream",
     "text": [
      "Number of graphs: 1\n",
      "Attributes: ['edge_index', 'y', 'x']\n",
      "Number of nodes: 2995\n",
      "Number of edges: 16316\n",
      "Number of node features: 2879\n",
      "Number of edge features: 0\n",
      "Number of classes: 7\n",
      "Contains isolated nodes: False\n",
      "Contains self-loops: False\n",
      "Is undirected: True\n"
     ]
    }
   ],
   "source": [
    "from torch_geometric.datasets import CitationFull\n",
    "\n",
    "dataset = CitationFull(root='CitationFull', name='Cora_ML')\n",
    "print(f\"Number of graphs: {len(dataset)}\")\n",
    "\n",
    "data = dataset[0]\n",
    "print(f\"Attributes: {data.keys()}\")\n",
    "print(f\"Number of nodes: {data.num_nodes}\")\n",
    "print(f\"Number of edges: {data.num_edges}\")\n",
    "print(f\"Number of node features: {data.num_node_features}\")\n",
    "print(f\"Number of edge features: {data.num_edge_features}\")\n",
    "print(f\"Number of classes: {dataset.num_classes}\")\n",
    "print(f\"Contains isolated nodes: {data.has_isolated_nodes()}\")\n",
    "print(f\"Contains self-loops: {data.has_self_loops()}\")\n",
    "print(f\"Is undirected: {data.is_undirected()}\")"
   ]
  },
  {
   "cell_type": "markdown",
   "metadata": {},
   "source": [
    "## Dividir dataset"
   ]
  },
  {
   "cell_type": "code",
   "execution_count": 16,
   "metadata": {},
   "outputs": [],
   "source": [
    "import numpy as np\n",
    "from sklearn.model_selection import train_test_split\n",
    "\n",
    "train_idx, test_idx = train_test_split(np.arange(data.num_nodes), test_size=0.2, stratify=data.y)\n",
    "\n",
    "train_mask = np.zeros(data.num_nodes, dtype=bool)\n",
    "train_mask[train_idx] = True\n",
    "\n",
    "test_mask = np.zeros(data.num_nodes, dtype=bool)\n",
    "test_mask[test_idx] = True\n",
    "\n",
    "data.train_mask = torch.tensor(train_mask)\n",
    "data.test_mask = torch.tensor(test_mask)"
   ]
  },
  {
   "cell_type": "markdown",
   "metadata": {},
   "source": [
    "## Train"
   ]
  },
  {
   "cell_type": "code",
   "execution_count": 17,
   "metadata": {},
   "outputs": [
    {
     "name": "stdout",
     "output_type": "stream",
     "text": [
      "Epoch 0: Loss 1.9597359895706177\n",
      "Epoch 10: Loss 1.3691911697387695\n",
      "Epoch 20: Loss 1.0301332473754883\n",
      "Epoch 30: Loss 0.8018800020217896\n",
      "Epoch 40: Loss 0.6637001037597656\n",
      "Epoch 50: Loss 0.560875654220581\n",
      "Epoch 60: Loss 0.49386605620384216\n",
      "Epoch 70: Loss 0.4691653251647949\n",
      "Epoch 80: Loss 0.4525161683559418\n",
      "Epoch 90: Loss 0.4240662753582001\n",
      "Epoch 100: Loss 0.39378973841667175\n",
      "Epoch 110: Loss 0.40034791827201843\n",
      "Epoch 120: Loss 0.3734886050224304\n",
      "Epoch 130: Loss 0.4029838740825653\n",
      "Epoch 140: Loss 0.366110235452652\n",
      "Epoch 150: Loss 0.39126232266426086\n",
      "Epoch 160: Loss 0.36854875087738037\n",
      "Epoch 170: Loss 0.35085102915763855\n",
      "Epoch 180: Loss 0.3230777978897095\n",
      "Epoch 190: Loss 0.33768337965011597\n",
      "Epoch 200: Loss 0.3460543155670166\n",
      "Epoch 210: Loss 0.33183524012565613\n",
      "Epoch 220: Loss 0.2967245876789093\n",
      "Epoch 230: Loss 0.3274936378002167\n",
      "Epoch 240: Loss 0.2986040711402893\n",
      "Epoch 250: Loss 0.3226926624774933\n",
      "Epoch 260: Loss 0.3388288617134094\n",
      "Epoch 270: Loss 0.32787880301475525\n",
      "Epoch 280: Loss 0.3273863196372986\n",
      "Epoch 290: Loss 0.3176678717136383\n",
      "Epoch 300: Loss 0.2982291877269745\n",
      "Epoch 310: Loss 0.28272730112075806\n",
      "Epoch 320: Loss 0.2968253493309021\n",
      "Epoch 330: Loss 0.28904491662979126\n",
      "Epoch 340: Loss 0.28245431184768677\n",
      "Epoch 350: Loss 0.28020820021629333\n",
      "Epoch 360: Loss 0.314627468585968\n",
      "Epoch 370: Loss 0.28640010952949524\n",
      "Epoch 380: Loss 0.3081725239753723\n",
      "Epoch 390: Loss 0.3205450773239136\n",
      "Epoch 400: Loss 0.29039621353149414\n",
      "Epoch 410: Loss 0.3040802776813507\n",
      "Epoch 420: Loss 0.27169978618621826\n",
      "Epoch 430: Loss 0.27440762519836426\n",
      "Epoch 440: Loss 0.28628697991371155\n",
      "Epoch 450: Loss 0.32181018590927124\n",
      "Epoch 460: Loss 0.27692511677742004\n",
      "Epoch 470: Loss 0.2672111392021179\n",
      "Epoch 480: Loss 0.278873085975647\n",
      "Epoch 490: Loss 0.2783240079879761\n",
      "Epoch 500: Loss 0.2723053991794586\n",
      "Epoch 510: Loss 0.2876150608062744\n",
      "Epoch 520: Loss 0.28651663661003113\n",
      "Epoch 530: Loss 0.3066399395465851\n",
      "Epoch 540: Loss 0.30450311303138733\n",
      "Epoch 550: Loss 0.2659291625022888\n",
      "Epoch 560: Loss 0.2778848111629486\n",
      "Epoch 570: Loss 0.28549012541770935\n",
      "Epoch 580: Loss 0.2683807909488678\n",
      "Epoch 590: Loss 0.2433210015296936\n",
      "Epoch 600: Loss 0.24887074530124664\n",
      "Epoch 610: Loss 0.2505809962749481\n",
      "Epoch 620: Loss 0.27054068446159363\n",
      "Epoch 630: Loss 0.27972477674484253\n",
      "Epoch 640: Loss 0.27685901522636414\n",
      "Epoch 650: Loss 0.29747626185417175\n",
      "Epoch 660: Loss 0.2664111852645874\n",
      "Epoch 670: Loss 0.29550835490226746\n",
      "Epoch 680: Loss 0.2648485004901886\n",
      "Epoch 690: Loss 0.25939857959747314\n",
      "Epoch 700: Loss 0.29535552859306335\n",
      "Epoch 710: Loss 0.26919791102409363\n",
      "Epoch 720: Loss 0.27713677287101746\n",
      "Epoch 730: Loss 0.2606803774833679\n",
      "Epoch 740: Loss 0.24602384865283966\n",
      "Epoch 750: Loss 0.2769243121147156\n",
      "Epoch 760: Loss 0.27656659483909607\n",
      "Epoch 770: Loss 0.2815030813217163\n",
      "Epoch 780: Loss 0.2700348198413849\n",
      "Epoch 790: Loss 0.2757507860660553\n",
      "Epoch 800: Loss 0.2702856659889221\n",
      "Epoch 810: Loss 0.258023202419281\n",
      "Epoch 820: Loss 0.2628643214702606\n",
      "Epoch 830: Loss 0.26331233978271484\n",
      "Epoch 840: Loss 0.28238049149513245\n",
      "Epoch 850: Loss 0.27770575881004333\n",
      "Epoch 860: Loss 0.2631133496761322\n",
      "Epoch 870: Loss 0.26419901847839355\n",
      "Epoch 880: Loss 0.2425604611635208\n",
      "Epoch 890: Loss 0.2927376329898834\n",
      "Epoch 900: Loss 0.2602292597293854\n",
      "Epoch 910: Loss 0.2692268490791321\n",
      "Epoch 920: Loss 0.2801516652107239\n",
      "Epoch 930: Loss 0.2637733221054077\n",
      "Epoch 940: Loss 0.27125653624534607\n",
      "Epoch 950: Loss 0.2688820958137512\n",
      "Epoch 960: Loss 0.2767961621284485\n",
      "Epoch 970: Loss 0.2589249014854431\n",
      "Epoch 980: Loss 0.27304741740226746\n",
      "Epoch 990: Loss 0.2575625479221344\n"
     ]
    }
   ],
   "source": [
    "from torch.nn import CrossEntropyLoss\n",
    "from torchmetrics.classification import MulticlassF1Score\n",
    "from torch.optim import Adam\n",
    "\n",
    "model = GCN(dataset.num_node_features, 16, dataset.num_classes)\n",
    "\n",
    "optimizer = Adam(model.parameters(), lr=0.01, weight_decay=5e-4)\n",
    "optm_func = CrossEntropyLoss()\n",
    "metric = MulticlassF1Score(num_classes=dataset.num_classes)\n",
    "\n",
    "model.train()\n",
    "for epoch in range(1000):\n",
    "    optimizer.zero_grad()\n",
    "    out = model(data.x, data.edge_index)\n",
    "    loss = optm_func(out[data.train_mask], data.y[data.train_mask])\n",
    "    loss.backward()\n",
    "    optimizer.step()\n",
    "    \n",
    "    if epoch % 10 == 0:\n",
    "        print(f\"Epoch {epoch}: Loss {loss.item()}\")"
   ]
  },
  {
   "cell_type": "markdown",
   "metadata": {},
   "source": [
    "## Test model"
   ]
  },
  {
   "cell_type": "code",
   "execution_count": 18,
   "metadata": {},
   "outputs": [
    {
     "name": "stdout",
     "output_type": "stream",
     "text": [
      "F1 score: 0.8280467445742905\n"
     ]
    },
    {
     "data": {
      "text/plain": [
       "<Axes: >"
      ]
     },
     "execution_count": 18,
     "metadata": {},
     "output_type": "execute_result"
    },
    {
     "data": {
      "image/png": "[encoded data removed]",
      "text/plain": [
       "<Figure size 640x480 with 2 Axes>"
      ]
     },
     "metadata": {},
     "output_type": "display_data"
    }
   ],
   "source": [
    "import seaborn as sns\n",
    "from sklearn.metrics import confusion_matrix, f1_score\n",
    "\n",
    "model.eval()\n",
    "y_pred = out.argmax(dim=1)[data.test_mask].detach().cpu()\n",
    "y = data.y[data.test_mask].detach().cpu()\n",
    "\n",
    "print(f\"F1 score: {f1_score(y, y_pred, average='micro')}\")\n",
    "sns.heatmap(confusion_matrix(y, y_pred), annot=True, fmt='g', cmap='Blues')"
   ]
  },
  {
   "cell_type": "markdown",
   "metadata": {},
   "source": [
    "# Concat skip connections\n",
    "\n",
    "$ \\mathbf{z}_i^{l} = W_{\\theta}^l (z_i^{l-1} \\oplus (W_{\\phi}^l \\sum_{j \\in \\mathcal{N}(i)} z_j^{l-1})) \\ $\n",
    "\n",
    "* **MSG**: $m_u^l = W_\\phi^lz^{l-1}_u $\n",
    "* **AGG**: $a_u^l = \\sum_{v \\in N(u)} m_v^l$ \n",
    "* **UPDATE**: $z_u^l = W_{\\theta}^l (z_i^{l-1} \\oplus a_u^l)$"
   ]
  },
  {
   "cell_type": "code",
   "execution_count": 50,
   "metadata": {},
   "outputs": [],
   "source": [
    "import torch\n",
    "from torch.nn import Linear, Parameter\n",
    "from torch_geometric.nn import MessagePassing\n",
    "\n",
    "class SkipConcatConv(MessagePassing):\n",
    "    def __init__(self, in_channels, out_channels):\n",
    "        super(SkipConcatConv, self).__init__(aggr='sum')\n",
    "        \n",
    "        self.W_theta = Linear(in_channels + out_channels, out_channels)\n",
    "        self.b_theta = Parameter(torch.Tensor(out_channels))\n",
    "\n",
    "        self.W_phi = Linear(in_channels, out_channels)\n",
    "        self.b_phi = Parameter(torch.Tensor(out_channels))\n",
    "\n",
    "        self.reset_parameters()\n",
    "\n",
    "    def reset_parameters(self):\n",
    "        self.W_theta.reset_parameters()\n",
    "        self.b_theta.data.zero_()\n",
    "        self.W_phi.reset_parameters()\n",
    "        self.b_phi.data.zero_()\n",
    "\n",
    "    def forward(self, x, edge_index):\n",
    "        return self.propagate(edge_index, x=x, central_node=x)\n",
    "    \n",
    "    def message(self, x_j):\n",
    "        return self.W_phi(x_j) + self.b_phi\n",
    "    \n",
    "    def update(self, aggr_out, central_node):\n",
    "        a = torch.concat([central_node, aggr_out], dim=1)\n",
    "        return self.W_theta(a) + self.b_theta"
   ]
  },
  {
   "cell_type": "markdown",
   "metadata": {},
   "source": [
    "## Implementación de la red"
   ]
  },
  {
   "cell_type": "code",
   "execution_count": 51,
   "metadata": {},
   "outputs": [],
   "source": [
    "import torch\n",
    "import torch.nn.functional as F\n",
    "# tambien disponible en GATConv\n",
    "from torch_geometric.nn import MLP\n",
    "\n",
    "class GCN(torch.nn.Module):\n",
    "    def __init__(self, node_features, hidden_channels, num_classes):\n",
    "        super(GCN, self).__init__()\n",
    "        self.conv1 = SkipConcatConv(node_features, hidden_channels)\n",
    "        self.conv2 = SkipConcatConv(hidden_channels, hidden_channels)\n",
    "        self.cls = MLP(in_channels=hidden_channels, out_channels=num_classes, num_layers=2, hidden_channels=hidden_channels)\n",
    "\n",
    "    def forward(self, x, edge_index):\n",
    "        x = self.conv1(x, edge_index)\n",
    "        x = F.relu(x)\n",
    "        x = F.dropout(x, p=0.5, training=self.training)\n",
    "        x = self.conv2(x, edge_index)\n",
    "        x = F.relu(x)\n",
    "        x = F.dropout(x, p=0.5, training=self.training)\n",
    "        x = self.cls(x)\n",
    "        return x"
   ]
  },
  {
   "cell_type": "markdown",
   "metadata": {},
   "source": [
    "## Cargar dataset"
   ]
  },
  {
   "cell_type": "code",
   "execution_count": 37,
   "metadata": {},
   "outputs": [
    {
     "name": "stdout",
     "output_type": "stream",
     "text": [
      "Number of graphs: 1\n",
      "Attributes: ['edge_index', 'y', 'x']\n",
      "Number of nodes: 2995\n",
      "Number of edges: 16316\n",
      "Number of node features: 2879\n",
      "Number of edge features: 0\n",
      "Number of classes: 7\n",
      "Contains isolated nodes: False\n",
      "Contains self-loops: False\n",
      "Is undirected: True\n"
     ]
    }
   ],
   "source": [
    "from torch_geometric.datasets import CitationFull\n",
    "\n",
    "dataset = CitationFull(root='CitationFull', name='Cora_ML')\n",
    "print(f\"Number of graphs: {len(dataset)}\")\n",
    "\n",
    "data = dataset[0]\n",
    "print(f\"Attributes: {data.keys()}\")\n",
    "print(f\"Number of nodes: {data.num_nodes}\")\n",
    "print(f\"Number of edges: {data.num_edges}\")\n",
    "print(f\"Number of node features: {data.num_node_features}\")\n",
    "print(f\"Number of edge features: {data.num_edge_features}\")\n",
    "print(f\"Number of classes: {dataset.num_classes}\")\n",
    "print(f\"Contains isolated nodes: {data.has_isolated_nodes()}\")\n",
    "print(f\"Contains self-loops: {data.has_self_loops()}\")\n",
    "print(f\"Is undirected: {data.is_undirected()}\")"
   ]
  },
  {
   "cell_type": "markdown",
   "metadata": {},
   "source": [
    "## Dividir dataset"
   ]
  },
  {
   "cell_type": "code",
   "execution_count": 38,
   "metadata": {},
   "outputs": [],
   "source": [
    "import numpy as np\n",
    "from sklearn.model_selection import train_test_split\n",
    "\n",
    "train_idx, test_idx = train_test_split(np.arange(data.num_nodes), test_size=0.2, stratify=data.y)\n",
    "\n",
    "train_mask = np.zeros(data.num_nodes, dtype=bool)\n",
    "train_mask[train_idx] = True\n",
    "\n",
    "test_mask = np.zeros(data.num_nodes, dtype=bool)\n",
    "test_mask[test_idx] = True\n",
    "\n",
    "data.train_mask = torch.tensor(train_mask)\n",
    "data.test_mask = torch.tensor(test_mask)"
   ]
  },
  {
   "cell_type": "markdown",
   "metadata": {},
   "source": [
    "## Train"
   ]
  },
  {
   "cell_type": "code",
   "execution_count": 52,
   "metadata": {},
   "outputs": [
    {
     "name": "stdout",
     "output_type": "stream",
     "text": [
      "Epoch 0: Loss 2.0202910900115967\n",
      "Epoch 10: Loss 1.7034051418304443\n",
      "Epoch 20: Loss 1.5372921228408813\n",
      "Epoch 30: Loss 1.375361680984497\n",
      "Epoch 40: Loss 1.2028220891952515\n",
      "Epoch 50: Loss 0.9817267656326294\n",
      "Epoch 60: Loss 0.8376266360282898\n",
      "Epoch 70: Loss 0.6989253163337708\n",
      "Epoch 80: Loss 0.6191953420639038\n",
      "Epoch 90: Loss 0.5685120224952698\n",
      "Epoch 100: Loss 0.47474077343940735\n",
      "Epoch 110: Loss 0.45223188400268555\n",
      "Epoch 120: Loss 0.4300173223018646\n",
      "Epoch 130: Loss 0.40478822588920593\n",
      "Epoch 140: Loss 0.3867104649543762\n",
      "Epoch 150: Loss 0.4108926057815552\n",
      "Epoch 160: Loss 0.3813628554344177\n",
      "Epoch 170: Loss 0.3723587095737457\n",
      "Epoch 180: Loss 0.35405316948890686\n",
      "Epoch 190: Loss 0.3226175308227539\n",
      "Epoch 200: Loss 0.31528592109680176\n",
      "Epoch 210: Loss 0.348154217004776\n",
      "Epoch 220: Loss 0.348397821187973\n",
      "Epoch 230: Loss 0.3274975121021271\n",
      "Epoch 240: Loss 0.35632267594337463\n",
      "Epoch 250: Loss 0.32201990485191345\n",
      "Epoch 260: Loss 0.3093873858451843\n",
      "Epoch 270: Loss 0.329556405544281\n",
      "Epoch 280: Loss 0.315054714679718\n",
      "Epoch 290: Loss 0.3205450177192688\n",
      "Epoch 300: Loss 0.3235977292060852\n",
      "Epoch 310: Loss 0.2924625873565674\n",
      "Epoch 320: Loss 0.312538206577301\n",
      "Epoch 330: Loss 0.29888755083084106\n",
      "Epoch 340: Loss 0.33054018020629883\n",
      "Epoch 350: Loss 0.34310466051101685\n",
      "Epoch 360: Loss 0.4079001247882843\n",
      "Epoch 370: Loss 0.34257763624191284\n",
      "Epoch 380: Loss 0.3052141070365906\n",
      "Epoch 390: Loss 0.3062784671783447\n",
      "Epoch 400: Loss 0.2796960175037384\n",
      "Epoch 410: Loss 0.2812516391277313\n",
      "Epoch 420: Loss 0.31908562779426575\n",
      "Epoch 430: Loss 0.31718912720680237\n",
      "Epoch 440: Loss 0.3107684850692749\n",
      "Epoch 450: Loss 0.298313707113266\n",
      "Epoch 460: Loss 0.28854429721832275\n",
      "Epoch 470: Loss 0.2866705656051636\n",
      "Epoch 480: Loss 0.33427053689956665\n",
      "Epoch 490: Loss 0.2865202724933624\n",
      "Epoch 500: Loss 0.26830166578292847\n",
      "Epoch 510: Loss 0.285348117351532\n",
      "Epoch 520: Loss 0.27018287777900696\n",
      "Epoch 530: Loss 0.28730690479278564\n",
      "Epoch 540: Loss 0.265325665473938\n",
      "Epoch 550: Loss 0.28494352102279663\n",
      "Epoch 560: Loss 0.2993590533733368\n",
      "Epoch 570: Loss 0.2703036963939667\n",
      "Epoch 580: Loss 0.2869451940059662\n",
      "Epoch 590: Loss 0.28741005063056946\n",
      "Epoch 600: Loss 0.30441465973854065\n",
      "Epoch 610: Loss 0.3041459918022156\n",
      "Epoch 620: Loss 0.2949114143848419\n",
      "Epoch 630: Loss 0.28067171573638916\n",
      "Epoch 640: Loss 0.28058353066444397\n",
      "Epoch 650: Loss 0.2611761689186096\n",
      "Epoch 660: Loss 0.2683146595954895\n",
      "Epoch 670: Loss 0.2978747487068176\n",
      "Epoch 680: Loss 0.27665895223617554\n",
      "Epoch 690: Loss 0.2838919162750244\n",
      "Epoch 700: Loss 0.3270857036113739\n",
      "Epoch 710: Loss 0.2832755148410797\n",
      "Epoch 720: Loss 0.2916267216205597\n",
      "Epoch 730: Loss 0.2940669357776642\n",
      "Epoch 740: Loss 0.2876499593257904\n",
      "Epoch 750: Loss 0.2624145746231079\n",
      "Epoch 760: Loss 0.2960730791091919\n",
      "Epoch 770: Loss 0.2904130220413208\n",
      "Epoch 780: Loss 0.2733040452003479\n",
      "Epoch 790: Loss 0.2894171476364136\n",
      "Epoch 800: Loss 0.2829013168811798\n",
      "Epoch 810: Loss 0.2785976827144623\n",
      "Epoch 820: Loss 0.27472421526908875\n",
      "Epoch 830: Loss 0.2544681131839752\n",
      "Epoch 840: Loss 0.25791558623313904\n",
      "Epoch 850: Loss 0.27887916564941406\n",
      "Epoch 860: Loss 0.26239868998527527\n",
      "Epoch 870: Loss 0.2876538634300232\n",
      "Epoch 880: Loss 0.2769051790237427\n",
      "Epoch 890: Loss 0.3323366045951843\n",
      "Epoch 900: Loss 0.27283698320388794\n",
      "Epoch 910: Loss 0.2756402790546417\n",
      "Epoch 920: Loss 0.25894150137901306\n",
      "Epoch 930: Loss 0.28901541233062744\n",
      "Epoch 940: Loss 0.2517433166503906\n",
      "Epoch 950: Loss 0.24523979425430298\n",
      "Epoch 960: Loss 0.259999543428421\n",
      "Epoch 970: Loss 0.3133806884288788\n",
      "Epoch 980: Loss 0.26335135102272034\n",
      "Epoch 990: Loss 0.2693943679332733\n"
     ]
    }
   ],
   "source": [
    "from torch.nn import CrossEntropyLoss\n",
    "from torchmetrics.classification import MulticlassF1Score\n",
    "from torch.optim import Adam\n",
    "\n",
    "model = GCN(dataset.num_node_features, 16, dataset.num_classes)\n",
    "\n",
    "optimizer = Adam(model.parameters(), lr=0.01, weight_decay=5e-4)\n",
    "optm_func = CrossEntropyLoss()\n",
    "metric = MulticlassF1Score(num_classes=dataset.num_classes)\n",
    "\n",
    "model.train()\n",
    "for epoch in range(500):\n",
    "    optimizer.zero_grad()\n",
    "    out = model(data.x, data.edge_index)\n",
    "    loss = optm_func(out[data.train_mask], data.y[data.train_mask])\n",
    "    loss.backward()\n",
    "    optimizer.step()\n",
    "    \n",
    "    if epoch % 10 == 0:\n",
    "        print(f\"Epoch {epoch}: Loss {loss.item()}\")"
   ]
  },
  {
   "cell_type": "markdown",
   "metadata": {},
   "source": [
    "## Test model"
   ]
  },
  {
   "cell_type": "code",
   "execution_count": 54,
   "metadata": {},
   "outputs": [
    {
     "name": "stdout",
     "output_type": "stream",
     "text": [
      "F1 score: 0.7829716193656093\n"
     ]
    },
    {
     "data": {
      "text/plain": [
       "<Axes: >"
      ]
     },
     "execution_count": 54,
     "metadata": {},
     "output_type": "execute_result"
    },
    {
     "data": {
      "image/png": "[encoded data removed]",
      "text/plain": [
       "<Figure size 640x480 with 2 Axes>"
      ]
     },
     "metadata": {},
     "output_type": "display_data"
    }
   ],
   "source": [
    "import seaborn as sns\n",
    "from sklearn.metrics import confusion_matrix, f1_score\n",
    "\n",
    "model.eval()\n",
    "y_pred = out.argmax(dim=1)[data.test_mask].detach().cpu()\n",
    "y = data.y[data.test_mask].detach().cpu()\n",
    "\n",
    "print(f\"F1 score: {f1_score(y, y_pred, average='micro')}\")\n",
    "sns.heatmap(confusion_matrix(y, y_pred), annot=True, fmt='g', cmap='Blues')"
   ]
  },
  {
   "cell_type": "markdown",
   "metadata": {},
   "source": [
    "# Interpolate skip connection\n",
    "\n",
    "$ \\mathbf{z}_i^{l} =\\alpha^l \\odot (W_{\\theta}^l z_i^{l-1}) + (1-\\alpha^l ) \\odot (W_{\\phi}^l \\sum_{j \\in \\mathcal{N}(i)} z_j^{l-1}) \\ $\n",
    "\n",
    "* **MSG**: $m_u^l = W_\\phi^lz^{l-1}_u $\n",
    "* **AGG**: $a_u^l = \\sum_{v \\in N(u)} m_v^l$ \n",
    "* **UPDATE**: $z_u^l = \\alpha^l \\odot (W_\\theta z_i^{l-1}) + (1-\\alpha^l) \\odot a_u^l $"
   ]
  },
  {
   "cell_type": "code",
   "execution_count": null,
   "metadata": {},
   "outputs": [],
   "source": [
    "import torch\n",
    "from torch.nn import Linear, Parameter\n",
    "from torch_geometric.nn import MessagePassing\n",
    "\n",
    "class InterpolateSkipConv(MessagePassing):\n",
    "    def __init__(self, in_channels, out_channels):\n",
    "        super(InterpolateSkipConv, self).__init__(aggr='sum')\n",
    "        \n",
    "        self.W_theta = Linear(in_channels, out_channels)\n",
    "        self.b_theta = Parameter(torch.Tensor(out_channels))\n",
    "\n",
    "        self.W_phi = Linear(in_channels, out_channels)\n",
    "        self.b_phi = Parameter(torch.Tensor(out_channels))\n",
    "\n",
    "        self.alpha = Parameter(torch.Tensor(1))\n",
    "\n",
    "        self.reset_parameters()\n",
    "\n",
    "    def reset_parameters(self):\n",
    "        self.W_theta.reset_parameters()\n",
    "        self.b_theta.data.zero_()\n",
    "        self.W_phi.reset_parameters()\n",
    "        self.b_phi.data.zero_()\n",
    "        self.alpha.data.fill_(0.5)\n",
    "\n",
    "    def forward(self, x, edge_index):\n",
    "        return self.propagate(edge_index, x=x, central_node=x)\n",
    "    \n",
    "    def message(self, x_j):\n",
    "        return self.W_phi(x_j) + self.b_phi\n",
    "    \n",
    "    def update(self, aggr_out, central_node):\n",
    "        z_i = self.W_theta(central_node) + self.b_theta\n",
    "        return self.alpha * z_i + (1 - self.alpha) * aggr_out"
   ]
  },
  {
   "cell_type": "markdown",
   "metadata": {},
   "source": [
    "## Implementación de la red"
   ]
  },
  {
   "cell_type": "code",
   "execution_count": null,
   "metadata": {},
   "outputs": [],
   "source": [
    "import torch\n",
    "import torch.nn.functional as F\n",
    "# tambien disponible en GATConv\n",
    "from torch_geometric.nn import MLP\n",
    "\n",
    "class GCN(torch.nn.Module):\n",
    "    def __init__(self, node_features, hidden_channels, num_classes):\n",
    "        super(GCN, self).__init__()\n",
    "        self.conv1 = InterpolateSkipConv(node_features, hidden_channels)\n",
    "        self.conv2 = InterpolateSkipConv(hidden_channels, hidden_channels)\n",
    "        self.cls = MLP(in_channels=hidden_channels, out_channels=num_classes, num_layers=2, hidden_channels=hidden_channels)\n",
    "\n",
    "    def forward(self, x, edge_index):\n",
    "        x = self.conv1(x, edge_index)\n",
    "        x = F.relu(x)\n",
    "        x = F.dropout(x, p=0.5, training=self.training)\n",
    "        x = self.conv2(x, edge_index)\n",
    "        x = F.relu(x)\n",
    "        x = F.dropout(x, p=0.5, training=self.training)\n",
    "        x = self.cls(x)\n",
    "        return x"
   ]
  },
  {
   "cell_type": "markdown",
   "metadata": {},
   "source": [
    "## Cargar dataset"
   ]
  },
  {
   "cell_type": "code",
   "execution_count": 57,
   "metadata": {},
   "outputs": [
    {
     "name": "stdout",
     "output_type": "stream",
     "text": [
      "Number of graphs: 1\n",
      "Attributes: ['edge_index', 'y', 'x']\n",
      "Number of nodes: 2995\n",
      "Number of edges: 16316\n",
      "Number of node features: 2879\n",
      "Number of edge features: 0\n",
      "Number of classes: 7\n",
      "Contains isolated nodes: False\n",
      "Contains self-loops: False\n",
      "Is undirected: True\n"
     ]
    }
   ],
   "source": [
    "from torch_geometric.datasets import CitationFull\n",
    "\n",
    "dataset = CitationFull(root='CitationFull', name='Cora_ML')\n",
    "print(f\"Number of graphs: {len(dataset)}\")\n",
    "\n",
    "data = dataset[0]\n",
    "print(f\"Attributes: {data.keys()}\")\n",
    "print(f\"Number of nodes: {data.num_nodes}\")\n",
    "print(f\"Number of edges: {data.num_edges}\")\n",
    "print(f\"Number of node features: {data.num_node_features}\")\n",
    "print(f\"Number of edge features: {data.num_edge_features}\")\n",
    "print(f\"Number of classes: {dataset.num_classes}\")\n",
    "print(f\"Contains isolated nodes: {data.has_isolated_nodes()}\")\n",
    "print(f\"Contains self-loops: {data.has_self_loops()}\")\n",
    "print(f\"Is undirected: {data.is_undirected()}\")"
   ]
  },
  {
   "cell_type": "markdown",
   "metadata": {},
   "source": [
    "## Dividir dataset"
   ]
  },
  {
   "cell_type": "code",
   "execution_count": 58,
   "metadata": {},
   "outputs": [],
   "source": [
    "import numpy as np\n",
    "from sklearn.model_selection import train_test_split\n",
    "\n",
    "train_idx, test_idx = train_test_split(np.arange(data.num_nodes), test_size=0.2, stratify=data.y)\n",
    "\n",
    "train_mask = np.zeros(data.num_nodes, dtype=bool)\n",
    "train_mask[train_idx] = True\n",
    "\n",
    "test_mask = np.zeros(data.num_nodes, dtype=bool)\n",
    "test_mask[test_idx] = True\n",
    "\n",
    "data.train_mask = torch.tensor(train_mask)\n",
    "data.test_mask = torch.tensor(test_mask)"
   ]
  },
  {
   "cell_type": "markdown",
   "metadata": {},
   "source": [
    "## Train"
   ]
  },
  {
   "cell_type": "code",
   "execution_count": 59,
   "metadata": {},
   "outputs": [
    {
     "name": "stdout",
     "output_type": "stream",
     "text": [
      "Epoch 0: Loss 2.00000262260437\n",
      "Epoch 10: Loss 1.6787484884262085\n",
      "Epoch 20: Loss 1.499092698097229\n",
      "Epoch 30: Loss 1.3002243041992188\n",
      "Epoch 40: Loss 1.0039710998535156\n",
      "Epoch 50: Loss 0.759504497051239\n",
      "Epoch 60: Loss 0.6132368445396423\n",
      "Epoch 70: Loss 0.5545724630355835\n",
      "Epoch 80: Loss 0.47124183177948\n",
      "Epoch 90: Loss 0.487814724445343\n",
      "Epoch 100: Loss 0.4820616841316223\n",
      "Epoch 110: Loss 0.42864158749580383\n",
      "Epoch 120: Loss 0.40538954734802246\n",
      "Epoch 130: Loss 0.416923850774765\n",
      "Epoch 140: Loss 0.40199214220046997\n",
      "Epoch 150: Loss 0.3850290775299072\n",
      "Epoch 160: Loss 0.39958280324935913\n",
      "Epoch 170: Loss 0.39323484897613525\n",
      "Epoch 180: Loss 0.40327998995780945\n",
      "Epoch 190: Loss 0.4140852987766266\n",
      "Epoch 200: Loss 0.362079918384552\n",
      "Epoch 210: Loss 0.3671644330024719\n",
      "Epoch 220: Loss 0.3612695634365082\n",
      "Epoch 230: Loss 0.35397103428840637\n",
      "Epoch 240: Loss 0.3494463860988617\n",
      "Epoch 250: Loss 0.34873005747795105\n",
      "Epoch 260: Loss 0.3211630880832672\n",
      "Epoch 270: Loss 0.34641027450561523\n",
      "Epoch 280: Loss 0.3581615686416626\n",
      "Epoch 290: Loss 0.3479902148246765\n",
      "Epoch 300: Loss 0.3219129145145416\n",
      "Epoch 310: Loss 0.376175194978714\n",
      "Epoch 320: Loss 0.3511478304862976\n",
      "Epoch 330: Loss 0.3440185785293579\n",
      "Epoch 340: Loss 0.34595999121665955\n",
      "Epoch 350: Loss 0.3724375367164612\n",
      "Epoch 360: Loss 0.3789609670639038\n",
      "Epoch 370: Loss 0.3422285318374634\n",
      "Epoch 380: Loss 0.3164321780204773\n",
      "Epoch 390: Loss 0.32659247517585754\n",
      "Epoch 400: Loss 0.37187403440475464\n",
      "Epoch 410: Loss 0.3616253137588501\n",
      "Epoch 420: Loss 0.3504926562309265\n",
      "Epoch 430: Loss 0.33889079093933105\n",
      "Epoch 440: Loss 0.34022703766822815\n",
      "Epoch 450: Loss 0.33322715759277344\n",
      "Epoch 460: Loss 0.35944005846977234\n",
      "Epoch 470: Loss 0.32402119040489197\n",
      "Epoch 480: Loss 0.3634675443172455\n",
      "Epoch 490: Loss 0.33715394139289856\n"
     ]
    }
   ],
   "source": [
    "from torch.nn import CrossEntropyLoss\n",
    "from torchmetrics.classification import MulticlassF1Score\n",
    "from torch.optim import Adam\n",
    "\n",
    "model = GCN(dataset.num_node_features, 16, dataset.num_classes)\n",
    "\n",
    "optimizer = Adam(model.parameters(), lr=0.01, weight_decay=5e-4)\n",
    "optm_func = CrossEntropyLoss()\n",
    "metric = MulticlassF1Score(num_classes=dataset.num_classes)\n",
    "\n",
    "model.train()\n",
    "for epoch in range(500):\n",
    "    optimizer.zero_grad()\n",
    "    out = model(data.x, data.edge_index)\n",
    "    loss = optm_func(out[data.train_mask], data.y[data.train_mask])\n",
    "    loss.backward()\n",
    "    optimizer.step()\n",
    "    \n",
    "    if epoch % 10 == 0:\n",
    "        print(f\"Epoch {epoch}: Loss {loss.item()}\")"
   ]
  },
  {
   "cell_type": "markdown",
   "metadata": {},
   "source": [
    "## Test model"
   ]
  },
  {
   "cell_type": "code",
   "execution_count": 60,
   "metadata": {},
   "outputs": [
    {
     "name": "stdout",
     "output_type": "stream",
     "text": [
      "F1 score: 0.7562604340567612\n"
     ]
    },
    {
     "data": {
      "text/plain": [
       "<Axes: >"
      ]
     },
     "execution_count": 60,
     "metadata": {},
     "output_type": "execute_result"
    },
    {
     "data": {
      "image/png": "[encoded data removed]",
      "text/plain": [
       "<Figure size 640x480 with 2 Axes>"
      ]
     },
     "metadata": {},
     "output_type": "display_data"
    }
   ],
   "source": [
    "import seaborn as sns\n",
    "from sklearn.metrics import confusion_matrix, f1_score\n",
    "\n",
    "model.eval()\n",
    "y_pred = out.argmax(dim=1)[data.test_mask].detach().cpu()\n",
    "y = data.y[data.test_mask].detach().cpu()\n",
    "\n",
    "print(f\"F1 score: {f1_score(y, y_pred, average='micro')}\")\n",
    "sns.heatmap(confusion_matrix(y, y_pred), annot=True, fmt='g', cmap='Blues')"
   ]
  },
  {
   "cell_type": "markdown",
   "metadata": {},
   "source": [
    "# GRU skip connections\n",
    "\n",
    "Implementación disponible en [pytorch_geometric](https://pytorch-geometric.readthedocs.io/en/stable/generated/torch_geometric.nn.conv.GatedGraphConv.html#torch_geometric.nn.conv.GatedGraphConv)"
   ]
  },
  {
   "cell_type": "markdown",
   "metadata": {},
   "source": [
    "## GRU update\n",
    "\n",
    "* Entradas:\n",
    "    * $ x^t = z_u^{l-1} $\n",
    "    * $ h^{t-1} = a_u^l $\n",
    "\n",
    "* Salida: $h^t$\n",
    "\n",
    "* Ecuaciones:\n",
    "\n",
    "$ r_t = \\sigma(W_{ir} x_t + W_{hr} h_{(t-1)} ) $\n",
    "\n",
    "$ z_t = \\sigma(W_{iz} x_t + W_{hz} h_{(t-1)}) $\n",
    "\n",
    "$ n_t = \\tanh(W_{in} x_t + r_t \\odot W_{hn} h_{(t-1)}) $\n",
    "\n",
    "$ h_t = (1 - z_t) \\odot n_t + z_t \\odot h_{(t-1)} $\n",
    "\n"
   ]
  },
  {
   "cell_type": "code",
   "execution_count": 1,
   "metadata": {},
   "outputs": [],
   "source": [
    "import torch\n",
    "import torch.nn as nn\n",
    "\n",
    "class UpdateGRU(nn.Module):\n",
    "    def __init__(self, input_dim, hidden_dim):\n",
    "        \"\"\"\n",
    "        Custom GRU based on the given equations.\n",
    "        \n",
    "        Args:\n",
    "            input_dim (int): Dimension of the input vector x.\n",
    "            hidden_dim (int): Dimension of the hidden state h.\n",
    "        \"\"\"\n",
    "        super(UpdateGRU, self).__init__()\n",
    "        self.hidden_dim = hidden_dim\n",
    "        \n",
    "        # Input-to-hidden weights and biases\n",
    "        self.W_ir = nn.Linear(input_dim, hidden_dim, bias=True)\n",
    "        self.W_iz = nn.Linear(input_dim, hidden_dim, bias=True)\n",
    "        self.W_in = nn.Linear(input_dim, hidden_dim, bias=True)\n",
    "        \n",
    "        # Hidden-to-hidden weights and biases\n",
    "        self.W_hr = nn.Linear(hidden_dim, hidden_dim, bias=True)\n",
    "        self.W_hz = nn.Linear(hidden_dim, hidden_dim, bias=True)\n",
    "        self.W_hn = nn.Linear(hidden_dim, hidden_dim, bias=True)\n",
    "        \n",
    "        # Activation functions\n",
    "        self.sigmoid = nn.Sigmoid()\n",
    "        self.tanh = nn.Tanh()\n",
    "\n",
    "    def reset_parameters(self):\n",
    "        self.W_ir.reset_parameters()\n",
    "        self.W_iz.reset_parameters()\n",
    "        self.W_in.reset_parameters()\n",
    "        self.W_hr.reset_parameters()\n",
    "        self.W_hz.reset_parameters()\n",
    "        self.W_hn.reset_parameters\n",
    "\n",
    "    def forward(self, x_t, h_t_minus_1):\n",
    "        \"\"\"\n",
    "        Forward pass for a single time step.\n",
    "        \n",
    "        Args:\n",
    "            x_t (torch.Tensor): Input vector at time t, shape (batch_size, input_dim).\n",
    "            h_t_minus_1 (torch.Tensor): Hidden state at time t-1, shape (batch_size, hidden_dim).\n",
    "        \n",
    "        Returns:\n",
    "            h_t (torch.Tensor): Updated hidden state at time t, shape (batch_size, hidden_dim).\n",
    "        \"\"\"\n",
    "        # Compute reset gate\n",
    "        r_t = self.sigmoid(self.W_ir(x_t) + self.W_hr(h_t_minus_1))\n",
    "        \n",
    "        # Compute update gate\n",
    "        z_t = self.sigmoid(self.W_iz(x_t) + self.W_hz(h_t_minus_1))\n",
    "        \n",
    "        # Compute candidate hidden state\n",
    "        n_t = self.tanh(self.W_in(x_t) + r_t * self.W_hn(h_t_minus_1))\n",
    "        \n",
    "        # Compute new hidden state\n",
    "        h_t = (1 - z_t) * n_t + z_t * h_t_minus_1\n",
    "        \n",
    "        return h_t"
   ]
  },
  {
   "cell_type": "markdown",
   "metadata": {},
   "source": [
    "## GRU skip connection layer\n",
    "\n",
    "$ z_i^l = \\text{GRU}(W_{\\phi}^l \\sum_{j \\in \\mathcal{N}(i)} z_j^{l-1}, z_i^{t-1}) $\n",
    "\n",
    "* **MSG**: $m_u^l = W_\\phi^lz^{l-1}_u $\n",
    "* **AGG**: $a_u^l = \\sum_{v \\in N(u)} m_v^l$ \n",
    "* **UPDATE**: $z_u^l = \\text{GRU}(a_u^l, z_u^{l-1}) $"
   ]
  },
  {
   "cell_type": "code",
   "execution_count": 2,
   "metadata": {},
   "outputs": [],
   "source": [
    "import torch\n",
    "from torch.nn import Linear\n",
    "from torch_geometric.nn import MessagePassing\n",
    "\n",
    "class GRUConv(MessagePassing):\n",
    "    def __init__(self, in_channels, out_channels):\n",
    "        super(GRUConv, self).__init__(aggr='sum')\n",
    "\n",
    "        self.W_phi = Linear(in_channels, out_channels, bias=True)\n",
    "        self.gru = UpdateGRU(in_channels, out_channels)\n",
    "\n",
    "        self.reset_parameters()\n",
    "\n",
    "    def reset_parameters(self):\n",
    "        self.W_phi.reset_parameters()\n",
    "        self.gru.reset_parameters()\n",
    "\n",
    "    def forward(self, x, edge_index):\n",
    "        return self.propagate(edge_index, x=x, central_node=x)\n",
    "    \n",
    "    def message(self, x_j):\n",
    "        return self.W_phi(x_j)\n",
    "    \n",
    "    def update(self, aggr_out, central_node):\n",
    "        return self.gru(central_node, aggr_out)"
   ]
  },
  {
   "cell_type": "markdown",
   "metadata": {},
   "source": [
    "## Implementación de la red"
   ]
  },
  {
   "cell_type": "code",
   "execution_count": 3,
   "metadata": {},
   "outputs": [],
   "source": [
    "import torch\n",
    "import torch.nn.functional as F\n",
    "# tambien disponible en GATConv\n",
    "from torch_geometric.nn import MLP\n",
    "\n",
    "class GCN(torch.nn.Module):\n",
    "    def __init__(self, node_features, hidden_channels, num_classes):\n",
    "        super(GCN, self).__init__()\n",
    "        self.conv1 = GRUConv(node_features, hidden_channels)\n",
    "        self.conv2 = GRUConv(hidden_channels, hidden_channels)\n",
    "        self.cls = MLP(in_channels=hidden_channels, out_channels=num_classes, num_layers=2, hidden_channels=hidden_channels)\n",
    "\n",
    "    def forward(self, x, edge_index):\n",
    "        x = self.conv1(x, edge_index)\n",
    "        x = F.relu(x)\n",
    "        x = F.dropout(x, p=0.5, training=self.training)\n",
    "        x = self.conv2(x, edge_index)\n",
    "        x = F.relu(x)\n",
    "        x = F.dropout(x, p=0.5, training=self.training)\n",
    "        x = self.cls(x)\n",
    "        return x"
   ]
  },
  {
   "cell_type": "markdown",
   "metadata": {},
   "source": [
    "## Cargar dataset"
   ]
  },
  {
   "cell_type": "code",
   "execution_count": 4,
   "metadata": {},
   "outputs": [
    {
     "name": "stdout",
     "output_type": "stream",
     "text": [
      "Number of graphs: 1\n",
      "Attributes: ['x', 'edge_index', 'y']\n",
      "Number of nodes: 2995\n",
      "Number of edges: 16316\n",
      "Number of node features: 2879\n",
      "Number of edge features: 0\n",
      "Number of classes: 7\n",
      "Contains isolated nodes: False\n",
      "Contains self-loops: False\n",
      "Is undirected: True\n"
     ]
    }
   ],
   "source": [
    "from torch_geometric.datasets import CitationFull\n",
    "\n",
    "dataset = CitationFull(root='CitationFull', name='Cora_ML')\n",
    "print(f\"Number of graphs: {len(dataset)}\")\n",
    "\n",
    "data = dataset[0]\n",
    "print(f\"Attributes: {data.keys()}\")\n",
    "print(f\"Number of nodes: {data.num_nodes}\")\n",
    "print(f\"Number of edges: {data.num_edges}\")\n",
    "print(f\"Number of node features: {data.num_node_features}\")\n",
    "print(f\"Number of edge features: {data.num_edge_features}\")\n",
    "print(f\"Number of classes: {dataset.num_classes}\")\n",
    "print(f\"Contains isolated nodes: {data.has_isolated_nodes()}\")\n",
    "print(f\"Contains self-loops: {data.has_self_loops()}\")\n",
    "print(f\"Is undirected: {data.is_undirected()}\")"
   ]
  },
  {
   "cell_type": "markdown",
   "metadata": {},
   "source": [
    "## Dividir dataset"
   ]
  },
  {
   "cell_type": "code",
   "execution_count": 5,
   "metadata": {},
   "outputs": [],
   "source": [
    "import numpy as np\n",
    "from sklearn.model_selection import train_test_split\n",
    "\n",
    "train_idx, test_idx = train_test_split(np.arange(data.num_nodes), test_size=0.2, stratify=data.y)\n",
    "\n",
    "train_mask = np.zeros(data.num_nodes, dtype=bool)\n",
    "train_mask[train_idx] = True\n",
    "\n",
    "test_mask = np.zeros(data.num_nodes, dtype=bool)\n",
    "test_mask[test_idx] = True\n",
    "\n",
    "data.train_mask = torch.tensor(train_mask)\n",
    "data.test_mask = torch.tensor(test_mask)"
   ]
  },
  {
   "cell_type": "markdown",
   "metadata": {},
   "source": [
    "## Train"
   ]
  },
  {
   "cell_type": "code",
   "execution_count": 6,
   "metadata": {},
   "outputs": [
    {
     "name": "stdout",
     "output_type": "stream",
     "text": [
      "Epoch 0: Loss 1.9259428977966309\n",
      "Epoch 10: Loss 1.7988197803497314\n",
      "Epoch 20: Loss 1.7048900127410889\n",
      "Epoch 30: Loss 1.6418403387069702\n",
      "Epoch 40: Loss 1.5478209257125854\n",
      "Epoch 50: Loss 1.5188835859298706\n",
      "Epoch 60: Loss 1.4630635976791382\n",
      "Epoch 70: Loss 1.3646223545074463\n",
      "Epoch 80: Loss 1.2592042684555054\n",
      "Epoch 90: Loss 1.0767492055892944\n",
      "Epoch 100: Loss 0.9691735506057739\n",
      "Epoch 110: Loss 0.9828261137008667\n",
      "Epoch 120: Loss 0.9056493043899536\n",
      "Epoch 130: Loss 0.8036960363388062\n",
      "Epoch 140: Loss 0.7350432872772217\n",
      "Epoch 150: Loss 0.7201147079467773\n",
      "Epoch 160: Loss 0.6499743461608887\n",
      "Epoch 170: Loss 0.6138747334480286\n",
      "Epoch 180: Loss 0.5495741963386536\n",
      "Epoch 190: Loss 0.5157570838928223\n",
      "Epoch 200: Loss 0.49001437425613403\n",
      "Epoch 210: Loss 0.4659014344215393\n",
      "Epoch 220: Loss 0.43345171213150024\n",
      "Epoch 230: Loss 0.44242316484451294\n",
      "Epoch 240: Loss 0.4191240966320038\n",
      "Epoch 250: Loss 0.3698844909667969\n",
      "Epoch 260: Loss 0.38642561435699463\n",
      "Epoch 270: Loss 0.36545154452323914\n",
      "Epoch 280: Loss 0.3549274802207947\n",
      "Epoch 290: Loss 0.3664320707321167\n",
      "Epoch 300: Loss 0.3593176007270813\n",
      "Epoch 310: Loss 0.33252662420272827\n",
      "Epoch 320: Loss 0.32288873195648193\n",
      "Epoch 330: Loss 0.3781355023384094\n",
      "Epoch 340: Loss 0.37003064155578613\n",
      "Epoch 350: Loss 0.32390645146369934\n",
      "Epoch 360: Loss 0.3482898473739624\n",
      "Epoch 370: Loss 0.32470396161079407\n",
      "Epoch 380: Loss 0.33450424671173096\n",
      "Epoch 390: Loss 0.3321668803691864\n",
      "Epoch 400: Loss 0.33083653450012207\n",
      "Epoch 410: Loss 0.29235291481018066\n",
      "Epoch 420: Loss 0.31328722834587097\n",
      "Epoch 430: Loss 0.30751141905784607\n",
      "Epoch 440: Loss 0.3202112019062042\n",
      "Epoch 450: Loss 0.29621514678001404\n",
      "Epoch 460: Loss 0.3345038890838623\n",
      "Epoch 470: Loss 0.2857998311519623\n",
      "Epoch 480: Loss 0.29691964387893677\n",
      "Epoch 490: Loss 0.37441885471343994\n"
     ]
    }
   ],
   "source": [
    "from torch.nn import CrossEntropyLoss\n",
    "from torch.optim import Adam\n",
    "\n",
    "model = GCN(dataset.num_node_features, 16, dataset.num_classes)\n",
    "\n",
    "optimizer = Adam(model.parameters(), lr=0.01, weight_decay=5e-4)\n",
    "optm_func = CrossEntropyLoss()\n",
    "\n",
    "model.train()\n",
    "for epoch in range(500):\n",
    "    optimizer.zero_grad()\n",
    "    out = model(data.x, data.edge_index)\n",
    "    loss = optm_func(out[data.train_mask], data.y[data.train_mask])\n",
    "    loss.backward()\n",
    "    optimizer.step()\n",
    "    \n",
    "    if epoch % 10 == 0:\n",
    "        print(f\"Epoch {epoch}: Loss {loss.item()}\")"
   ]
  },
  {
   "cell_type": "markdown",
   "metadata": {},
   "source": [
    "## Test model"
   ]
  },
  {
   "cell_type": "code",
   "execution_count": 7,
   "metadata": {},
   "outputs": [
    {
     "name": "stdout",
     "output_type": "stream",
     "text": [
      "F1 score: 0.8030050083472454\n"
     ]
    },
    {
     "data": {
      "text/plain": [
       "<Axes: >"
      ]
     },
     "execution_count": 7,
     "metadata": {},
     "output_type": "execute_result"
    },
    {
     "data": {
      "image/png": "[encoded data removed]",
      "text/plain": [
       "<Figure size 640x480 with 2 Axes>"
      ]
     },
     "metadata": {},
     "output_type": "display_data"
    }
   ],
   "source": [
    "import seaborn as sns\n",
    "from sklearn.metrics import confusion_matrix, f1_score\n",
    "\n",
    "model.eval()\n",
    "y_pred = out.argmax(dim=1)[data.test_mask].detach().cpu()\n",
    "y = data.y[data.test_mask].detach().cpu()\n",
    "\n",
    "print(f\"F1 score: {f1_score(y, y_pred, average='micro')}\")\n",
    "sns.heatmap(confusion_matrix(y, y_pred), annot=True, fmt='g', cmap='Blues')"
   ]
  },
  {
   "cell_type": "markdown",
   "metadata": {},
   "source": [
    "# Jumping knowledge\n",
    "\n",
    "Disponible en [pytorch_geometric](https://pytorch-geometric.readthedocs.io/en/stable/generated/torch_geometric.nn.models.JumpingKnowledge.html)\n",
    "\n"
   ]
  },
  {
   "cell_type": "code",
   "execution_count": null,
   "metadata": {},
   "outputs": [
    {
     "name": "stderr",
     "output_type": "stream",
     "text": [
      "C:\\Users\\Angel Panizo\\AppData\\Local\\Packages\\PythonSoftwareFoundation.Python.3.10_qbz5n2kfra8p0\\LocalCache\\local-packages\\Python310\\site-packages\\torch_geometric\\typing.py:86: UserWarning: An issue occurred while importing 'torch-scatter'. Disabling its usage. Stacktrace: [WinError 127] No se encontró el proceso especificado\n",
      "  warnings.warn(f\"An issue occurred while importing 'torch-scatter'. \"\n",
      "C:\\Users\\Angel Panizo\\AppData\\Local\\Packages\\PythonSoftwareFoundation.Python.3.10_qbz5n2kfra8p0\\LocalCache\\local-packages\\Python310\\site-packages\\torch_geometric\\typing.py:97: UserWarning: An issue occurred while importing 'torch-cluster'. Disabling its usage. Stacktrace: [WinError 127] No se encontró el proceso especificado\n",
      "  warnings.warn(f\"An issue occurred while importing 'torch-cluster'. \"\n",
      "C:\\Users\\Angel Panizo\\AppData\\Local\\Packages\\PythonSoftwareFoundation.Python.3.10_qbz5n2kfra8p0\\LocalCache\\local-packages\\Python310\\site-packages\\torch_geometric\\typing.py:113: UserWarning: An issue occurred while importing 'torch-spline-conv'. Disabling its usage. Stacktrace: [WinError 127] No se encontró el proceso especificado\n",
      "  warnings.warn(\n",
      "C:\\Users\\Angel Panizo\\AppData\\Local\\Packages\\PythonSoftwareFoundation.Python.3.10_qbz5n2kfra8p0\\LocalCache\\local-packages\\Python310\\site-packages\\torch_geometric\\typing.py:124: UserWarning: An issue occurred while importing 'torch-sparse'. Disabling its usage. Stacktrace: [WinError 127] No se encontró el proceso especificado\n",
      "  warnings.warn(f\"An issue occurred while importing 'torch-sparse'. \"\n"
     ]
    }
   ],
   "source": [
    "import torch\n",
    "from torch_geometric.nn import GCNConv, MLP, JumpingKnowledge\n",
    "import torch.nn.functional as F\n",
    "\n",
    "class GCN(torch.nn.Module):\n",
    "    def __init__(self, node_features, hidden_channels, num_classes):\n",
    "        super(GCN, self).__init__()\n",
    "        self.conv1 = GCNConv(node_features, hidden_channels)\n",
    "        self.conv2 = GCNConv(hidden_channels, hidden_channels)\n",
    "        self.jk = JumpingKnowledge(mode='cat')\n",
    "        self.cls = MLP(in_channels=hidden_channels*2, out_channels=num_classes, num_layers=1) # 2 es el numero de capas, para generalizar , n capas\n",
    "\n",
    "    def forward(self, x, edge_index):\n",
    "        x = self.conv1(x, edge_index)\n",
    "        x_1 = F.relu(x)\n",
    "        x = self.conv2(x, edge_index)\n",
    "        x_2 = F.relu(x)\n",
    "        x = self.jk([x_1, x_2])\n",
    "        x = self.cls(x)\n",
    "        return x"
   ]
  },
  {
   "cell_type": "markdown",
   "metadata": {},
   "source": [
    "## Cargar dataset"
   ]
  },
  {
   "cell_type": "code",
   "execution_count": 2,
   "metadata": {},
   "outputs": [
    {
     "name": "stdout",
     "output_type": "stream",
     "text": [
      "Number of graphs: 1\n",
      "Attributes: ['y', 'edge_index', 'x']\n",
      "Number of nodes: 2995\n",
      "Number of edges: 16316\n",
      "Number of node features: 2879\n",
      "Number of edge features: 0\n",
      "Number of classes: 7\n",
      "Contains isolated nodes: False\n",
      "Contains self-loops: False\n",
      "Is undirected: True\n"
     ]
    }
   ],
   "source": [
    "from torch_geometric.datasets import CitationFull\n",
    "\n",
    "dataset = CitationFull(root='CitationFull', name='Cora_ML')\n",
    "print(f\"Number of graphs: {len(dataset)}\")\n",
    "\n",
    "data = dataset[0]\n",
    "print(f\"Attributes: {data.keys()}\")\n",
    "print(f\"Number of nodes: {data.num_nodes}\")\n",
    "print(f\"Number of edges: {data.num_edges}\")\n",
    "print(f\"Number of node features: {data.num_node_features}\")\n",
    "print(f\"Number of edge features: {data.num_edge_features}\")\n",
    "print(f\"Number of classes: {dataset.num_classes}\")\n",
    "print(f\"Contains isolated nodes: {data.has_isolated_nodes()}\")\n",
    "print(f\"Contains self-loops: {data.has_self_loops()}\")\n",
    "print(f\"Is undirected: {data.is_undirected()}\")"
   ]
  },
  {
   "cell_type": "markdown",
   "metadata": {},
   "source": [
    "## Dividir dataset"
   ]
  },
  {
   "cell_type": "code",
   "execution_count": 3,
   "metadata": {},
   "outputs": [],
   "source": [
    "import numpy as np\n",
    "from sklearn.model_selection import train_test_split\n",
    "\n",
    "train_idx, test_idx = train_test_split(np.arange(data.num_nodes), test_size=0.2, stratify=data.y)\n",
    "\n",
    "train_mask = np.zeros(data.num_nodes, dtype=bool)\n",
    "train_mask[train_idx] = True\n",
    "\n",
    "test_mask = np.zeros(data.num_nodes, dtype=bool)\n",
    "test_mask[test_idx] = True\n",
    "\n",
    "data.train_mask = torch.tensor(train_mask)\n",
    "data.test_mask = torch.tensor(test_mask)"
   ]
  },
  {
   "cell_type": "markdown",
   "metadata": {},
   "source": [
    "## Train"
   ]
  },
  {
   "cell_type": "code",
   "execution_count": 4,
   "metadata": {},
   "outputs": [
    {
     "name": "stdout",
     "output_type": "stream",
     "text": [
      "Epoch 0: Loss 1.946506142616272\n",
      "Epoch 10: Loss 0.6916095018386841\n",
      "Epoch 20: Loss 0.22733713686466217\n",
      "Epoch 30: Loss 0.12355022132396698\n",
      "Epoch 40: Loss 0.07788509130477905\n",
      "Epoch 50: Loss 0.0606655590236187\n",
      "Epoch 60: Loss 0.052503932267427444\n",
      "Epoch 70: Loss 0.04603101313114166\n",
      "Epoch 80: Loss 0.04296857491135597\n",
      "Epoch 90: Loss 0.03912689536809921\n",
      "Epoch 100: Loss 0.03305814415216446\n",
      "Epoch 110: Loss 0.030634598806500435\n",
      "Epoch 120: Loss 0.028691373765468597\n",
      "Epoch 130: Loss 0.02711031213402748\n",
      "Epoch 140: Loss 0.03307686373591423\n",
      "Epoch 150: Loss 0.024179399013519287\n",
      "Epoch 160: Loss 0.02317662350833416\n",
      "Epoch 170: Loss 0.02255486510694027\n",
      "Epoch 180: Loss 0.021733896806836128\n",
      "Epoch 190: Loss 0.021654780954122543\n",
      "Epoch 200: Loss 0.020666340366005898\n",
      "Epoch 210: Loss 0.019614452496170998\n",
      "Epoch 220: Loss 0.018810318782925606\n",
      "Epoch 230: Loss 0.018314190208911896\n",
      "Epoch 240: Loss 0.01861388050019741\n",
      "Epoch 250: Loss 0.01805298961699009\n",
      "Epoch 260: Loss 0.020135799422860146\n",
      "Epoch 270: Loss 0.01857263781130314\n",
      "Epoch 280: Loss 0.01882920041680336\n",
      "Epoch 290: Loss 0.017324266955256462\n",
      "Epoch 300: Loss 0.017190391197800636\n",
      "Epoch 310: Loss 0.016576683148741722\n",
      "Epoch 320: Loss 0.01637299172580242\n",
      "Epoch 330: Loss 0.01581551693379879\n",
      "Epoch 340: Loss 0.026844611391425133\n",
      "Epoch 350: Loss 0.4069501459598541\n",
      "Epoch 360: Loss 0.11624942719936371\n",
      "Epoch 370: Loss 0.05429605767130852\n",
      "Epoch 380: Loss 0.03383949398994446\n",
      "Epoch 390: Loss 0.023369496688246727\n",
      "Epoch 400: Loss 0.01952567882835865\n",
      "Epoch 410: Loss 0.018011296167969704\n",
      "Epoch 420: Loss 0.01755901798605919\n",
      "Epoch 430: Loss 0.017359664663672447\n",
      "Epoch 440: Loss 0.01723872311413288\n",
      "Epoch 450: Loss 0.017114758491516113\n",
      "Epoch 460: Loss 0.01691919006407261\n",
      "Epoch 470: Loss 0.016774186864495277\n",
      "Epoch 480: Loss 0.016652291640639305\n",
      "Epoch 490: Loss 0.01649394817650318\n"
     ]
    }
   ],
   "source": [
    "from torch.nn import CrossEntropyLoss\n",
    "from torch.optim import Adam\n",
    "\n",
    "model = GCN(dataset.num_node_features, 16, dataset.num_classes)\n",
    "\n",
    "optimizer = Adam(model.parameters(), lr=0.01, weight_decay=5e-4)\n",
    "optm_func = CrossEntropyLoss()\n",
    "\n",
    "model.train()\n",
    "for epoch in range(500):\n",
    "    optimizer.zero_grad()\n",
    "    out = model(data.x, data.edge_index)\n",
    "    loss = optm_func(out[data.train_mask], data.y[data.train_mask])\n",
    "    loss.backward()\n",
    "    optimizer.step()\n",
    "    \n",
    "    if epoch % 10 == 0:\n",
    "        print(f\"Epoch {epoch}: Loss {loss.item()}\")"
   ]
  },
  {
   "cell_type": "markdown",
   "metadata": {},
   "source": [
    "## Test model"
   ]
  },
  {
   "cell_type": "code",
   "execution_count": 5,
   "metadata": {},
   "outputs": [
    {
     "name": "stdout",
     "output_type": "stream",
     "text": [
      "F1 score: 0.8631051752921536\n"
     ]
    },
    {
     "data": {
      "text/plain": [
       "<Axes: >"
      ]
     },
     "execution_count": 5,
     "metadata": {},
     "output_type": "execute_result"
    },
    {
     "data": {
      "image/png": "[encoded data removed]",
      "text/plain": [
       "<Figure size 640x480 with 2 Axes>"
      ]
     },
     "metadata": {},
     "output_type": "display_data"
    }
   ],
   "source": [
    "import seaborn as sns\n",
    "from sklearn.metrics import confusion_matrix, f1_score\n",
    "\n",
    "model.eval()\n",
    "y_pred = out.argmax(dim=1)[data.test_mask].detach().cpu()\n",
    "y = data.y[data.test_mask].detach().cpu()\n",
    "\n",
    "print(f\"F1 score: {f1_score(y, y_pred, average='micro')}\")\n",
    "sns.heatmap(confusion_matrix(y, y_pred), annot=True, fmt='g', cmap='Blues')"
   ]
  }
 ],
 "metadata": {
  "kernelspec": {
   "display_name": "Python 3 (ipykernel)",
   "language": "python",
   "name": "python3"
  },
  "language_info": {
   "codemirror_mode": {
    "name": "ipython",
    "version": 3
   },
   "file_extension": ".py",
   "mimetype": "text/x-python",
   "name": "python",
   "nbconvert_exporter": "python",
   "pygments_lexer": "ipython3",
   "version": "3.12.3"
  }
 },
 "nbformat": 4,
 "nbformat_minor": 4
}
