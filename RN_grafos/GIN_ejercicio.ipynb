{
 "cells": [
  {
   "cell_type": "markdown",
   "metadata": {},
   "source": [
    "# Ejercicio"
   ]
  },
  {
   "cell_type": "markdown",
   "metadata": {},
   "source": [
    "# Caso real: Citations\n",
    "\n",
    "Probaremos la red en un dataset real con una tarea real, prediccion de la categoria de un paper segun la red de citas.\n",
    "\n",
    "* Los nodos son articulos\n",
    "* Las aristas son citas entre articulos\n",
    "* Los atributos de los nodos representan el texto del articulo.\n",
    "* Predecir una categoria de entre 7 posibles\n",
    "\n",
    "Mensaje: identidad, z\n",
    "Agregacion: suma\n",
    "update: MLP (un parametro), (i+...) (segundo parametro) y lo que resulta de la agregacion (es agg_out)\n",
    "\n",
    "todo lo que dependa de zv, tiene que ser la agregacion: lo que afecta al mensaje (la suma)\n",
    "v son vecinos de u, vienen de la capa anterior.\n",
    "\n",
    "u es el nodo actual\n",
    "\n",
    "\n",
    "---\n",
    "\n",
    "MSG: identidad\n",
    "UPDATE: MLP ((..epsilon ...)\n",
    "AGGR: Suma\n"
   ]
  },
  {
   "cell_type": "markdown",
   "metadata": {},
   "source": [
    "## Cargar dataset"
   ]
  },
  {
   "cell_type": "code",
   "execution_count": 16,
   "metadata": {},
   "outputs": [
    {
     "name": "stderr",
     "output_type": "stream",
     "text": [
      "Downloading https://github.com/abojchevski/graph2gauss/raw/master/data/cora_ml.npz\n",
      "Processing...\n"
     ]
    },
    {
     "name": "stdout",
     "output_type": "stream",
     "text": [
      "Number of graphs: 1\n",
      "Attributes: ['y', 'x', 'edge_index']\n",
      "Number of nodes: 2995\n",
      "Number of edges: 16316\n",
      "Number of node features: 2879\n",
      "Number of edge features: 0\n",
      "Number of classes: 7\n",
      "Contains isolated nodes: False\n",
      "Contains self-loops: False\n",
      "Is undirected: True\n"
     ]
    },
    {
     "name": "stderr",
     "output_type": "stream",
     "text": [
      "Done!\n"
     ]
    }
   ],
   "source": [
    "from torch_geometric.datasets import CitationFull\n",
    "\n",
    "dataset = CitationFull(root='CitationFull', name='Cora_ML')\n",
    "print(f\"Number of graphs: {len(dataset)}\")\n",
    "\n",
    "data = dataset[0]\n",
    "print(f\"Attributes: {data.keys()}\")\n",
    "print(f\"Number of nodes: {data.num_nodes}\")\n",
    "print(f\"Number of edges: {data.num_edges}\")\n",
    "print(f\"Number of node features: {data.num_node_features}\")\n",
    "print(f\"Number of edge features: {data.num_edge_features}\")\n",
    "print(f\"Number of classes: {dataset.num_classes}\")\n",
    "print(f\"Contains isolated nodes: {data.has_isolated_nodes()}\")\n",
    "print(f\"Contains self-loops: {data.has_self_loops()}\")\n",
    "print(f\"Is undirected: {data.is_undirected()}\")"
   ]
  },
  {
   "cell_type": "markdown",
   "metadata": {},
   "source": [
    "## Definir una capa nueva de paso de mensajes\n",
    "\n",
    "$$\n",
    "z_u^l = \\text{MLP}_{\\theta}^l \\left( \\left( 1 + \\epsilon^l \\right) \\odot z_u^{l-1} + \\sum_{v \\in \\mathcal{N}(u)} z_v^{l-1} \\right)\n",
    "$$"
   ]
  },
  {
   "cell_type": "code",
   "execution_count": 27,
   "metadata": {},
   "outputs": [],
   "source": [
    "import torch\n",
    "from torch.nn import Linear, Parameter\n",
    "from torch_geometric.nn import MessagePassing\n",
    "from torch_geometric.utils import add_self_loops\n",
    "from torch_geometric.nn import  MLP\n",
    "\n",
    "class GIN(MessagePassing):\n",
    "    def __init__(self, in_channels, out_channels):\n",
    "        super(GIN, self).__init__(aggr='sum') # ya viene implementado la agg de suma\n",
    "        \n",
    "        self.mlp = MLP(\n",
    "            in_channels = in_channels,\n",
    "            out_channels = out_channels,\n",
    "            hidden_channels = 32,\n",
    "            num_layer = 2\n",
    "        )\n",
    "        self.epsilon = Parameter(torch.tensor([0,0]))\n",
    "        \n",
    "        self.reset_parameters()\n",
    "\n",
    "    def reset_parameters(self):\n",
    "        self.mlp.reset_parameter()\n",
    "        self.epsilon.fill_(0.5)\n",
    "\n",
    "    def forward(self, x, edge_index):\n",
    "        \n",
    "        return self.propagate(edge_index, x=x, central_node=x) # pasamos central_node\n",
    "    \n",
    "    def message(self, x_j):\n",
    "        return x_j\n",
    "    \n",
    "    def update(self, aggr_out, central_node): # se accede a central_node porque se pasa en el forward\n",
    "        upd = (1 + self.epsilon)+central_node+aggr_out\n",
    "        return aggr_out"
   ]
  },
  {
   "cell_type": "code",
   "execution_count": null,
   "metadata": {},
   "outputs": [
    {
     "name": "stderr",
     "output_type": "stream",
     "text": [
      "C:\\Users\\Angel Panizo\\AppData\\Local\\Packages\\PythonSoftwareFoundation.Python.3.10_qbz5n2kfra8p0\\LocalCache\\local-packages\\Python310\\site-packages\\torch_geometric\\typing.py:86: UserWarning: An issue occurred while importing 'torch-scatter'. Disabling its usage. Stacktrace: [WinError 127] No se encontró el proceso especificado\n",
      "  warnings.warn(f\"An issue occurred while importing 'torch-scatter'. \"\n",
      "C:\\Users\\Angel Panizo\\AppData\\Local\\Packages\\PythonSoftwareFoundation.Python.3.10_qbz5n2kfra8p0\\LocalCache\\local-packages\\Python310\\site-packages\\torch_geometric\\typing.py:97: UserWarning: An issue occurred while importing 'torch-cluster'. Disabling its usage. Stacktrace: [WinError 127] No se encontró el proceso especificado\n",
      "  warnings.warn(f\"An issue occurred while importing 'torch-cluster'. \"\n",
      "C:\\Users\\Angel Panizo\\AppData\\Local\\Packages\\PythonSoftwareFoundation.Python.3.10_qbz5n2kfra8p0\\LocalCache\\local-packages\\Python310\\site-packages\\torch_geometric\\typing.py:113: UserWarning: An issue occurred while importing 'torch-spline-conv'. Disabling its usage. Stacktrace: [WinError 127] No se encontró el proceso especificado\n",
      "  warnings.warn(\n",
      "C:\\Users\\Angel Panizo\\AppData\\Local\\Packages\\PythonSoftwareFoundation.Python.3.10_qbz5n2kfra8p0\\LocalCache\\local-packages\\Python310\\site-packages\\torch_geometric\\typing.py:124: UserWarning: An issue occurred while importing 'torch-sparse'. Disabling its usage. Stacktrace: [WinError 127] No se encontró el proceso especificado\n",
      "  warnings.warn(f\"An issue occurred while importing 'torch-sparse'. \"\n"
     ]
    }
   ],
   "source": [
    "import torch\n",
    "from torch_geometric.nn import GCNConv, MLP, JumpingKnowledge\n",
    "import torch.nn.functional as F\n",
    "\n",
    "class GCN(torch.nn.Module):\n",
    "    def __init__(self, node_features, hidden_channels, num_classes):\n",
    "        super(GCN, self).__init__()\n",
    "        self.conv1 = GCNConv(node_features, hidden_channels)\n",
    "        self.conv2 = GCNConv(hidden_channels, hidden_channels)\n",
    "        self.jk = JumpingKnowledge(mode='cat')\n",
    "        self.cls = MLP(in_channels=hidden_channels*2, out_channels=num_classes, num_layers=1) # 2 es el numero de capas, para generalizar , n capas\n",
    "\n",
    "    def forward(self, x, edge_index):\n",
    "        x = self.conv1(x, edge_index)\n",
    "        x_1 = F.relu(x)\n",
    "        x = self.conv2(x, edge_index)\n",
    "        x_2 = F.relu(x)\n",
    "        x = self.jk([x_1, x_2])\n",
    "        x = self.cls(x)\n",
    "        return x"
   ]
  },
  {
   "cell_type": "markdown",
   "metadata": {
    "jp-MarkdownHeadingCollapsed": true
   },
   "source": [
    "## Cargar dataset"
   ]
  },
  {
   "cell_type": "code",
   "execution_count": 2,
   "metadata": {},
   "outputs": [
    {
     "name": "stdout",
     "output_type": "stream",
     "text": [
      "Number of graphs: 1\n",
      "Attributes: ['y', 'edge_index', 'x']\n",
      "Number of nodes: 2995\n",
      "Number of edges: 16316\n",
      "Number of node features: 2879\n",
      "Number of edge features: 0\n",
      "Number of classes: 7\n",
      "Contains isolated nodes: False\n",
      "Contains self-loops: False\n",
      "Is undirected: True\n"
     ]
    }
   ],
   "source": [
    "from torch_geometric.datasets import CitationFull\n",
    "\n",
    "dataset = CitationFull(root='CitationFull', name='Cora_ML')\n",
    "print(f\"Number of graphs: {len(dataset)}\")\n",
    "\n",
    "data = dataset[0]\n",
    "print(f\"Attributes: {data.keys()}\")\n",
    "print(f\"Number of nodes: {data.num_nodes}\")\n",
    "print(f\"Number of edges: {data.num_edges}\")\n",
    "print(f\"Number of node features: {data.num_node_features}\")\n",
    "print(f\"Number of edge features: {data.num_edge_features}\")\n",
    "print(f\"Number of classes: {dataset.num_classes}\")\n",
    "print(f\"Contains isolated nodes: {data.has_isolated_nodes()}\")\n",
    "print(f\"Contains self-loops: {data.has_self_loops()}\")\n",
    "print(f\"Is undirected: {data.is_undirected()}\")"
   ]
  },
  {
   "cell_type": "markdown",
   "metadata": {
    "jp-MarkdownHeadingCollapsed": true
   },
   "source": [
    "## Dividir dataset"
   ]
  },
  {
   "cell_type": "code",
   "execution_count": 3,
   "metadata": {},
   "outputs": [],
   "source": [
    "import numpy as np\n",
    "from sklearn.model_selection import train_test_split\n",
    "\n",
    "train_idx, test_idx = train_test_split(np.arange(data.num_nodes), test_size=0.2, stratify=data.y)\n",
    "\n",
    "train_mask = np.zeros(data.num_nodes, dtype=bool)\n",
    "train_mask[train_idx] = True\n",
    "\n",
    "test_mask = np.zeros(data.num_nodes, dtype=bool)\n",
    "test_mask[test_idx] = True\n",
    "\n",
    "data.train_mask = torch.tensor(train_mask)\n",
    "data.test_mask = torch.tensor(test_mask)"
   ]
  },
  {
   "cell_type": "markdown",
   "metadata": {
    "jp-MarkdownHeadingCollapsed": true
   },
   "source": [
    "## Train"
   ]
  },
  {
   "cell_type": "code",
   "execution_count": 4,
   "metadata": {},
   "outputs": [
    {
     "name": "stdout",
     "output_type": "stream",
     "text": [
      "Epoch 0: Loss 1.946506142616272\n",
      "Epoch 10: Loss 0.6916095018386841\n",
      "Epoch 20: Loss 0.22733713686466217\n",
      "Epoch 30: Loss 0.12355022132396698\n",
      "Epoch 40: Loss 0.07788509130477905\n",
      "Epoch 50: Loss 0.0606655590236187\n",
      "Epoch 60: Loss 0.052503932267427444\n",
      "Epoch 70: Loss 0.04603101313114166\n",
      "Epoch 80: Loss 0.04296857491135597\n",
      "Epoch 90: Loss 0.03912689536809921\n",
      "Epoch 100: Loss 0.03305814415216446\n",
      "Epoch 110: Loss 0.030634598806500435\n",
      "Epoch 120: Loss 0.028691373765468597\n",
      "Epoch 130: Loss 0.02711031213402748\n",
      "Epoch 140: Loss 0.03307686373591423\n",
      "Epoch 150: Loss 0.024179399013519287\n",
      "Epoch 160: Loss 0.02317662350833416\n",
      "Epoch 170: Loss 0.02255486510694027\n",
      "Epoch 180: Loss 0.021733896806836128\n",
      "Epoch 190: Loss 0.021654780954122543\n",
      "Epoch 200: Loss 0.020666340366005898\n",
      "Epoch 210: Loss 0.019614452496170998\n",
      "Epoch 220: Loss 0.018810318782925606\n",
      "Epoch 230: Loss 0.018314190208911896\n",
      "Epoch 240: Loss 0.01861388050019741\n",
      "Epoch 250: Loss 0.01805298961699009\n",
      "Epoch 260: Loss 0.020135799422860146\n",
      "Epoch 270: Loss 0.01857263781130314\n",
      "Epoch 280: Loss 0.01882920041680336\n",
      "Epoch 290: Loss 0.017324266955256462\n",
      "Epoch 300: Loss 0.017190391197800636\n",
      "Epoch 310: Loss 0.016576683148741722\n",
      "Epoch 320: Loss 0.01637299172580242\n",
      "Epoch 330: Loss 0.01581551693379879\n",
      "Epoch 340: Loss 0.026844611391425133\n",
      "Epoch 350: Loss 0.4069501459598541\n",
      "Epoch 360: Loss 0.11624942719936371\n",
      "Epoch 370: Loss 0.05429605767130852\n",
      "Epoch 380: Loss 0.03383949398994446\n",
      "Epoch 390: Loss 0.023369496688246727\n",
      "Epoch 400: Loss 0.01952567882835865\n",
      "Epoch 410: Loss 0.018011296167969704\n",
      "Epoch 420: Loss 0.01755901798605919\n",
      "Epoch 430: Loss 0.017359664663672447\n",
      "Epoch 440: Loss 0.01723872311413288\n",
      "Epoch 450: Loss 0.017114758491516113\n",
      "Epoch 460: Loss 0.01691919006407261\n",
      "Epoch 470: Loss 0.016774186864495277\n",
      "Epoch 480: Loss 0.016652291640639305\n",
      "Epoch 490: Loss 0.01649394817650318\n"
     ]
    }
   ],
   "source": [
    "from torch.nn import CrossEntropyLoss\n",
    "from torch.optim import Adam\n",
    "\n",
    "model = GCN(dataset.num_node_features, 16, dataset.num_classes)\n",
    "\n",
    "optimizer = Adam(model.parameters(), lr=0.01, weight_decay=5e-4)\n",
    "optm_func = CrossEntropyLoss()\n",
    "\n",
    "model.train()\n",
    "for epoch in range(500):\n",
    "    optimizer.zero_grad()\n",
    "    out = model(data.x, data.edge_index)\n",
    "    loss = optm_func(out[data.train_mask], data.y[data.train_mask])\n",
    "    loss.backward()\n",
    "    optimizer.step()\n",
    "    \n",
    "    if epoch % 10 == 0:\n",
    "        print(f\"Epoch {epoch}: Loss {loss.item()}\")"
   ]
  },
  {
   "cell_type": "markdown",
   "metadata": {
    "jp-MarkdownHeadingCollapsed": true
   },
   "source": [
    "## Test model"
   ]
  },
  {
   "cell_type": "code",
   "execution_count": 5,
   "metadata": {},
   "outputs": [
    {
     "name": "stdout",
     "output_type": "stream",
     "text": [
      "F1 score: 0.8631051752921536\n"
     ]
    },
    {
     "data": {
      "text/plain": [
       "<Axes: >"
      ]
     },
     "execution_count": 5,
     "metadata": {},
     "output_type": "execute_result"
    },
    {
     "data": {
      "image/png": "[encoded data removed]",
      "text/plain": [
       "<Figure size 640x480 with 2 Axes>"
      ]
     },
     "metadata": {},
     "output_type": "display_data"
    }
   ],
   "source": [
    "import seaborn as sns\n",
    "from sklearn.metrics import confusion_matrix, f1_score\n",
    "\n",
    "model.eval()\n",
    "y_pred = out.argmax(dim=1)[data.test_mask].detach().cpu()\n",
    "y = data.y[data.test_mask].detach().cpu()\n",
    "\n",
    "print(f\"F1 score: {f1_score(y, y_pred, average='micro')}\")\n",
    "sns.heatmap(confusion_matrix(y, y_pred), annot=True, fmt='g', cmap='Blues')"
   ]
  }
 ],
 "metadata": {
  "kernelspec": {
   "display_name": "Python 3 (ipykernel)",
   "language": "python",
   "name": "python3"
  },
  "language_info": {
   "codemirror_mode": {
    "name": "ipython",
    "version": 3
   },
   "file_extension": ".py",
   "mimetype": "text/x-python",
   "name": "python",
   "nbconvert_exporter": "python",
   "pygments_lexer": "ipython3",
   "version": "3.12.3"
  }
 },
 "nbformat": 4,
 "nbformat_minor": 4
}
