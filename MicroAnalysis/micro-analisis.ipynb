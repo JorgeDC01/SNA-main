{
 "cells": [
  {
   "cell_type": "markdown",
   "metadata": {},
   "source": [
    "# **Micro Analisis**."
   ]
  },
  {
   "cell_type": "markdown",
   "metadata": {
    "jp-MarkdownHeadingCollapsed": true
   },
   "source": [
    "## **Caso de Uso 1. Metro de Madrid**s:"
   ]
  },
  {
   "cell_type": "code",
   "execution_count": 27,
   "metadata": {},
   "outputs": [],
   "source": [
    "import matplotlib.pyplot as plt\n",
    "import matplotlib.colors as mcolors\n",
    "import networkx as nx\n",
    "import numpy as np\n",
    "import pandas as pd\n",
    "from pyvis.network import Network\n",
    "\n",
    "def str_color(r,g,b,a):\n",
    "    return \"#\" + format(int(r*255), f'0{2}x') + format(int(g*255), f'0{2}x') + format(int(b*255), f'0{2}x') + format(int(a*255), f'0{2}x')\n",
    "\n",
    "def assign_colors(values, vmin=None, vmax=None, cmap=None):\n",
    "    colormap = plt.cm.magma if cmap is None else cmap\n",
    "\n",
    "    # Normalize your values to be in the range [0, 1] if they are not already\n",
    "    if vmin is None:\n",
    "        vmin = min(values)\n",
    "    if vmax is None:\n",
    "        vmax = max(values)\n",
    "    norm = mcolors.Normalize(vmin=vmin, vmax=vmax)\n",
    "\n",
    "    # Create a colormap scalar mappable\n",
    "    sm = plt.cm.ScalarMappable(cmap=colormap, norm=norm)\n",
    "    sm.set_array([])\n",
    "\n",
    "    # Map your values to colors\n",
    "    colors = [str_color(*colormap(norm(value))) for value in values]\n",
    "    return colors\n",
    "\n",
    "def draw_centrality(r, ax, pos=None, vmin=None, vmax=None):\n",
    "    colors = assign_colors(r, vmin, vmax)\n",
    "    nx.draw(G, ax=ax, pos=pos, with_labels=True, node_color=colors)\n",
    "\n",
    "def make_graph():\n",
    "    G = nx.florentine_families_graph()\n",
    "    G = G.to_directed()\n",
    "    G.add_edges_from([\n",
    "        ('Navio', 'Panizo'),\n",
    "        ('Panizo', 'Navio'),\n",
    "        ('Garcia', 'Panizo'),\n",
    "        ('Gonzalez', 'Panizo'),\n",
    "        ('Panizo', 'Perez',),\n",
    "        ('Panizo', 'Montes'),\n",
    "        ('Panizo', 'Lopez'),\n",
    "        ('Panizo', 'Lamberteschi'),\n",
    "        ('Lamberteschi', 'Panizo')\n",
    "    ])\n",
    "    return G"
   ]
  },
  {
   "cell_type": "code",
   "execution_count": 28,
   "metadata": {},
   "outputs": [],
   "source": [
    "!pip install pyvis --quiet"
   ]
  },
  {
   "cell_type": "markdown",
   "metadata": {},
   "source": [
    "### Betweeness Centrality\n",
    "Se quiere grabar un spot publicitario para la ciudad de Madrid donde aparezcan las estaciones de Metro más emblemáticas de Madrid. Para evitar discusiones entre los directores del spot se le ha pedido al consorcio de transportes que indiqué cuales son las 5 estaciones más emblemáticas de Madrid."
   ]
  },
  {
   "cell_type": "code",
   "execution_count": 33,
   "metadata": {},
   "outputs": [
    {
     "data": {
      "text/html": [
       "<div>\n",
       "<style scoped>\n",
       "    .dataframe tbody tr th:only-of-type {\n",
       "        vertical-align: middle;\n",
       "    }\n",
       "\n",
       "    .dataframe tbody tr th {\n",
       "        vertical-align: top;\n",
       "    }\n",
       "\n",
       "    .dataframe thead th {\n",
       "        text-align: right;\n",
       "    }\n",
       "</style>\n",
       "<table border=\"1\" class=\"dataframe\">\n",
       "  <thead>\n",
       "    <tr style=\"text-align: right;\">\n",
       "      <th></th>\n",
       "      <th>betweenness</th>\n",
       "    </tr>\n",
       "  </thead>\n",
       "  <tbody>\n",
       "    <tr>\n",
       "      <th>147</th>\n",
       "      <td>0.320971</td>\n",
       "    </tr>\n",
       "    <tr>\n",
       "      <th>123</th>\n",
       "      <td>0.311315</td>\n",
       "    </tr>\n",
       "    <tr>\n",
       "      <th>68</th>\n",
       "      <td>0.306835</td>\n",
       "    </tr>\n",
       "    <tr>\n",
       "      <th>74</th>\n",
       "      <td>0.279870</td>\n",
       "    </tr>\n",
       "    <tr>\n",
       "      <th>127</th>\n",
       "      <td>0.268535</td>\n",
       "    </tr>\n",
       "  </tbody>\n",
       "</table>\n",
       "</div>"
      ],
      "text/plain": [
       "     betweenness\n",
       "147     0.320971\n",
       "123     0.311315\n",
       "68      0.306835\n",
       "74      0.279870\n",
       "127     0.268535"
      ]
     },
     "metadata": {},
     "output_type": "display_data"
    },
    {
     "name": "stdout",
     "output_type": "stream",
     "text": [
      "Warning: When  cdn_resources is 'local' jupyter notebook has issues displaying graphics on chrome/safari. Use cdn_resources='in_line' or cdn_resources='remote' if you have issues viewing graphics in a notebook.\n",
      "centrality.html\n"
     ]
    },
    {
     "data": {
      "text/html": [
       "\n",
       "        <iframe\n",
       "            width=\"100%\"\n",
       "            height=\"500px\"\n",
       "            src=\"centrality.html\"\n",
       "            frameborder=\"0\"\n",
       "            allowfullscreen\n",
       "            \n",
       "        ></iframe>\n",
       "        "
      ],
      "text/plain": [
       "<IPython.lib.display.IFrame at 0x1e5b0ed23f0>"
      ]
     },
     "execution_count": 33,
     "metadata": {},
     "output_type": "execute_result"
    }
   ],
   "source": [
    "import pandas as pd\n",
    "G = nx.read_graphml(path = './metro.graphml')\n",
    "G = G.to_undirected()\n",
    "centrality = nx.betweenness_centrality(G)\n",
    "\n",
    "# top 3 nodes by degree centrality\n",
    "display(pd.DataFrame.from_dict(centrality, orient='index', columns=['betweenness']).sort_values(by='betweenness', ascending=False).head(5))\n",
    "\n",
    "# draw network\n",
    "nx.set_node_attributes(G, {n:f\"{v}\" for n,v in centrality.items()}, 'title')\n",
    "nx.set_node_attributes(G, {n:v for n,v in zip(centrality.keys(), assign_colors(centrality.values()))}, 'color')\n",
    "nx.set_node_attributes(G, {n:f\"{n}\" for n in G.nodes}, 'label')\n",
    "nx.set_node_attributes(G, \"dot\", 'shape')\n",
    "\n",
    "net = Network(notebook=True, height='500px', width='100%', bgcolor=\"#DCDCDC\")\n",
    "net.from_nx(G)\n",
    "net.show('micro-analisis.html')"
   ]
  },
  {
   "cell_type": "markdown",
   "metadata": {},
   "source": [
    "### Closeness\n",
    "\n",
    "Se está realizando un estudio urbanístico sobre la ciudad de Madrid. Para una de las\n",
    "partes del estudio se quiere conocer las 5 mejores estaciones del Metro de Madrid\n",
    "dónde construir un hospital. El estudio se centra en construir ciudades más amigables\n",
    "para todos los vecinos por lo que se busca que todo el mundo pueda acceder al hospital\n",
    "lo más fácilmente posible."
   ]
  },
  {
   "cell_type": "code",
   "execution_count": 23,
   "metadata": {},
   "outputs": [
    {
     "data": {
      "text/html": [
       "<div>\n",
       "<style scoped>\n",
       "    .dataframe tbody tr th:only-of-type {\n",
       "        vertical-align: middle;\n",
       "    }\n",
       "\n",
       "    .dataframe tbody tr th {\n",
       "        vertical-align: top;\n",
       "    }\n",
       "\n",
       "    .dataframe thead th {\n",
       "        text-align: right;\n",
       "    }\n",
       "</style>\n",
       "<table border=\"1\" class=\"dataframe\">\n",
       "  <thead>\n",
       "    <tr style=\"text-align: right;\">\n",
       "      <th></th>\n",
       "      <th>closeness</th>\n",
       "    </tr>\n",
       "  </thead>\n",
       "  <tbody>\n",
       "    <tr>\n",
       "      <th>147</th>\n",
       "      <td>0.101774</td>\n",
       "    </tr>\n",
       "    <tr>\n",
       "      <th>68</th>\n",
       "      <td>0.101688</td>\n",
       "    </tr>\n",
       "    <tr>\n",
       "      <th>12</th>\n",
       "      <td>0.099505</td>\n",
       "    </tr>\n",
       "    <tr>\n",
       "      <th>74</th>\n",
       "      <td>0.099300</td>\n",
       "    </tr>\n",
       "    <tr>\n",
       "      <th>95</th>\n",
       "      <td>0.098047</td>\n",
       "    </tr>\n",
       "  </tbody>\n",
       "</table>\n",
       "</div>"
      ],
      "text/plain": [
       "     closeness\n",
       "147   0.101774\n",
       "68    0.101688\n",
       "12    0.099505\n",
       "74    0.099300\n",
       "95    0.098047"
      ]
     },
     "metadata": {},
     "output_type": "display_data"
    },
    {
     "name": "stdout",
     "output_type": "stream",
     "text": [
      "Warning: When  cdn_resources is 'local' jupyter notebook has issues displaying graphics on chrome/safari. Use cdn_resources='in_line' or cdn_resources='remote' if you have issues viewing graphics in a notebook.\n",
      "centrality.html\n"
     ]
    },
    {
     "data": {
      "text/html": [
       "\n",
       "        <iframe\n",
       "            width=\"100%\"\n",
       "            height=\"500px\"\n",
       "            src=\"centrality.html\"\n",
       "            frameborder=\"0\"\n",
       "            allowfullscreen\n",
       "            \n",
       "        ></iframe>\n",
       "        "
      ],
      "text/plain": [
       "<IPython.lib.display.IFrame at 0x1e5d717a030>"
      ]
     },
     "execution_count": 23,
     "metadata": {},
     "output_type": "execute_result"
    }
   ],
   "source": [
    "G = nx.read_graphml(path = './metro.graphml')\n",
    "G = G.to_undirected()\n",
    "centrality = nx.closeness_centrality(G)\n",
    "\n",
    "# top 3 nodes by degree centrality\n",
    "display(pd.DataFrame.from_dict(centrality, orient='index', columns=['closeness']).sort_values(by='closeness', ascending=False).head(5))\n",
    "\n",
    "# draw network\n",
    "nx.set_node_attributes(G, {n:f\"{v}\" for n,v in centrality.items()}, 'title')\n",
    "nx.set_node_attributes(G, {n:v for n,v in zip(centrality.keys(), assign_colors(centrality.values()))}, 'color')\n",
    "nx.set_node_attributes(G, {n:f\"{n}\" for n in G.nodes}, 'label')\n",
    "nx.set_node_attributes(G, \"dot\", 'shape')\n",
    "\n",
    "net = Network(notebook=True, height='500px', width='100%', bgcolor=\"#DCDCDC\")\n",
    "net.from_nx(G)\n",
    "net.show('micro-analisis.html')"
   ]
  },
  {
   "cell_type": "markdown",
   "metadata": {},
   "source": [
    "### Betweenness\n",
    "\n",
    "Se está realizando un estudio sobre la resiliencia de la red de Metro de Madrid. En una \n",
    "parte del estudio se quiere conocer que estaciones crearían mayores disrupciones en e \n",
    "transporte por la ciudad si dejasen de funcionar. Se tiene especial interés en aquell s\n",
    "estaciones que si dejasen de funcionar aislaran una zona de la ciudad. \n",
    "\n",
    "Si una estación tiene alta centralidad de betweenness, significa que es n \"puete\" clave que conecta diferentes partes de la red. Si se elimina, puede aislar zonas completas del sistema de metro, ya que interrumpe los caminos más cortos entre otras estaciones."
   ]
  },
  {
   "cell_type": "markdown",
   "metadata": {
    "jp-MarkdownHeadingCollapsed": true
   },
   "source": [
    "## **Caso de Uso 2. Twitch**\n",
    "\n",
    "Se quiere organizar una fiesta para usuarios de Twitch. Para ello contáis con una base de datos\n",
    "con usuarios potenciales para la fiesta y sus followers. Se quiere que la fiesta sea un éxito, utilizar\n",
    "técnicas de SNA para resolver las siguientes preguntas:\n",
    "\n",
    "*La representacion de las redes no se realiza porque superan las capacidades de computo.*"
   ]
  },
  {
   "cell_type": "code",
   "execution_count": 1,
   "metadata": {},
   "outputs": [],
   "source": [
    "import matplotlib.pyplot as plt\n",
    "import matplotlib.colors as mcolors\n",
    "import networkx as nx\n",
    "import numpy as np\n",
    "import pandas as pd\n",
    "from pyvis.network import Network\n",
    "\n",
    "def str_color(r,g,b,a):\n",
    "    return \"#\" + format(int(r*255), f'0{2}x') + format(int(g*255), f'0{2}x') + format(int(b*255), f'0{2}x') + format(int(a*255), f'0{2}x')\n",
    "\n",
    "def assign_colors(values, vmin=None, vmax=None, cmap=None):\n",
    "    colormap = plt.cm.magma if cmap is None else cmap\n",
    "\n",
    "    # Normalize your values to be in the range [0, 1] if they are not already\n",
    "    if vmin is None:\n",
    "        vmin = min(values)\n",
    "    if vmax is None:\n",
    "        vmax = max(values)\n",
    "    norm = mcolors.Normalize(vmin=vmin, vmax=vmax)\n",
    "\n",
    "    # Create a colormap scalar mappable\n",
    "    sm = plt.cm.ScalarMappable(cmap=colormap, norm=norm)\n",
    "    sm.set_array([])\n",
    "\n",
    "    # Map your values to colors\n",
    "    colors = [str_color(*colormap(norm(value))) for value in values]\n",
    "    return colors\n",
    "\n",
    "def draw_centrality(r, ax, pos=None, vmin=None, vmax=None):\n",
    "    colors = assign_colors(r, vmin, vmax)\n",
    "    nx.draw(G, ax=ax, pos=pos, with_labels=True, node_color=colors)\n",
    "\n",
    "def make_graph():\n",
    "    G = nx.florentine_families_graph()\n",
    "    G = G.to_directed()\n",
    "    G.add_edges_from([\n",
    "        ('Navio', 'Panizo'),\n",
    "        ('Panizo', 'Navio'),\n",
    "        ('Garcia', 'Panizo'),\n",
    "        ('Gonzalez', 'Panizo'),\n",
    "        ('Panizo', 'Perez',),\n",
    "        ('Panizo', 'Montes'),\n",
    "        ('Panizo', 'Lopez'),\n",
    "        ('Panizo', 'Lamberteschi'),\n",
    "        ('Lamberteschi', 'Panizo')\n",
    "    ])\n",
    "    return G"
   ]
  },
  {
   "cell_type": "code",
   "execution_count": 2,
   "metadata": {},
   "outputs": [],
   "source": [
    "!pip install pyvis --quiet"
   ]
  },
  {
   "cell_type": "markdown",
   "metadata": {
    "jp-MarkdownHeadingCollapsed": true
   },
   "source": [
    "### Degree de nodo o PageRank\n",
    "\n",
    "Para promocionar la fiesta se quiere hacer un flyer para difundirlo en redes sociales. Se\r\n",
    "quiere contactar con streamers de prestigio para que aparezcan en el flyer a modo de\r\n",
    "promoción. Basado en los datos de followers que se tiene propón 25 candidatos para el\r\n",
    "flyer."
   ]
  },
  {
   "cell_type": "markdown",
   "metadata": {},
   "source": [
    "**Degree**"
   ]
  },
  {
   "cell_type": "code",
   "execution_count": 3,
   "metadata": {},
   "outputs": [
    {
     "data": {
      "text/html": [
       "<div>\n",
       "<style scoped>\n",
       "    .dataframe tbody tr th:only-of-type {\n",
       "        vertical-align: middle;\n",
       "    }\n",
       "\n",
       "    .dataframe tbody tr th {\n",
       "        vertical-align: top;\n",
       "    }\n",
       "\n",
       "    .dataframe thead th {\n",
       "        text-align: right;\n",
       "    }\n",
       "</style>\n",
       "<table border=\"1\" class=\"dataframe\">\n",
       "  <thead>\n",
       "    <tr style=\"text-align: right;\">\n",
       "      <th></th>\n",
       "      <th>degree</th>\n",
       "    </tr>\n",
       "  </thead>\n",
       "  <tbody>\n",
       "    <tr>\n",
       "      <th>1773</th>\n",
       "      <td>0.101053</td>\n",
       "    </tr>\n",
       "    <tr>\n",
       "      <th>4949</th>\n",
       "      <td>0.096982</td>\n",
       "    </tr>\n",
       "    <tr>\n",
       "      <th>3401</th>\n",
       "      <td>0.065263</td>\n",
       "    </tr>\n",
       "    <tr>\n",
       "      <th>6136</th>\n",
       "      <td>0.053053</td>\n",
       "    </tr>\n",
       "    <tr>\n",
       "      <th>166</th>\n",
       "      <td>0.049404</td>\n",
       "    </tr>\n",
       "    <tr>\n",
       "      <th>5842</th>\n",
       "      <td>0.047158</td>\n",
       "    </tr>\n",
       "    <tr>\n",
       "      <th>1924</th>\n",
       "      <td>0.044351</td>\n",
       "    </tr>\n",
       "    <tr>\n",
       "      <th>2732</th>\n",
       "      <td>0.039018</td>\n",
       "    </tr>\n",
       "    <tr>\n",
       "      <th>2447</th>\n",
       "      <td>0.038175</td>\n",
       "    </tr>\n",
       "    <tr>\n",
       "      <th>1103</th>\n",
       "      <td>0.035649</td>\n",
       "    </tr>\n",
       "    <tr>\n",
       "      <th>581</th>\n",
       "      <td>0.035368</td>\n",
       "    </tr>\n",
       "    <tr>\n",
       "      <th>4196</th>\n",
       "      <td>0.032421</td>\n",
       "    </tr>\n",
       "    <tr>\n",
       "      <th>4016</th>\n",
       "      <td>0.031719</td>\n",
       "    </tr>\n",
       "    <tr>\n",
       "      <th>3706</th>\n",
       "      <td>0.027930</td>\n",
       "    </tr>\n",
       "    <tr>\n",
       "      <th>2740</th>\n",
       "      <td>0.027088</td>\n",
       "    </tr>\n",
       "    <tr>\n",
       "      <th>2481</th>\n",
       "      <td>0.026105</td>\n",
       "    </tr>\n",
       "    <tr>\n",
       "      <th>3285</th>\n",
       "      <td>0.025684</td>\n",
       "    </tr>\n",
       "    <tr>\n",
       "      <th>4406</th>\n",
       "      <td>0.025544</td>\n",
       "    </tr>\n",
       "    <tr>\n",
       "      <th>2345</th>\n",
       "      <td>0.023439</td>\n",
       "    </tr>\n",
       "    <tr>\n",
       "      <th>1598</th>\n",
       "      <td>0.023439</td>\n",
       "    </tr>\n",
       "    <tr>\n",
       "      <th>6716</th>\n",
       "      <td>0.021754</td>\n",
       "    </tr>\n",
       "    <tr>\n",
       "      <th>93</th>\n",
       "      <td>0.021614</td>\n",
       "    </tr>\n",
       "    <tr>\n",
       "      <th>1883</th>\n",
       "      <td>0.021193</td>\n",
       "    </tr>\n",
       "    <tr>\n",
       "      <th>2466</th>\n",
       "      <td>0.021053</td>\n",
       "    </tr>\n",
       "    <tr>\n",
       "      <th>5269</th>\n",
       "      <td>0.020632</td>\n",
       "    </tr>\n",
       "  </tbody>\n",
       "</table>\n",
       "</div>"
      ],
      "text/plain": [
       "        degree\n",
       "1773  0.101053\n",
       "4949  0.096982\n",
       "3401  0.065263\n",
       "6136  0.053053\n",
       "166   0.049404\n",
       "5842  0.047158\n",
       "1924  0.044351\n",
       "2732  0.039018\n",
       "2447  0.038175\n",
       "1103  0.035649\n",
       "581   0.035368\n",
       "4196  0.032421\n",
       "4016  0.031719\n",
       "3706  0.027930\n",
       "2740  0.027088\n",
       "2481  0.026105\n",
       "3285  0.025684\n",
       "4406  0.025544\n",
       "2345  0.023439\n",
       "1598  0.023439\n",
       "6716  0.021754\n",
       "93    0.021614\n",
       "1883  0.021193\n",
       "2466  0.021053\n",
       "5269  0.020632"
      ]
     },
     "metadata": {},
     "output_type": "display_data"
    },
    {
     "name": "stdout",
     "output_type": "stream",
     "text": [
      "Warning: When  cdn_resources is 'local' jupyter notebook has issues displaying graphics on chrome/safari. Use cdn_resources='in_line' or cdn_resources='remote' if you have issues viewing graphics in a notebook.\n",
      "centrality.html\n"
     ]
    },
    {
     "data": {
      "text/html": [
       "\n",
       "        <iframe\n",
       "            width=\"100%\"\n",
       "            height=\"500px\"\n",
       "            src=\"centrality.html\"\n",
       "            frameborder=\"0\"\n",
       "            allowfullscreen\n",
       "            \n",
       "        ></iframe>\n",
       "        "
      ],
      "text/plain": [
       "<IPython.lib.display.IFrame at 0x21e8d4e1ee0>"
      ]
     },
     "execution_count": 3,
     "metadata": {},
     "output_type": "execute_result"
    }
   ],
   "source": [
    "import networkx as nx\n",
    "from pyvis.network import Network\n",
    "import pandas as pd\n",
    "\n",
    "# Leer el archivo GraphML y convertir el grafo a no dirigido\n",
    "G = nx.read_graphml(path='./twitch.graphml')\n",
    "G = G.to_undirected()\n",
    "\n",
    "# Calcular la centralidad de grado\n",
    "centrality = nx.degree_centrality(G)\n",
    "\n",
    "# Seleccionar los 25 nodos más relevantes según la centralidad de grado\n",
    "top_nodes = sorted(centrality, key=centrality.get, reverse=True)[:25]\n",
    "G_filtered = G.subgraph(top_nodes)\n",
    "\n",
    "# Mostrar los top 25 nodos por centralidad de grado\n",
    "display(pd.DataFrame.from_dict(centrality, orient='index', columns=['degree']).sort_values(by='degree', ascending=False).head(25))\n",
    "\n",
    "# Asignar atributos a los nodos para la visualización\n",
    "# Asignar título a los nodos según la centralidad\n",
    "nx.set_node_attributes(G_filtered, {n: f\"{v}\" for n, v in centrality.items()}, 'title')\n",
    "\n",
    "# Asignar colores a los nodos basados en la centralidad\n",
    "def assign_colors(centrality_values):\n",
    "    min_val = min(centrality_values)\n",
    "    max_val = max(centrality_values)\n",
    "    color_range = 255  # Color range for the color scale\n",
    "    return [(int((val - min_val) / (max_val - min_val) * color_range), 0, 255 - int((val - min_val) / (max_val - min_val) * color_range)) for val in centrality_values]\n",
    "\n",
    "colors = assign_colors(list(centrality.values()))\n",
    "nx.set_node_attributes(G_filtered, {n: color for n, color in zip(centrality.keys(), colors)}, 'color')\n",
    "\n",
    "# Asignar etiquetas con el nombre del nodo (por si se quiere mostrar en la visualización)\n",
    "nx.set_node_attributes(G_filtered, {n: f\"{n}\" for n in G_filtered.nodes}, 'label')\n",
    "\n",
    "# Configurar el layout y la física del grafo para mejorar el tiempo de renderizado\n",
    "net = Network(notebook=True, height='500px', width='100%', bgcolor=\"#DCDCDC\")\n",
    "\n",
    "# Ajustar los parámetros de la física para hacer la visualización más rápida\n",
    "net.force_atlas_2based(spring_length=50, spring_strength=0.01, damping=0.09, overlap=0.7)\n",
    "\n",
    "# Utilizar las posiciones predefinidas del layout para los nodos\n",
    "net.from_nx(G_filtered)\n",
    "\n",
    "# Establecer opciones personalizadas de la red (interacción y física)\n",
    "net.set_options(\"\"\"\n",
    "var options = {\n",
    "  \"interaction\": {\n",
    "    \"hover\": true,\n",
    "    \"zoomView\": true\n",
    "  },\n",
    "  \"physics\": {\n",
    "    \"enabled\": true,\n",
    "    \"stabilization\": true\n",
    "  }\n",
    "}\n",
    "\"\"\")\n",
    "\n",
    "# Mostrar la visualización en un archivo HTML\n",
    "net.show('micro-analisis.html')"
   ]
  },
  {
   "cell_type": "markdown",
   "metadata": {
    "jp-MarkdownHeadingCollapsed": true
   },
   "source": [
    "### Closeness\n",
    "\n",
    "Para que la fiesta sea un éxito se quiere mantener un contacto directo con la comunidad\n",
    "para poder preguntarles por posibles eventos y actividades. Basándote en los datos de\n",
    "followers que se tienen, indica que usuarios serían los más adecuados para formar parte\n",
    "de este grupo de contacto.\n",
    "\n",
    "Aplicación: En este contexto, los usuarios con alta centralidad de cercanía serían aquellos que tienen un contacto directo y rápido con una amplia parte de la comunidad. Si el objetivo es mantener un contacto directo con la comunidad para obtener retroalimentación sobre futuros eventos, es crucial seleccionar a usuarios que puedan llegar a muchas personas rápidamente, lo que facilita la comunicación fluida y la recolección de opiniones."
   ]
  },
  {
   "cell_type": "code",
   "execution_count": 4,
   "metadata": {},
   "outputs": [
    {
     "data": {
      "text/html": [
       "<div>\n",
       "<style scoped>\n",
       "    .dataframe tbody tr th:only-of-type {\n",
       "        vertical-align: middle;\n",
       "    }\n",
       "\n",
       "    .dataframe tbody tr th {\n",
       "        vertical-align: top;\n",
       "    }\n",
       "\n",
       "    .dataframe thead th {\n",
       "        text-align: right;\n",
       "    }\n",
       "</style>\n",
       "<table border=\"1\" class=\"dataframe\">\n",
       "  <thead>\n",
       "    <tr style=\"text-align: right;\">\n",
       "      <th></th>\n",
       "      <th>closeness</th>\n",
       "    </tr>\n",
       "  </thead>\n",
       "  <tbody>\n",
       "    <tr>\n",
       "      <th>4949</th>\n",
       "      <td>0.416350</td>\n",
       "    </tr>\n",
       "    <tr>\n",
       "      <th>1773</th>\n",
       "      <td>0.408872</td>\n",
       "    </tr>\n",
       "    <tr>\n",
       "      <th>3401</th>\n",
       "      <td>0.398579</td>\n",
       "    </tr>\n",
       "    <tr>\n",
       "      <th>5842</th>\n",
       "      <td>0.395262</td>\n",
       "    </tr>\n",
       "    <tr>\n",
       "      <th>2447</th>\n",
       "      <td>0.391118</td>\n",
       "    </tr>\n",
       "  </tbody>\n",
       "</table>\n",
       "</div>"
      ],
      "text/plain": [
       "      closeness\n",
       "4949   0.416350\n",
       "1773   0.408872\n",
       "3401   0.398579\n",
       "5842   0.395262\n",
       "2447   0.391118"
      ]
     },
     "metadata": {},
     "output_type": "display_data"
    },
    {
     "name": "stdout",
     "output_type": "stream",
     "text": [
      "Warning: When  cdn_resources is 'local' jupyter notebook has issues displaying graphics on chrome/safari. Use cdn_resources='in_line' or cdn_resources='remote' if you have issues viewing graphics in a notebook.\n",
      "centrality.html\n"
     ]
    },
    {
     "data": {
      "text/html": [
       "\n",
       "        <iframe\n",
       "            width=\"100%\"\n",
       "            height=\"500px\"\n",
       "            src=\"centrality.html\"\n",
       "            frameborder=\"0\"\n",
       "            allowfullscreen\n",
       "            \n",
       "        ></iframe>\n",
       "        "
      ],
      "text/plain": [
       "<IPython.lib.display.IFrame at 0x21e8ce2c2c0>"
      ]
     },
     "execution_count": 4,
     "metadata": {},
     "output_type": "execute_result"
    }
   ],
   "source": [
    "G = nx.read_graphml(path = './twitch.graphml')\n",
    "G = G.to_undirected()\n",
    "centrality = nx.closeness_centrality(G)\n",
    "\n",
    "# top 3 nodes by degree centrality\n",
    "display(pd.DataFrame.from_dict(centrality, orient='index', columns=['closeness']).sort_values(by='closeness', ascending=False).head(5))\n",
    "\n",
    "# draw network\n",
    "nx.set_node_attributes(G, {n:f\"{v}\" for n,v in centrality.items()}, 'title')\n",
    "nx.set_node_attributes(G, {n:v for n,v in zip(centrality.keys(), assign_colors(centrality.values()))}, 'color')\n",
    "nx.set_node_attributes(G, {n:f\"{n}\" for n in G.nodes}, 'label')\n",
    "nx.set_node_attributes(G, \"dot\", 'shape')\n",
    "\n",
    "net = Network(notebook=True, height='500px', width='100%', bgcolor=\"#DCDCDC\")\n",
    "net.from_nx(G)\n",
    "net.show('micro-analisis.html')"
   ]
  },
  {
   "cell_type": "markdown",
   "metadata": {
    "jp-MarkdownHeadingCollapsed": true
   },
   "source": [
    "### Betweenness Centrality y PageRank\n",
    "\n",
    "En la fiesta asistirán personas de comunidades muy distintas de Twitch. Se quiere que\r\n",
    "en la fiesta los asistentes se relacionen los unos con los otros para mejorar la comunidad.\r\n",
    "Identifica que usuarios no pueden faltar a la fiesta si se quiere que los asistentes no se\r\n",
    "aíslen en grupos.\n",
    "\n",
    "Si una estación tiene alta centralidad de betweenness, significa que es n \"puete\" clave que conecta diferentes partes de la red. Si se elimina, puede aislar zonas completas del sistema de metro, ya que interrumpe los caminos más cortos entre otras estaciones."
   ]
  },
  {
   "cell_type": "markdown",
   "metadata": {},
   "source": [
    "### Closeness\n",
    "\n",
    "Por último, la comunidad de Twitch es demasiado grande para poder enviar invitaciones\n",
    "a todo el mundo. No obstante, todo el mundo debe conocer la existencia de la fiesta (no\n",
    "queremos que nadie se sienta discriminado). Para solventar este problema, se pretende\n",
    "recurrir al boca a boca, es decir, pedirles a algunos usuarios que avisen a sus seguidores.\n",
    "Identifica las 1000 mejores cuentas para encargarse del boca a boca. Queremos que\n",
    "todo el mundo se entere por un usuario que encuentre cercano (que sea follower\n",
    "directo o follower de follower, no queremos que se entere por gente extraña para él\n",
    "antes que por algún conocido ya que si no es posible que no se interese)."
   ]
  },
  {
   "cell_type": "markdown",
   "metadata": {
    "jp-MarkdownHeadingCollapsed": true
   },
   "source": [
    "## **Caso de Uso 3: Dungeons**\n",
    "Norsewind Studios, una empresa de videojuegos, está diseñando un editor de niveles\r\n",
    "colaborativos para su próximo videojuego, \"The Jötun's Lair”. Tras analizar el feedback de los\r\n",
    "diseñadores de niveles se ha visto que una de las features más demandas es la recomendación\r\n",
    "de monstruos a la hora de crear un encuentro, es decir, el grupo que monstruos a los que los\r\n",
    "jugadores se tiene que enfrentar en una sala. Utiliza tus conocimientos de SNA y la base de datos\r\n",
    "de mazmorras para implementar un sistema que dada una sala que al menos contenga un\r\n",
    "monstruo sea capaz de recomendar otros 5 monstruos que podrían aparecer en el encuentro.\r\n",
    "Como el videojuego ya tiene muchos niveles creados, aprovecha esta información a la hora de\r\n",
    "realizar el sistema recom\n",
    "\n",
    "**Modelo Bipartito:**\n",
    "\n",
    "- Los nodos del grafo representan monstruos y salas.\n",
    "- Las aristas entre los nodos indican que un monstruo está en una sala determinada.\n",
    "\n",
    "**SNA (Social Network Analysis):**\n",
    "\n",
    "- Se puede utilizar una matriz de adyacencia bipartita donde las filas son las salas y las columnas son los monstruos.\n",
    "- Basándose en esta estructura, podemos usar diferentes técnicas para generar recomendaciones.\n",
    "\n",
    "\n",
    "**Índice Jaccard**: Para cada monstruo en una sala, el sistema recomendador puede sugerir otros monstruos que hayan aparecido con él en el pasado en las mismas o en salas similares.endador."
   ]
  },
  {
   "cell_type": "code",
   "execution_count": 6,
   "metadata": {},
   "outputs": [
    {
     "name": "stdout",
     "output_type": "stream",
     "text": [
      "Recomendaciones de monstruos para la sala 'sala_1': ['11443', '11466', '11470', '11212', '11213']\n"
     ]
    }
   ],
   "source": [
    "import networkx as nx\n",
    "import pandas as pd\n",
    "from collections import defaultdict\n",
    "\n",
    "# Cargar el grafo desde el archivo GraphML\n",
    "G = nx.read_graphml('dungeons.graphml')\n",
    "\n",
    "# Obtener los nodos de tipo 'monstruo' y 'sala' (por ejemplo, los nodos de monstruo tienen un 'type' 'monstruo')\n",
    "monstruos = [n for n, d in G.nodes(data=True) if d.get('type') == 'monster']\n",
    "salas = [n for n, d in G.nodes(data=True) if d.get('type') == 'room']\n",
    "\n",
    "# Crear una matriz de adyacencia bipartita\n",
    "# En este caso, cada sala está conectada a los monstruos que la ocupan.\n",
    "sala_to_monstruos = defaultdict(list)\n",
    "\n",
    "for node in salas:\n",
    "    for neighbor in G.neighbors(node):\n",
    "        if G.nodes[neighbor].get('type') == 'monster':\n",
    "            sala_to_monstruos[node].append(neighbor)\n",
    "\n",
    "# Función para calcular la similitud de Jaccard entre dos conjuntos de monstruos\n",
    "def jaccard_similarity(set1, set2):\n",
    "    intersection = len(set1.intersection(set2))\n",
    "    union = len(set1.union(set2))\n",
    "    return intersection / union if union != 0 else 0\n",
    "\n",
    "# Recomendación de monstruos para una sala específica\n",
    "def recomendar_monstruos(sala, num_recomendaciones=5):\n",
    "    monstruos_sala = set(sala_to_monstruos[sala])\n",
    "    similitudes = []\n",
    "\n",
    "    # Calcular la similitud de Jaccard con todas las demás salas\n",
    "    for otra_sala, monstruos_otra_sala in sala_to_monstruos.items():\n",
    "        if otra_sala != sala:\n",
    "            monstruos_otra_sala_set = set(monstruos_otra_sala)\n",
    "            similitud = jaccard_similarity(monstruos_sala, monstruos_otra_sala_set)\n",
    "            similitudes.append((otra_sala, similitud, monstruos_otra_sala))\n",
    "\n",
    "    # Ordenar las salas por similitud y recomendar los monstruos de las salas más similares\n",
    "    similitudes.sort(key=lambda x: x[1], reverse=True)\n",
    "\n",
    "    recomendaciones = []\n",
    "    for _, _, monstruos_otra_sala in similitudes[:num_recomendaciones]:\n",
    "        for monstruo in monstruos_otra_sala:\n",
    "            if monstruo not in monstruos_sala:\n",
    "                recomendaciones.append(monstruo)\n",
    "        if len(recomendaciones) >= num_recomendaciones:\n",
    "            break\n",
    "\n",
    "    return recomendaciones[:num_recomendaciones]\n",
    "\n",
    "# Ejemplo de uso: recomendar monstruos para la sala con ID 'sala_1'\n",
    "recomendaciones = recomendar_monstruos('sala_1')\n",
    "print(f\"Recomendaciones de monstruos para la sala 'sala_1': {recomendaciones}\")"
   ]
  }
 ],
 "metadata": {
  "kernelspec": {
   "display_name": "Python 3 (ipykernel)",
   "language": "python",
   "name": "python3"
  },
  "language_info": {
   "codemirror_mode": {
    "name": "ipython",
    "version": 3
   },
   "file_extension": ".py",
   "mimetype": "text/x-python",
   "name": "python",
   "nbconvert_exporter": "python",
   "pygments_lexer": "ipython3",
   "version": "3.12.3"
  }
 },
 "nbformat": 4,
 "nbformat_minor": 4
}
